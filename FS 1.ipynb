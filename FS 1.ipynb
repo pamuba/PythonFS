{
 "cells": [
  {
   "cell_type": "code",
   "execution_count": 1,
   "id": "43c29eb8",
   "metadata": {},
   "outputs": [],
   "source": [
    "def func():\n",
    "    a = 10\n",
    "    return a"
   ]
  },
  {
   "cell_type": "code",
   "execution_count": 2,
   "id": "849fefb3",
   "metadata": {},
   "outputs": [
    {
     "data": {
      "text/plain": [
       "<function __main__.func()>"
      ]
     },
     "execution_count": 2,
     "metadata": {},
     "output_type": "execute_result"
    }
   ],
   "source": [
    "func"
   ]
  },
  {
   "cell_type": "code",
   "execution_count": 3,
   "id": "5d616ded",
   "metadata": {},
   "outputs": [
    {
     "data": {
      "text/plain": [
       "10"
      ]
     },
     "execution_count": 3,
     "metadata": {},
     "output_type": "execute_result"
    }
   ],
   "source": [
    "func()"
   ]
  },
  {
   "cell_type": "code",
   "execution_count": 4,
   "id": "f803c390",
   "metadata": {},
   "outputs": [
    {
     "data": {
      "text/plain": [
       "2580948432064"
      ]
     },
     "execution_count": 4,
     "metadata": {},
     "output_type": "execute_result"
    }
   ],
   "source": [
    "id(func)"
   ]
  },
  {
   "cell_type": "code",
   "execution_count": 5,
   "id": "ee8ef694",
   "metadata": {},
   "outputs": [
    {
     "data": {
      "text/plain": [
       "{'__name__': '__main__',\n",
       " '__doc__': 'Automatically created module for IPython interactive environment',\n",
       " '__package__': None,\n",
       " '__loader__': None,\n",
       " '__spec__': None,\n",
       " '__builtin__': <module 'builtins' (built-in)>,\n",
       " '__builtins__': <module 'builtins' (built-in)>,\n",
       " '_ih': ['',\n",
       "  'def func():\\n    a = 10\\n    return a',\n",
       "  'func',\n",
       "  'func()',\n",
       "  'id(func)',\n",
       "  'globals()'],\n",
       " '_oh': {2: <function __main__.func()>, 3: 10, 4: 2580948432064},\n",
       " '_dh': ['C:\\\\Users\\\\Partha.bora\\\\Documents'],\n",
       " 'In': ['',\n",
       "  'def func():\\n    a = 10\\n    return a',\n",
       "  'func',\n",
       "  'func()',\n",
       "  'id(func)',\n",
       "  'globals()'],\n",
       " 'Out': {2: <function __main__.func()>, 3: 10, 4: 2580948432064},\n",
       " 'get_ipython': <bound method InteractiveShell.get_ipython of <ipykernel.zmqshell.ZMQInteractiveShell object at 0x00000258EC485460>>,\n",
       " 'exit': <IPython.core.autocall.ZMQExitAutocall at 0x258ec808130>,\n",
       " 'quit': <IPython.core.autocall.ZMQExitAutocall at 0x258ec808130>,\n",
       " '_': 2580948432064,\n",
       " '__': 10,\n",
       " '___': <function __main__.func()>,\n",
       " '_i': 'id(func)',\n",
       " '_ii': 'func()',\n",
       " '_iii': 'func',\n",
       " '_i1': 'def func():\\n    a = 10\\n    return a',\n",
       " 'func': <function __main__.func()>,\n",
       " '_i2': 'func',\n",
       " '_2': <function __main__.func()>,\n",
       " '_i3': 'func()',\n",
       " '_3': 10,\n",
       " '_i4': 'id(func)',\n",
       " '_4': 2580948432064,\n",
       " '_i5': 'globals()'}"
      ]
     },
     "execution_count": 5,
     "metadata": {},
     "output_type": "execute_result"
    }
   ],
   "source": [
    "globals()"
   ]
  },
  {
   "cell_type": "code",
   "execution_count": 6,
   "id": "5d947b92",
   "metadata": {},
   "outputs": [],
   "source": [
    "f = globals()['func']"
   ]
  },
  {
   "cell_type": "code",
   "execution_count": 7,
   "id": "454ed94e",
   "metadata": {},
   "outputs": [
    {
     "data": {
      "text/plain": [
       "True"
      ]
     },
     "execution_count": 7,
     "metadata": {},
     "output_type": "execute_result"
    }
   ],
   "source": [
    "f is func"
   ]
  },
  {
   "cell_type": "code",
   "execution_count": 8,
   "id": "c59a3b6b",
   "metadata": {},
   "outputs": [
    {
     "data": {
      "text/plain": [
       "10"
      ]
     },
     "execution_count": 8,
     "metadata": {},
     "output_type": "execute_result"
    }
   ],
   "source": [
    "f()"
   ]
  },
  {
   "cell_type": "code",
   "execution_count": 9,
   "id": "672c052b",
   "metadata": {},
   "outputs": [
    {
     "data": {
      "text/plain": [
       "{'__name__': '__main__',\n",
       " '__doc__': 'Automatically created module for IPython interactive environment',\n",
       " '__package__': None,\n",
       " '__loader__': None,\n",
       " '__spec__': None,\n",
       " '__builtin__': <module 'builtins' (built-in)>,\n",
       " '__builtins__': <module 'builtins' (built-in)>,\n",
       " '_ih': ['',\n",
       "  'def func():\\n    a = 10\\n    return a',\n",
       "  'func',\n",
       "  'func()',\n",
       "  'id(func)',\n",
       "  'globals()',\n",
       "  \"f = globals()['func']\",\n",
       "  'f is func',\n",
       "  'f()',\n",
       "  'locals()'],\n",
       " '_oh': {2: <function __main__.func()>,\n",
       "  3: 10,\n",
       "  4: 2580948432064,\n",
       "  5: {...},\n",
       "  7: True,\n",
       "  8: 10},\n",
       " '_dh': ['C:\\\\Users\\\\Partha.bora\\\\Documents'],\n",
       " 'In': ['',\n",
       "  'def func():\\n    a = 10\\n    return a',\n",
       "  'func',\n",
       "  'func()',\n",
       "  'id(func)',\n",
       "  'globals()',\n",
       "  \"f = globals()['func']\",\n",
       "  'f is func',\n",
       "  'f()',\n",
       "  'locals()'],\n",
       " 'Out': {2: <function __main__.func()>,\n",
       "  3: 10,\n",
       "  4: 2580948432064,\n",
       "  5: {...},\n",
       "  7: True,\n",
       "  8: 10},\n",
       " 'get_ipython': <bound method InteractiveShell.get_ipython of <ipykernel.zmqshell.ZMQInteractiveShell object at 0x00000258EC485460>>,\n",
       " 'exit': <IPython.core.autocall.ZMQExitAutocall at 0x258ec808130>,\n",
       " 'quit': <IPython.core.autocall.ZMQExitAutocall at 0x258ec808130>,\n",
       " '_': 10,\n",
       " '__': True,\n",
       " '___': {...},\n",
       " '_i': 'f()',\n",
       " '_ii': 'f is func',\n",
       " '_iii': \"f = globals()['func']\",\n",
       " '_i1': 'def func():\\n    a = 10\\n    return a',\n",
       " 'func': <function __main__.func()>,\n",
       " '_i2': 'func',\n",
       " '_2': <function __main__.func()>,\n",
       " '_i3': 'func()',\n",
       " '_3': 10,\n",
       " '_i4': 'id(func)',\n",
       " '_4': 2580948432064,\n",
       " '_i5': 'globals()',\n",
       " '_5': {...},\n",
       " '_i6': \"f = globals()['func']\",\n",
       " 'f': <function __main__.func()>,\n",
       " '_i7': 'f is func',\n",
       " '_7': True,\n",
       " '_i8': 'f()',\n",
       " '_8': 10,\n",
       " '_i9': 'locals()'}"
      ]
     },
     "execution_count": 9,
     "metadata": {},
     "output_type": "execute_result"
    }
   ],
   "source": [
    "locals()"
   ]
  },
  {
   "cell_type": "code",
   "execution_count": 12,
   "id": "27a44fe5",
   "metadata": {},
   "outputs": [
    {
     "data": {
      "text/plain": [
       "True"
      ]
     },
     "execution_count": 12,
     "metadata": {},
     "output_type": "execute_result"
    }
   ],
   "source": [
    "locals() is globals()"
   ]
  },
  {
   "cell_type": "code",
   "execution_count": null,
   "id": "9c18412c",
   "metadata": {},
   "outputs": [],
   "source": []
  },
  {
   "cell_type": "code",
   "execution_count": 14,
   "id": "1adf0688",
   "metadata": {},
   "outputs": [],
   "source": [
    "a = 100"
   ]
  },
  {
   "cell_type": "code",
   "execution_count": 15,
   "id": "7c3d3560",
   "metadata": {},
   "outputs": [
    {
     "data": {
      "text/plain": [
       "{'__name__': '__main__',\n",
       " '__doc__': 'Automatically created module for IPython interactive environment',\n",
       " '__package__': None,\n",
       " '__loader__': None,\n",
       " '__spec__': None,\n",
       " '__builtin__': <module 'builtins' (built-in)>,\n",
       " '__builtins__': <module 'builtins' (built-in)>,\n",
       " '_ih': ['',\n",
       "  'def func():\\n    a = 10\\n    return a',\n",
       "  'func',\n",
       "  'func()',\n",
       "  'id(func)',\n",
       "  'globals()',\n",
       "  \"f = globals()['func']\",\n",
       "  'f is func',\n",
       "  'f()',\n",
       "  'locals()',\n",
       "  'locals() is gloabsl()',\n",
       "  'locals() is gloabls()',\n",
       "  'locals() is globals()',\n",
       "  'a = 100',\n",
       "  'a = 100',\n",
       "  'globals()'],\n",
       " '_oh': {2: <function __main__.func()>,\n",
       "  3: 10,\n",
       "  4: 2580948432064,\n",
       "  5: {...},\n",
       "  7: True,\n",
       "  8: 10,\n",
       "  9: {...},\n",
       "  12: True},\n",
       " '_dh': ['C:\\\\Users\\\\Partha.bora\\\\Documents'],\n",
       " 'In': ['',\n",
       "  'def func():\\n    a = 10\\n    return a',\n",
       "  'func',\n",
       "  'func()',\n",
       "  'id(func)',\n",
       "  'globals()',\n",
       "  \"f = globals()['func']\",\n",
       "  'f is func',\n",
       "  'f()',\n",
       "  'locals()',\n",
       "  'locals() is gloabsl()',\n",
       "  'locals() is gloabls()',\n",
       "  'locals() is globals()',\n",
       "  'a = 100',\n",
       "  'a = 100',\n",
       "  'globals()'],\n",
       " 'Out': {2: <function __main__.func()>,\n",
       "  3: 10,\n",
       "  4: 2580948432064,\n",
       "  5: {...},\n",
       "  7: True,\n",
       "  8: 10,\n",
       "  9: {...},\n",
       "  12: True},\n",
       " 'get_ipython': <bound method InteractiveShell.get_ipython of <ipykernel.zmqshell.ZMQInteractiveShell object at 0x00000258EC485460>>,\n",
       " 'exit': <IPython.core.autocall.ZMQExitAutocall at 0x258ec808130>,\n",
       " 'quit': <IPython.core.autocall.ZMQExitAutocall at 0x258ec808130>,\n",
       " '_': True,\n",
       " '__': {...},\n",
       " '___': 10,\n",
       " '_i': 'a = 100',\n",
       " '_ii': 'a = 100',\n",
       " '_iii': 'locals() is globals()',\n",
       " '_i1': 'def func():\\n    a = 10\\n    return a',\n",
       " 'func': <function __main__.func()>,\n",
       " '_i2': 'func',\n",
       " '_2': <function __main__.func()>,\n",
       " '_i3': 'func()',\n",
       " '_3': 10,\n",
       " '_i4': 'id(func)',\n",
       " '_4': 2580948432064,\n",
       " '_i5': 'globals()',\n",
       " '_5': {...},\n",
       " '_i6': \"f = globals()['func']\",\n",
       " 'f': <function __main__.func()>,\n",
       " '_i7': 'f is func',\n",
       " '_7': True,\n",
       " '_i8': 'f()',\n",
       " '_8': 10,\n",
       " '_i9': 'locals()',\n",
       " '_9': {...},\n",
       " '_i10': 'locals() is gloabsl()',\n",
       " '_i11': 'locals() is gloabls()',\n",
       " '_i12': 'locals() is globals()',\n",
       " '_12': True,\n",
       " '_i13': 'a = 100',\n",
       " 'a': 100,\n",
       " '_i14': 'a = 100',\n",
       " '_i15': 'globals()'}"
      ]
     },
     "execution_count": 15,
     "metadata": {},
     "output_type": "execute_result"
    }
   ],
   "source": [
    "globals()"
   ]
  },
  {
   "cell_type": "code",
   "execution_count": 18,
   "id": "5aff8b2c",
   "metadata": {},
   "outputs": [],
   "source": [
    "def func():\n",
    "    a = 10\n",
    "    b = 20\n",
    "    print(locals())"
   ]
  },
  {
   "cell_type": "code",
   "execution_count": 19,
   "id": "23545605",
   "metadata": {},
   "outputs": [
    {
     "name": "stdout",
     "output_type": "stream",
     "text": [
      "{'a': 10, 'b': 20}\n"
     ]
    }
   ],
   "source": [
    "func()"
   ]
  },
  {
   "cell_type": "code",
   "execution_count": 20,
   "id": "0b658852",
   "metadata": {},
   "outputs": [],
   "source": [
    "import math"
   ]
  },
  {
   "cell_type": "code",
   "execution_count": 21,
   "id": "7eea6d3a",
   "metadata": {},
   "outputs": [
    {
     "data": {
      "text/plain": [
       "<module 'math' (built-in)>"
      ]
     },
     "execution_count": 21,
     "metadata": {},
     "output_type": "execute_result"
    }
   ],
   "source": [
    "math"
   ]
  },
  {
   "cell_type": "code",
   "execution_count": 22,
   "id": "06519b12",
   "metadata": {},
   "outputs": [],
   "source": [
    "import fractions"
   ]
  },
  {
   "cell_type": "code",
   "execution_count": 24,
   "id": "edc167cb",
   "metadata": {},
   "outputs": [
    {
     "data": {
      "text/plain": [
       "<module 'fractions' from 'D:\\\\Users\\\\Partha.bora\\\\Anaconda3\\\\lib\\\\fractions.py'>"
      ]
     },
     "execution_count": 24,
     "metadata": {},
     "output_type": "execute_result"
    }
   ],
   "source": [
    "fractions"
   ]
  },
  {
   "cell_type": "code",
   "execution_count": 25,
   "id": "60e0ab17",
   "metadata": {},
   "outputs": [],
   "source": [
    "j = math"
   ]
  },
  {
   "cell_type": "code",
   "execution_count": 26,
   "id": "cd062947",
   "metadata": {},
   "outputs": [
    {
     "data": {
      "text/plain": [
       "1.4142135623730951"
      ]
     },
     "execution_count": 26,
     "metadata": {},
     "output_type": "execute_result"
    }
   ],
   "source": [
    "j.sqrt(2)"
   ]
  },
  {
   "cell_type": "code",
   "execution_count": 27,
   "id": "63d2e352",
   "metadata": {},
   "outputs": [
    {
     "data": {
      "text/plain": [
       "True"
      ]
     },
     "execution_count": 27,
     "metadata": {},
     "output_type": "execute_result"
    }
   ],
   "source": [
    "j is math"
   ]
  },
  {
   "cell_type": "code",
   "execution_count": 28,
   "id": "d6d72eaf",
   "metadata": {},
   "outputs": [
    {
     "data": {
      "text/plain": [
       "{'__name__': '__main__',\n",
       " '__doc__': 'Automatically created module for IPython interactive environment',\n",
       " '__package__': None,\n",
       " '__loader__': None,\n",
       " '__spec__': None,\n",
       " '__builtin__': <module 'builtins' (built-in)>,\n",
       " '__builtins__': <module 'builtins' (built-in)>,\n",
       " '_ih': ['',\n",
       "  'def func():\\n    a = 10\\n    return a',\n",
       "  'func',\n",
       "  'func()',\n",
       "  'id(func)',\n",
       "  'globals()',\n",
       "  \"f = globals()['func']\",\n",
       "  'f is func',\n",
       "  'f()',\n",
       "  'locals()',\n",
       "  'locals() is gloabsl()',\n",
       "  'locals() is gloabls()',\n",
       "  'locals() is globals()',\n",
       "  'a = 100',\n",
       "  'a = 100',\n",
       "  'globals()',\n",
       "  'def func():\\n    a = 10\\n    b = 20\\n    locals()',\n",
       "  'func()',\n",
       "  'def func():\\n    a = 10\\n    b = 20\\n    print(locals())',\n",
       "  'func()',\n",
       "  'import math',\n",
       "  'math',\n",
       "  'import fractions',\n",
       "  'fractiosn',\n",
       "  'fractions',\n",
       "  'j = math',\n",
       "  'j.sqrt(2)',\n",
       "  'j is math',\n",
       "  'globals()'],\n",
       " '_oh': {2: <function __main__.func()>,\n",
       "  3: 10,\n",
       "  4: 2580948432064,\n",
       "  5: {...},\n",
       "  7: True,\n",
       "  8: 10,\n",
       "  9: {...},\n",
       "  12: True,\n",
       "  15: {...},\n",
       "  21: <module 'math' (built-in)>,\n",
       "  24: <module 'fractions' from 'D:\\\\Users\\\\Partha.bora\\\\Anaconda3\\\\lib\\\\fractions.py'>,\n",
       "  26: 1.4142135623730951,\n",
       "  27: True},\n",
       " '_dh': ['C:\\\\Users\\\\Partha.bora\\\\Documents'],\n",
       " 'In': ['',\n",
       "  'def func():\\n    a = 10\\n    return a',\n",
       "  'func',\n",
       "  'func()',\n",
       "  'id(func)',\n",
       "  'globals()',\n",
       "  \"f = globals()['func']\",\n",
       "  'f is func',\n",
       "  'f()',\n",
       "  'locals()',\n",
       "  'locals() is gloabsl()',\n",
       "  'locals() is gloabls()',\n",
       "  'locals() is globals()',\n",
       "  'a = 100',\n",
       "  'a = 100',\n",
       "  'globals()',\n",
       "  'def func():\\n    a = 10\\n    b = 20\\n    locals()',\n",
       "  'func()',\n",
       "  'def func():\\n    a = 10\\n    b = 20\\n    print(locals())',\n",
       "  'func()',\n",
       "  'import math',\n",
       "  'math',\n",
       "  'import fractions',\n",
       "  'fractiosn',\n",
       "  'fractions',\n",
       "  'j = math',\n",
       "  'j.sqrt(2)',\n",
       "  'j is math',\n",
       "  'globals()'],\n",
       " 'Out': {2: <function __main__.func()>,\n",
       "  3: 10,\n",
       "  4: 2580948432064,\n",
       "  5: {...},\n",
       "  7: True,\n",
       "  8: 10,\n",
       "  9: {...},\n",
       "  12: True,\n",
       "  15: {...},\n",
       "  21: <module 'math' (built-in)>,\n",
       "  24: <module 'fractions' from 'D:\\\\Users\\\\Partha.bora\\\\Anaconda3\\\\lib\\\\fractions.py'>,\n",
       "  26: 1.4142135623730951,\n",
       "  27: True},\n",
       " 'get_ipython': <bound method InteractiveShell.get_ipython of <ipykernel.zmqshell.ZMQInteractiveShell object at 0x00000258EC485460>>,\n",
       " 'exit': <IPython.core.autocall.ZMQExitAutocall at 0x258ec808130>,\n",
       " 'quit': <IPython.core.autocall.ZMQExitAutocall at 0x258ec808130>,\n",
       " '_': True,\n",
       " '__': 1.4142135623730951,\n",
       " '___': <module 'fractions' from 'D:\\\\Users\\\\Partha.bora\\\\Anaconda3\\\\lib\\\\fractions.py'>,\n",
       " '_i': 'j is math',\n",
       " '_ii': 'j.sqrt(2)',\n",
       " '_iii': 'j = math',\n",
       " '_i1': 'def func():\\n    a = 10\\n    return a',\n",
       " 'func': <function __main__.func()>,\n",
       " '_i2': 'func',\n",
       " '_2': <function __main__.func()>,\n",
       " '_i3': 'func()',\n",
       " '_3': 10,\n",
       " '_i4': 'id(func)',\n",
       " '_4': 2580948432064,\n",
       " '_i5': 'globals()',\n",
       " '_5': {...},\n",
       " '_i6': \"f = globals()['func']\",\n",
       " 'f': <function __main__.func()>,\n",
       " '_i7': 'f is func',\n",
       " '_7': True,\n",
       " '_i8': 'f()',\n",
       " '_8': 10,\n",
       " '_i9': 'locals()',\n",
       " '_9': {...},\n",
       " '_i10': 'locals() is gloabsl()',\n",
       " '_i11': 'locals() is gloabls()',\n",
       " '_i12': 'locals() is globals()',\n",
       " '_12': True,\n",
       " '_i13': 'a = 100',\n",
       " 'a': 100,\n",
       " '_i14': 'a = 100',\n",
       " '_i15': 'globals()',\n",
       " '_15': {...},\n",
       " '_i16': 'def func():\\n    a = 10\\n    b = 20\\n    locals()',\n",
       " '_i17': 'func()',\n",
       " '_i18': 'def func():\\n    a = 10\\n    b = 20\\n    print(locals())',\n",
       " '_i19': 'func()',\n",
       " '_i20': 'import math',\n",
       " 'math': <module 'math' (built-in)>,\n",
       " '_i21': 'math',\n",
       " '_21': <module 'math' (built-in)>,\n",
       " '_i22': 'import fractions',\n",
       " 'fractions': <module 'fractions' from 'D:\\\\Users\\\\Partha.bora\\\\Anaconda3\\\\lib\\\\fractions.py'>,\n",
       " '_i23': 'fractiosn',\n",
       " '_i24': 'fractions',\n",
       " '_24': <module 'fractions' from 'D:\\\\Users\\\\Partha.bora\\\\Anaconda3\\\\lib\\\\fractions.py'>,\n",
       " '_i25': 'j = math',\n",
       " 'j': <module 'math' (built-in)>,\n",
       " '_i26': 'j.sqrt(2)',\n",
       " '_26': 1.4142135623730951,\n",
       " '_i27': 'j is math',\n",
       " '_27': True,\n",
       " '_i28': 'globals()'}"
      ]
     },
     "execution_count": 28,
     "metadata": {},
     "output_type": "execute_result"
    }
   ],
   "source": [
    "globals()"
   ]
  },
  {
   "cell_type": "code",
   "execution_count": 30,
   "id": "ccf3b90e",
   "metadata": {},
   "outputs": [],
   "source": [
    "mod_math = globals()['math']"
   ]
  },
  {
   "cell_type": "code",
   "execution_count": 31,
   "id": "7465c9d5",
   "metadata": {},
   "outputs": [
    {
     "data": {
      "text/plain": [
       "1.4142135623730951"
      ]
     },
     "execution_count": 31,
     "metadata": {},
     "output_type": "execute_result"
    }
   ],
   "source": [
    "mod_math.sqrt(2)"
   ]
  },
  {
   "cell_type": "code",
   "execution_count": 32,
   "id": "f73bc66d",
   "metadata": {},
   "outputs": [
    {
     "data": {
      "text/plain": [
       "2580879163456"
      ]
     },
     "execution_count": 32,
     "metadata": {},
     "output_type": "execute_result"
    }
   ],
   "source": [
    "id(math)"
   ]
  },
  {
   "cell_type": "code",
   "execution_count": 33,
   "id": "345c1cad",
   "metadata": {},
   "outputs": [],
   "source": [
    "import math"
   ]
  },
  {
   "cell_type": "code",
   "execution_count": 34,
   "id": "86954ff8",
   "metadata": {},
   "outputs": [
    {
     "data": {
      "text/plain": [
       "2580879163456"
      ]
     },
     "execution_count": 34,
     "metadata": {},
     "output_type": "execute_result"
    }
   ],
   "source": [
    "id(math)"
   ]
  },
  {
   "cell_type": "code",
   "execution_count": 35,
   "id": "442cac55",
   "metadata": {},
   "outputs": [],
   "source": [
    "import sys"
   ]
  },
  {
   "cell_type": "code",
   "execution_count": 36,
   "id": "7ae97de9",
   "metadata": {},
   "outputs": [
    {
     "data": {
      "text/plain": [
       "{'sys': <module 'sys' (built-in)>,\n",
       " 'builtins': <module 'builtins' (built-in)>,\n",
       " '_frozen_importlib': <module 'importlib._bootstrap' (frozen)>,\n",
       " '_imp': <module '_imp' (built-in)>,\n",
       " '_thread': <module '_thread' (built-in)>,\n",
       " '_warnings': <module '_warnings' (built-in)>,\n",
       " '_weakref': <module '_weakref' (built-in)>,\n",
       " '_io': <module 'io' (built-in)>,\n",
       " 'marshal': <module 'marshal' (built-in)>,\n",
       " 'nt': <module 'nt' (built-in)>,\n",
       " 'winreg': <module 'winreg' (built-in)>,\n",
       " '_frozen_importlib_external': <module 'importlib._bootstrap_external' (frozen)>,\n",
       " 'time': <module 'time' (built-in)>,\n",
       " 'zipimport': <module 'zipimport' (frozen)>,\n",
       " '_codecs': <module '_codecs' (built-in)>,\n",
       " 'codecs': <module 'codecs' from 'D:\\\\Users\\\\Partha.bora\\\\Anaconda3\\\\lib\\\\codecs.py'>,\n",
       " 'encodings.aliases': <module 'encodings.aliases' from 'D:\\\\Users\\\\Partha.bora\\\\Anaconda3\\\\lib\\\\encodings\\\\aliases.py'>,\n",
       " 'encodings': <module 'encodings' from 'D:\\\\Users\\\\Partha.bora\\\\Anaconda3\\\\lib\\\\encodings\\\\__init__.py'>,\n",
       " 'encodings.utf_8': <module 'encodings.utf_8' from 'D:\\\\Users\\\\Partha.bora\\\\Anaconda3\\\\lib\\\\encodings\\\\utf_8.py'>,\n",
       " 'encodings.cp1252': <module 'encodings.cp1252' from 'D:\\\\Users\\\\Partha.bora\\\\Anaconda3\\\\lib\\\\encodings\\\\cp1252.py'>,\n",
       " '_signal': <module '_signal' (built-in)>,\n",
       " 'encodings.latin_1': <module 'encodings.latin_1' from 'D:\\\\Users\\\\Partha.bora\\\\Anaconda3\\\\lib\\\\encodings\\\\latin_1.py'>,\n",
       " '_abc': <module '_abc' (built-in)>,\n",
       " 'abc': <module 'abc' from 'D:\\\\Users\\\\Partha.bora\\\\Anaconda3\\\\lib\\\\abc.py'>,\n",
       " 'io': <module 'io' from 'D:\\\\Users\\\\Partha.bora\\\\Anaconda3\\\\lib\\\\io.py'>,\n",
       " '__main__': <module '__main__'>,\n",
       " '_stat': <module '_stat' (built-in)>,\n",
       " 'stat': <module 'stat' from 'D:\\\\Users\\\\Partha.bora\\\\Anaconda3\\\\lib\\\\stat.py'>,\n",
       " '_collections_abc': <module '_collections_abc' from 'D:\\\\Users\\\\Partha.bora\\\\Anaconda3\\\\lib\\\\_collections_abc.py'>,\n",
       " 'genericpath': <module 'genericpath' from 'D:\\\\Users\\\\Partha.bora\\\\Anaconda3\\\\lib\\\\genericpath.py'>,\n",
       " 'ntpath': <module 'ntpath' from 'D:\\\\Users\\\\Partha.bora\\\\Anaconda3\\\\lib\\\\ntpath.py'>,\n",
       " 'os.path': <module 'ntpath' from 'D:\\\\Users\\\\Partha.bora\\\\Anaconda3\\\\lib\\\\ntpath.py'>,\n",
       " 'os': <module 'os' from 'D:\\\\Users\\\\Partha.bora\\\\Anaconda3\\\\lib\\\\os.py'>,\n",
       " '_sitebuiltins': <module '_sitebuiltins' from 'D:\\\\Users\\\\Partha.bora\\\\Anaconda3\\\\lib\\\\_sitebuiltins.py'>,\n",
       " '_locale': <module '_locale' (built-in)>,\n",
       " '_bootlocale': <module '_bootlocale' from 'D:\\\\Users\\\\Partha.bora\\\\Anaconda3\\\\lib\\\\_bootlocale.py'>,\n",
       " '_distutils_hack': <module '_distutils_hack' from 'D:\\\\Users\\\\Partha.bora\\\\Anaconda3\\\\lib\\\\site-packages\\\\_distutils_hack\\\\__init__.py'>,\n",
       " 'types': <module 'types' from 'D:\\\\Users\\\\Partha.bora\\\\Anaconda3\\\\lib\\\\types.py'>,\n",
       " 'importlib._bootstrap': <module 'importlib._bootstrap' (frozen)>,\n",
       " 'importlib._bootstrap_external': <module 'importlib._bootstrap_external' (frozen)>,\n",
       " 'warnings': <module 'warnings' from 'D:\\\\Users\\\\Partha.bora\\\\Anaconda3\\\\lib\\\\warnings.py'>,\n",
       " 'importlib': <module 'importlib' from 'D:\\\\Users\\\\Partha.bora\\\\Anaconda3\\\\lib\\\\importlib\\\\__init__.py'>,\n",
       " 'importlib.machinery': <module 'importlib.machinery' from 'D:\\\\Users\\\\Partha.bora\\\\Anaconda3\\\\lib\\\\importlib\\\\machinery.py'>,\n",
       " '_heapq': <module '_heapq' (built-in)>,\n",
       " 'heapq': <module 'heapq' from 'D:\\\\Users\\\\Partha.bora\\\\Anaconda3\\\\lib\\\\heapq.py'>,\n",
       " 'itertools': <module 'itertools' (built-in)>,\n",
       " 'keyword': <module 'keyword' from 'D:\\\\Users\\\\Partha.bora\\\\Anaconda3\\\\lib\\\\keyword.py'>,\n",
       " '_operator': <module '_operator' (built-in)>,\n",
       " 'operator': <module 'operator' from 'D:\\\\Users\\\\Partha.bora\\\\Anaconda3\\\\lib\\\\operator.py'>,\n",
       " 'reprlib': <module 'reprlib' from 'D:\\\\Users\\\\Partha.bora\\\\Anaconda3\\\\lib\\\\reprlib.py'>,\n",
       " '_collections': <module '_collections' (built-in)>,\n",
       " 'collections': <module 'collections' from 'D:\\\\Users\\\\Partha.bora\\\\Anaconda3\\\\lib\\\\collections\\\\__init__.py'>,\n",
       " 'collections.abc': <module 'collections.abc' from 'D:\\\\Users\\\\Partha.bora\\\\Anaconda3\\\\lib\\\\collections\\\\abc.py'>,\n",
       " '_functools': <module '_functools' (built-in)>,\n",
       " 'functools': <module 'functools' from 'D:\\\\Users\\\\Partha.bora\\\\Anaconda3\\\\lib\\\\functools.py'>,\n",
       " 'contextlib': <module 'contextlib' from 'D:\\\\Users\\\\Partha.bora\\\\Anaconda3\\\\lib\\\\contextlib.py'>,\n",
       " 'enum': <module 'enum' from 'D:\\\\Users\\\\Partha.bora\\\\Anaconda3\\\\lib\\\\enum.py'>,\n",
       " '_sre': <module '_sre' (built-in)>,\n",
       " 'sre_constants': <module 'sre_constants' from 'D:\\\\Users\\\\Partha.bora\\\\Anaconda3\\\\lib\\\\sre_constants.py'>,\n",
       " 'sre_parse': <module 'sre_parse' from 'D:\\\\Users\\\\Partha.bora\\\\Anaconda3\\\\lib\\\\sre_parse.py'>,\n",
       " 'sre_compile': <module 'sre_compile' from 'D:\\\\Users\\\\Partha.bora\\\\Anaconda3\\\\lib\\\\sre_compile.py'>,\n",
       " 'copyreg': <module 'copyreg' from 'D:\\\\Users\\\\Partha.bora\\\\Anaconda3\\\\lib\\\\copyreg.py'>,\n",
       " 're': <module 're' from 'D:\\\\Users\\\\Partha.bora\\\\Anaconda3\\\\lib\\\\re.py'>,\n",
       " 'typing.io': typing.io,\n",
       " 'typing.re': typing.re,\n",
       " 'typing': <module 'typing' from 'D:\\\\Users\\\\Partha.bora\\\\Anaconda3\\\\lib\\\\typing.py'>,\n",
       " 'importlib.abc': <module 'importlib.abc' from 'D:\\\\Users\\\\Partha.bora\\\\Anaconda3\\\\lib\\\\importlib\\\\abc.py'>,\n",
       " 'importlib.util': <module 'importlib.util' from 'D:\\\\Users\\\\Partha.bora\\\\Anaconda3\\\\lib\\\\importlib\\\\util.py'>,\n",
       " 'mpl_toolkits': <module 'mpl_toolkits' (namespace)>,\n",
       " 'sphinxcontrib': <module 'sphinxcontrib' (namespace)>,\n",
       " 'zope': <module 'zope' from 'D:\\\\Users\\\\Partha.bora\\\\Anaconda3\\\\lib\\\\site-packages\\\\zope\\\\__init__.py'>,\n",
       " 'site': <module 'site' from 'D:\\\\Users\\\\Partha.bora\\\\Anaconda3\\\\lib\\\\site.py'>,\n",
       " '_weakrefset': <module '_weakrefset' from 'D:\\\\Users\\\\Partha.bora\\\\Anaconda3\\\\lib\\\\_weakrefset.py'>,\n",
       " 'weakref': <module 'weakref' from 'D:\\\\Users\\\\Partha.bora\\\\Anaconda3\\\\lib\\\\weakref.py'>,\n",
       " 'pkgutil': <module 'pkgutil' from 'D:\\\\Users\\\\Partha.bora\\\\Anaconda3\\\\lib\\\\pkgutil.py'>,\n",
       " 'runpy': <module 'runpy' from 'D:\\\\Users\\\\Partha.bora\\\\Anaconda3\\\\lib\\\\runpy.py'>,\n",
       " 'ipykernel._version': <module 'ipykernel._version' from 'D:\\\\Users\\\\Partha.bora\\\\Anaconda3\\\\lib\\\\site-packages\\\\ipykernel\\\\_version.py'>,\n",
       " '_json': <module '_json' (built-in)>,\n",
       " 'json.scanner': <module 'json.scanner' from 'D:\\\\Users\\\\Partha.bora\\\\Anaconda3\\\\lib\\\\json\\\\scanner.py'>,\n",
       " 'json.decoder': <module 'json.decoder' from 'D:\\\\Users\\\\Partha.bora\\\\Anaconda3\\\\lib\\\\json\\\\decoder.py'>,\n",
       " 'json.encoder': <module 'json.encoder' from 'D:\\\\Users\\\\Partha.bora\\\\Anaconda3\\\\lib\\\\json\\\\encoder.py'>,\n",
       " 'json': <module 'json' from 'D:\\\\Users\\\\Partha.bora\\\\Anaconda3\\\\lib\\\\json\\\\__init__.py'>,\n",
       " 'errno': <module 'errno' (built-in)>,\n",
       " 'signal': <module 'signal' from 'D:\\\\Users\\\\Partha.bora\\\\Anaconda3\\\\lib\\\\signal.py'>,\n",
       " 'threading': <module 'threading' from 'D:\\\\Users\\\\Partha.bora\\\\Anaconda3\\\\lib\\\\threading.py'>,\n",
       " 'msvcrt': <module 'msvcrt' (built-in)>,\n",
       " '_winapi': <module '_winapi' (built-in)>,\n",
       " 'subprocess': <module 'subprocess' from 'D:\\\\Users\\\\Partha.bora\\\\Anaconda3\\\\lib\\\\subprocess.py'>,\n",
       " 'jupyter_client._version': <module 'jupyter_client._version' from 'D:\\\\Users\\\\Partha.bora\\\\Anaconda3\\\\lib\\\\site-packages\\\\jupyter_client\\\\_version.py'>,\n",
       " '_ast': <module '_ast' (built-in)>,\n",
       " 'ast': <module 'ast' from 'D:\\\\Users\\\\Partha.bora\\\\Anaconda3\\\\lib\\\\ast.py'>,\n",
       " '_opcode': <module '_opcode' (built-in)>,\n",
       " 'opcode': <module 'opcode' from 'D:\\\\Users\\\\Partha.bora\\\\Anaconda3\\\\lib\\\\opcode.py'>,\n",
       " 'dis': <module 'dis' from 'D:\\\\Users\\\\Partha.bora\\\\Anaconda3\\\\lib\\\\dis.py'>,\n",
       " 'token': <module 'token' from 'D:\\\\Users\\\\Partha.bora\\\\Anaconda3\\\\lib\\\\token.py'>,\n",
       " 'tokenize': <module 'tokenize' from 'D:\\\\Users\\\\Partha.bora\\\\Anaconda3\\\\lib\\\\tokenize.py'>,\n",
       " 'linecache': <module 'linecache' from 'D:\\\\Users\\\\Partha.bora\\\\Anaconda3\\\\lib\\\\linecache.py'>,\n",
       " 'inspect': <module 'inspect' from 'D:\\\\Users\\\\Partha.bora\\\\Anaconda3\\\\lib\\\\inspect.py'>,\n",
       " 'traitlets.utils': <module 'traitlets.utils' from 'D:\\\\Users\\\\Partha.bora\\\\Anaconda3\\\\lib\\\\site-packages\\\\traitlets\\\\utils\\\\__init__.py'>,\n",
       " 'traitlets.utils.getargspec': <module 'traitlets.utils.getargspec' from 'D:\\\\Users\\\\Partha.bora\\\\Anaconda3\\\\lib\\\\site-packages\\\\traitlets\\\\utils\\\\getargspec.py'>,\n",
       " 'traitlets.utils.importstring': <module 'traitlets.utils.importstring' from 'D:\\\\Users\\\\Partha.bora\\\\Anaconda3\\\\lib\\\\site-packages\\\\traitlets\\\\utils\\\\importstring.py'>,\n",
       " 'traitlets.utils.sentinel': <module 'traitlets.utils.sentinel' from 'D:\\\\Users\\\\Partha.bora\\\\Anaconda3\\\\lib\\\\site-packages\\\\traitlets\\\\utils\\\\sentinel.py'>,\n",
       " 'traitlets.utils.bunch': <module 'traitlets.utils.bunch' from 'D:\\\\Users\\\\Partha.bora\\\\Anaconda3\\\\lib\\\\site-packages\\\\traitlets\\\\utils\\\\bunch.py'>,\n",
       " 'traitlets.utils.descriptions': <module 'traitlets.utils.descriptions' from 'D:\\\\Users\\\\Partha.bora\\\\Anaconda3\\\\lib\\\\site-packages\\\\traitlets\\\\utils\\\\descriptions.py'>,\n",
       " 'traitlets.traitlets': <module 'traitlets.traitlets' from 'D:\\\\Users\\\\Partha.bora\\\\Anaconda3\\\\lib\\\\site-packages\\\\traitlets\\\\traitlets.py'>,\n",
       " 'copy': <module 'copy' from 'D:\\\\Users\\\\Partha.bora\\\\Anaconda3\\\\lib\\\\copy.py'>,\n",
       " 'traitlets.utils.decorators': <module 'traitlets.utils.decorators' from 'D:\\\\Users\\\\Partha.bora\\\\Anaconda3\\\\lib\\\\site-packages\\\\traitlets\\\\utils\\\\decorators.py'>,\n",
       " 'traitlets._version': <module 'traitlets._version' from 'D:\\\\Users\\\\Partha.bora\\\\Anaconda3\\\\lib\\\\site-packages\\\\traitlets\\\\_version.py'>,\n",
       " 'traitlets': <module 'traitlets' from 'D:\\\\Users\\\\Partha.bora\\\\Anaconda3\\\\lib\\\\site-packages\\\\traitlets\\\\__init__.py'>,\n",
       " 'concurrent': <module 'concurrent' from 'D:\\\\Users\\\\Partha.bora\\\\Anaconda3\\\\lib\\\\concurrent\\\\__init__.py'>,\n",
       " 'traceback': <module 'traceback' from 'D:\\\\Users\\\\Partha.bora\\\\Anaconda3\\\\lib\\\\traceback.py'>,\n",
       " '_string': <module '_string' (built-in)>,\n",
       " 'string': <module 'string' from 'D:\\\\Users\\\\Partha.bora\\\\Anaconda3\\\\lib\\\\string.py'>,\n",
       " 'atexit': <module 'atexit' (built-in)>,\n",
       " 'logging': <module 'logging' from 'D:\\\\Users\\\\Partha.bora\\\\Anaconda3\\\\lib\\\\logging\\\\__init__.py'>,\n",
       " 'concurrent.futures._base': <module 'concurrent.futures._base' from 'D:\\\\Users\\\\Partha.bora\\\\Anaconda3\\\\lib\\\\concurrent\\\\futures\\\\_base.py'>,\n",
       " 'concurrent.futures': <module 'concurrent.futures' from 'D:\\\\Users\\\\Partha.bora\\\\Anaconda3\\\\lib\\\\concurrent\\\\futures\\\\__init__.py'>,\n",
       " '_socket': <module '_socket' from 'D:\\\\Users\\\\Partha.bora\\\\Anaconda3\\\\DLLs\\\\_socket.pyd'>,\n",
       " 'math': <module 'math' (built-in)>,\n",
       " 'select': <module 'select' from 'D:\\\\Users\\\\Partha.bora\\\\Anaconda3\\\\DLLs\\\\select.pyd'>,\n",
       " 'selectors': <module 'selectors' from 'D:\\\\Users\\\\Partha.bora\\\\Anaconda3\\\\lib\\\\selectors.py'>,\n",
       " 'socket': <module 'socket' from 'D:\\\\Users\\\\Partha.bora\\\\Anaconda3\\\\lib\\\\socket.py'>,\n",
       " '_ssl': <module '_ssl' from 'D:\\\\Users\\\\Partha.bora\\\\Anaconda3\\\\DLLs\\\\_ssl.pyd'>,\n",
       " '_struct': <module '_struct' (built-in)>,\n",
       " 'struct': <module 'struct' from 'D:\\\\Users\\\\Partha.bora\\\\Anaconda3\\\\lib\\\\struct.py'>,\n",
       " 'binascii': <module 'binascii' (built-in)>,\n",
       " 'base64': <module 'base64' from 'D:\\\\Users\\\\Partha.bora\\\\Anaconda3\\\\lib\\\\base64.py'>,\n",
       " 'ssl': <module 'ssl' from 'D:\\\\Users\\\\Partha.bora\\\\Anaconda3\\\\lib\\\\ssl.py'>,\n",
       " 'asyncio.constants': <module 'asyncio.constants' from 'D:\\\\Users\\\\Partha.bora\\\\Anaconda3\\\\lib\\\\asyncio\\\\constants.py'>,\n",
       " 'asyncio.format_helpers': <module 'asyncio.format_helpers' from 'D:\\\\Users\\\\Partha.bora\\\\Anaconda3\\\\lib\\\\asyncio\\\\format_helpers.py'>,\n",
       " 'asyncio.base_futures': <module 'asyncio.base_futures' from 'D:\\\\Users\\\\Partha.bora\\\\Anaconda3\\\\lib\\\\asyncio\\\\base_futures.py'>,\n",
       " 'asyncio.log': <module 'asyncio.log' from 'D:\\\\Users\\\\Partha.bora\\\\Anaconda3\\\\lib\\\\asyncio\\\\log.py'>,\n",
       " 'asyncio.coroutines': <module 'asyncio.coroutines' from 'D:\\\\Users\\\\Partha.bora\\\\Anaconda3\\\\lib\\\\asyncio\\\\coroutines.py'>,\n",
       " '_contextvars': <module '_contextvars' (built-in)>,\n",
       " 'contextvars': <module 'contextvars' from 'D:\\\\Users\\\\Partha.bora\\\\Anaconda3\\\\lib\\\\contextvars.py'>,\n",
       " 'asyncio.exceptions': <module 'asyncio.exceptions' from 'D:\\\\Users\\\\Partha.bora\\\\Anaconda3\\\\lib\\\\asyncio\\\\exceptions.py'>,\n",
       " 'asyncio.base_tasks': <module 'asyncio.base_tasks' from 'D:\\\\Users\\\\Partha.bora\\\\Anaconda3\\\\lib\\\\asyncio\\\\base_tasks.py'>,\n",
       " '_asyncio': <module '_asyncio' from 'D:\\\\Users\\\\Partha.bora\\\\Anaconda3\\\\DLLs\\\\_asyncio.pyd'>,\n",
       " 'asyncio.events': <module 'asyncio.events' from 'D:\\\\Users\\\\Partha.bora\\\\Anaconda3\\\\lib\\\\asyncio\\\\events.py'>,\n",
       " 'asyncio.futures': <module 'asyncio.futures' from 'D:\\\\Users\\\\Partha.bora\\\\Anaconda3\\\\lib\\\\asyncio\\\\futures.py'>,\n",
       " 'asyncio.protocols': <module 'asyncio.protocols' from 'D:\\\\Users\\\\Partha.bora\\\\Anaconda3\\\\lib\\\\asyncio\\\\protocols.py'>,\n",
       " 'asyncio.transports': <module 'asyncio.transports' from 'D:\\\\Users\\\\Partha.bora\\\\Anaconda3\\\\lib\\\\asyncio\\\\transports.py'>,\n",
       " 'asyncio.sslproto': <module 'asyncio.sslproto' from 'D:\\\\Users\\\\Partha.bora\\\\Anaconda3\\\\lib\\\\asyncio\\\\sslproto.py'>,\n",
       " 'asyncio.locks': <module 'asyncio.locks' from 'D:\\\\Users\\\\Partha.bora\\\\Anaconda3\\\\lib\\\\asyncio\\\\locks.py'>,\n",
       " 'asyncio.tasks': <module 'asyncio.tasks' from 'D:\\\\Users\\\\Partha.bora\\\\Anaconda3\\\\lib\\\\asyncio\\\\tasks.py'>,\n",
       " 'asyncio.staggered': <module 'asyncio.staggered' from 'D:\\\\Users\\\\Partha.bora\\\\Anaconda3\\\\lib\\\\asyncio\\\\staggered.py'>,\n",
       " 'asyncio.trsock': <module 'asyncio.trsock' from 'D:\\\\Users\\\\Partha.bora\\\\Anaconda3\\\\lib\\\\asyncio\\\\trsock.py'>,\n",
       " 'asyncio.base_events': <module 'asyncio.base_events' from 'D:\\\\Users\\\\Partha.bora\\\\Anaconda3\\\\lib\\\\asyncio\\\\base_events.py'>,\n",
       " 'asyncio.runners': <module 'asyncio.runners' from 'D:\\\\Users\\\\Partha.bora\\\\Anaconda3\\\\lib\\\\asyncio\\\\runners.py'>,\n",
       " 'asyncio.queues': <module 'asyncio.queues' from 'D:\\\\Users\\\\Partha.bora\\\\Anaconda3\\\\lib\\\\asyncio\\\\queues.py'>,\n",
       " 'asyncio.streams': <module 'asyncio.streams' from 'D:\\\\Users\\\\Partha.bora\\\\Anaconda3\\\\lib\\\\asyncio\\\\streams.py'>,\n",
       " 'asyncio.subprocess': <module 'asyncio.subprocess' from 'D:\\\\Users\\\\Partha.bora\\\\Anaconda3\\\\lib\\\\asyncio\\\\subprocess.py'>,\n",
       " 'asyncio.threads': <module 'asyncio.threads' from 'D:\\\\Users\\\\Partha.bora\\\\Anaconda3\\\\lib\\\\asyncio\\\\threads.py'>,\n",
       " '_overlapped': <module '_overlapped' from 'D:\\\\Users\\\\Partha.bora\\\\Anaconda3\\\\DLLs\\\\_overlapped.pyd'>,\n",
       " 'asyncio.base_subprocess': <module 'asyncio.base_subprocess' from 'D:\\\\Users\\\\Partha.bora\\\\Anaconda3\\\\lib\\\\asyncio\\\\base_subprocess.py'>,\n",
       " 'asyncio.proactor_events': <module 'asyncio.proactor_events' from 'D:\\\\Users\\\\Partha.bora\\\\Anaconda3\\\\lib\\\\asyncio\\\\proactor_events.py'>,\n",
       " 'asyncio.selector_events': <module 'asyncio.selector_events' from 'D:\\\\Users\\\\Partha.bora\\\\Anaconda3\\\\lib\\\\asyncio\\\\selector_events.py'>,\n",
       " 'posixpath': <module 'posixpath' from 'D:\\\\Users\\\\Partha.bora\\\\Anaconda3\\\\lib\\\\posixpath.py'>,\n",
       " 'fnmatch': <module 'fnmatch' from 'D:\\\\Users\\\\Partha.bora\\\\Anaconda3\\\\lib\\\\fnmatch.py'>,\n",
       " 'zlib': <module 'zlib' (built-in)>,\n",
       " '_compression': <module '_compression' from 'D:\\\\Users\\\\Partha.bora\\\\Anaconda3\\\\lib\\\\_compression.py'>,\n",
       " '_bz2': <module '_bz2' from 'D:\\\\Users\\\\Partha.bora\\\\Anaconda3\\\\DLLs\\\\_bz2.pyd'>,\n",
       " 'bz2': <module 'bz2' from 'D:\\\\Users\\\\Partha.bora\\\\Anaconda3\\\\lib\\\\bz2.py'>,\n",
       " '_lzma': <module '_lzma' from 'D:\\\\Users\\\\Partha.bora\\\\Anaconda3\\\\DLLs\\\\_lzma.pyd'>,\n",
       " 'lzma': <module 'lzma' from 'D:\\\\Users\\\\Partha.bora\\\\Anaconda3\\\\lib\\\\lzma.py'>,\n",
       " 'shutil': <module 'shutil' from 'D:\\\\Users\\\\Partha.bora\\\\Anaconda3\\\\lib\\\\shutil.py'>,\n",
       " '_bisect': <module '_bisect' (built-in)>,\n",
       " 'bisect': <module 'bisect' from 'D:\\\\Users\\\\Partha.bora\\\\Anaconda3\\\\lib\\\\bisect.py'>,\n",
       " '_random': <module '_random' (built-in)>,\n",
       " '_sha512': <module '_sha512' (built-in)>,\n",
       " 'random': <module 'random' from 'D:\\\\Users\\\\Partha.bora\\\\Anaconda3\\\\lib\\\\random.py'>,\n",
       " 'tempfile': <module 'tempfile' from 'D:\\\\Users\\\\Partha.bora\\\\Anaconda3\\\\lib\\\\tempfile.py'>,\n",
       " 'asyncio.windows_utils': <module 'asyncio.windows_utils' from 'D:\\\\Users\\\\Partha.bora\\\\Anaconda3\\\\lib\\\\asyncio\\\\windows_utils.py'>,\n",
       " 'asyncio.windows_events': <module 'asyncio.windows_events' from 'D:\\\\Users\\\\Partha.bora\\\\Anaconda3\\\\lib\\\\asyncio\\\\windows_events.py'>,\n",
       " 'asyncio': <module 'asyncio' from 'D:\\\\Users\\\\Partha.bora\\\\Anaconda3\\\\lib\\\\asyncio\\\\__init__.py'>,\n",
       " '_queue': <module '_queue' from 'D:\\\\Users\\\\Partha.bora\\\\Anaconda3\\\\DLLs\\\\_queue.pyd'>,\n",
       " 'queue': <module 'queue' from 'D:\\\\Users\\\\Partha.bora\\\\Anaconda3\\\\lib\\\\queue.py'>,\n",
       " 'platform': <module 'platform' from 'D:\\\\Users\\\\Partha.bora\\\\Anaconda3\\\\lib\\\\platform.py'>,\n",
       " 'zmq.backend.select': <module 'zmq.backend.select' from 'D:\\\\Users\\\\Partha.bora\\\\Anaconda3\\\\lib\\\\site-packages\\\\zmq\\\\backend\\\\select.py'>,\n",
       " '_cython_0_29_30': <module '_cython_0_29_30'>,\n",
       " 'cython_runtime': <module 'cython_runtime'>,\n",
       " 'zmq.error': <module 'zmq.error' from 'D:\\\\Users\\\\Partha.bora\\\\Anaconda3\\\\lib\\\\site-packages\\\\zmq\\\\error.py'>,\n",
       " 'zmq.backend.cython.context': <module 'zmq.backend.cython.context' from 'D:\\\\Users\\\\Partha.bora\\\\Anaconda3\\\\lib\\\\site-packages\\\\zmq\\\\backend\\\\cython\\\\context.cp39-win_amd64.pyd'>,\n",
       " 'zmq.backend.cython.message': <module 'zmq.backend.cython.message' from 'D:\\\\Users\\\\Partha.bora\\\\Anaconda3\\\\lib\\\\site-packages\\\\zmq\\\\backend\\\\cython\\\\message.cp39-win_amd64.pyd'>,\n",
       " '_compat_pickle': <module '_compat_pickle' from 'D:\\\\Users\\\\Partha.bora\\\\Anaconda3\\\\lib\\\\_compat_pickle.py'>,\n",
       " '_pickle': <module '_pickle' (built-in)>,\n",
       " 'pickle': <module 'pickle' from 'D:\\\\Users\\\\Partha.bora\\\\Anaconda3\\\\lib\\\\pickle.py'>,\n",
       " 'zmq.constants': <module 'zmq.constants' from 'D:\\\\Users\\\\Partha.bora\\\\Anaconda3\\\\lib\\\\site-packages\\\\zmq\\\\constants.py'>,\n",
       " 'zmq.backend.cython.socket': <module 'zmq.backend.cython.socket' from 'D:\\\\Users\\\\Partha.bora\\\\Anaconda3\\\\lib\\\\site-packages\\\\zmq\\\\backend\\\\cython\\\\socket.cp39-win_amd64.pyd'>,\n",
       " 'zmq.backend.cython._device': <module 'zmq.backend.cython._device' from 'D:\\\\Users\\\\Partha.bora\\\\Anaconda3\\\\lib\\\\site-packages\\\\zmq\\\\backend\\\\cython\\\\_device.cp39-win_amd64.pyd'>,\n",
       " 'zmq.backend.cython._poll': <module 'zmq.backend.cython._poll' from 'D:\\\\Users\\\\Partha.bora\\\\Anaconda3\\\\lib\\\\site-packages\\\\zmq\\\\backend\\\\cython\\\\_poll.cp39-win_amd64.pyd'>,\n",
       " 'zmq.backend.cython._proxy_steerable': <module 'zmq.backend.cython._proxy_steerable' from 'D:\\\\Users\\\\Partha.bora\\\\Anaconda3\\\\lib\\\\site-packages\\\\zmq\\\\backend\\\\cython\\\\_proxy_steerable.cp39-win_amd64.pyd'>,\n",
       " 'zmq.backend.cython._version': <module 'zmq.backend.cython._version' from 'D:\\\\Users\\\\Partha.bora\\\\Anaconda3\\\\lib\\\\site-packages\\\\zmq\\\\backend\\\\cython\\\\_version.cp39-win_amd64.pyd'>,\n",
       " 'zmq.backend.cython.error': <module 'zmq.backend.cython.error' from 'D:\\\\Users\\\\Partha.bora\\\\Anaconda3\\\\lib\\\\site-packages\\\\zmq\\\\backend\\\\cython\\\\error.cp39-win_amd64.pyd'>,\n",
       " 'zmq.backend.cython.utils': <module 'zmq.backend.cython.utils' from 'D:\\\\Users\\\\Partha.bora\\\\Anaconda3\\\\lib\\\\site-packages\\\\zmq\\\\backend\\\\cython\\\\utils.cp39-win_amd64.pyd'>,\n",
       " 'zmq.backend.cython': <module 'zmq.backend.cython' from 'D:\\\\Users\\\\Partha.bora\\\\Anaconda3\\\\lib\\\\site-packages\\\\zmq\\\\backend\\\\cython\\\\__init__.py'>,\n",
       " 'zmq.backend': <module 'zmq.backend' from 'D:\\\\Users\\\\Partha.bora\\\\Anaconda3\\\\lib\\\\site-packages\\\\zmq\\\\backend\\\\__init__.py'>,\n",
       " 'zmq.sugar.attrsettr': <module 'zmq.sugar.attrsettr' from 'D:\\\\Users\\\\Partha.bora\\\\Anaconda3\\\\lib\\\\site-packages\\\\zmq\\\\sugar\\\\attrsettr.py'>,\n",
       " 'zmq._typing': <module 'zmq._typing' from 'D:\\\\Users\\\\Partha.bora\\\\Anaconda3\\\\lib\\\\site-packages\\\\zmq\\\\_typing.py'>,\n",
       " 'zmq.utils': <module 'zmq.utils' from 'D:\\\\Users\\\\Partha.bora\\\\Anaconda3\\\\lib\\\\site-packages\\\\zmq\\\\utils\\\\__init__.py'>,\n",
       " 'zmq.utils.jsonapi': <module 'zmq.utils.jsonapi' from 'D:\\\\Users\\\\Partha.bora\\\\Anaconda3\\\\lib\\\\site-packages\\\\zmq\\\\utils\\\\jsonapi.py'>,\n",
       " 'zmq.sugar.poll': <module 'zmq.sugar.poll' from 'D:\\\\Users\\\\Partha.bora\\\\Anaconda3\\\\lib\\\\site-packages\\\\zmq\\\\sugar\\\\poll.py'>,\n",
       " 'zmq.sugar.socket': <module 'zmq.sugar.socket' from 'D:\\\\Users\\\\Partha.bora\\\\Anaconda3\\\\lib\\\\site-packages\\\\zmq\\\\sugar\\\\socket.py'>,\n",
       " 'zmq.sugar.context': <module 'zmq.sugar.context' from 'D:\\\\Users\\\\Partha.bora\\\\Anaconda3\\\\lib\\\\site-packages\\\\zmq\\\\sugar\\\\context.py'>,\n",
       " 'zmq.sugar.frame': <module 'zmq.sugar.frame' from 'D:\\\\Users\\\\Partha.bora\\\\Anaconda3\\\\lib\\\\site-packages\\\\zmq\\\\sugar\\\\frame.py'>,\n",
       " 'zmq.sugar.tracker': <module 'zmq.sugar.tracker' from 'D:\\\\Users\\\\Partha.bora\\\\Anaconda3\\\\lib\\\\site-packages\\\\zmq\\\\sugar\\\\tracker.py'>,\n",
       " 'zmq.sugar.version': <module 'zmq.sugar.version' from 'D:\\\\Users\\\\Partha.bora\\\\Anaconda3\\\\lib\\\\site-packages\\\\zmq\\\\sugar\\\\version.py'>,\n",
       " 'zmq.sugar.stopwatch': <module 'zmq.sugar.stopwatch' from 'D:\\\\Users\\\\Partha.bora\\\\Anaconda3\\\\lib\\\\site-packages\\\\zmq\\\\sugar\\\\stopwatch.py'>,\n",
       " 'zmq.sugar': <module 'zmq.sugar' from 'D:\\\\Users\\\\Partha.bora\\\\Anaconda3\\\\lib\\\\site-packages\\\\zmq\\\\sugar\\\\__init__.py'>,\n",
       " 'zmq': <module 'zmq' from 'D:\\\\Users\\\\Partha.bora\\\\Anaconda3\\\\lib\\\\site-packages\\\\zmq\\\\__init__.py'>,\n",
       " 'zmq._future': <module 'zmq._future' from 'D:\\\\Users\\\\Partha.bora\\\\Anaconda3\\\\lib\\\\site-packages\\\\zmq\\\\_future.py'>,\n",
       " 'zmq.asyncio': <module 'zmq.asyncio' from 'D:\\\\Users\\\\Partha.bora\\\\Anaconda3\\\\lib\\\\site-packages\\\\zmq\\\\asyncio.py'>,\n",
       " 'jupyter_client.channelsabc': <module 'jupyter_client.channelsabc' from 'D:\\\\Users\\\\Partha.bora\\\\Anaconda3\\\\lib\\\\site-packages\\\\jupyter_client\\\\channelsabc.py'>,\n",
       " '_hashlib': <module '_hashlib' from 'D:\\\\Users\\\\Partha.bora\\\\Anaconda3\\\\DLLs\\\\_hashlib.pyd'>,\n",
       " '_blake2': <module '_blake2' (built-in)>,\n",
       " 'hashlib': <module 'hashlib' from 'D:\\\\Users\\\\Partha.bora\\\\Anaconda3\\\\lib\\\\hashlib.py'>,\n",
       " 'hmac': <module 'hmac' from 'D:\\\\Users\\\\Partha.bora\\\\Anaconda3\\\\lib\\\\hmac.py'>,\n",
       " 'pprint': <module 'pprint' from 'D:\\\\Users\\\\Partha.bora\\\\Anaconda3\\\\lib\\\\pprint.py'>,\n",
       " '_datetime': <module '_datetime' (built-in)>,\n",
       " 'datetime': <module 'datetime' from 'D:\\\\Users\\\\Partha.bora\\\\Anaconda3\\\\lib\\\\datetime.py'>,\n",
       " 'gettext': <module 'gettext' from 'D:\\\\Users\\\\Partha.bora\\\\Anaconda3\\\\lib\\\\gettext.py'>,\n",
       " 'argparse': <module 'argparse' from 'D:\\\\Users\\\\Partha.bora\\\\Anaconda3\\\\lib\\\\argparse.py'>,\n",
       " 'traitlets.config.loader': <module 'traitlets.config.loader' from 'D:\\\\Users\\\\Partha.bora\\\\Anaconda3\\\\lib\\\\site-packages\\\\traitlets\\\\config\\\\loader.py'>,\n",
       " 'textwrap': <module 'textwrap' from 'D:\\\\Users\\\\Partha.bora\\\\Anaconda3\\\\lib\\\\textwrap.py'>,\n",
       " 'traitlets.utils.text': <module 'traitlets.utils.text' from 'D:\\\\Users\\\\Partha.bora\\\\Anaconda3\\\\lib\\\\site-packages\\\\traitlets\\\\utils\\\\text.py'>,\n",
       " 'traitlets.config.configurable': <module 'traitlets.config.configurable' from 'D:\\\\Users\\\\Partha.bora\\\\Anaconda3\\\\lib\\\\site-packages\\\\traitlets\\\\config\\\\configurable.py'>,\n",
       " 'traitlets.config.application': <module 'traitlets.config.application' from 'D:\\\\Users\\\\Partha.bora\\\\Anaconda3\\\\lib\\\\site-packages\\\\traitlets\\\\config\\\\application.py'>,\n",
       " 'traitlets.config': <module 'traitlets.config' from 'D:\\\\Users\\\\Partha.bora\\\\Anaconda3\\\\lib\\\\site-packages\\\\traitlets\\\\config\\\\__init__.py'>,\n",
       " 'traitlets.log': <module 'traitlets.log' from 'D:\\\\Users\\\\Partha.bora\\\\Anaconda3\\\\lib\\\\site-packages\\\\traitlets\\\\log.py'>,\n",
       " 'tornado': <module 'tornado' from 'D:\\\\Users\\\\Partha.bora\\\\Anaconda3\\\\lib\\\\site-packages\\\\tornado\\\\__init__.py'>,\n",
       " 'numbers': <module 'numbers' from 'D:\\\\Users\\\\Partha.bora\\\\Anaconda3\\\\lib\\\\numbers.py'>,\n",
       " 'logging.handlers': <module 'logging.handlers' from 'D:\\\\Users\\\\Partha.bora\\\\Anaconda3\\\\lib\\\\logging\\\\handlers.py'>,\n",
       " 'html.entities': <module 'html.entities' from 'D:\\\\Users\\\\Partha.bora\\\\Anaconda3\\\\lib\\\\html\\\\entities.py'>,\n",
       " 'html': <module 'html' from 'D:\\\\Users\\\\Partha.bora\\\\Anaconda3\\\\lib\\\\html\\\\__init__.py'>,\n",
       " 'urllib': <module 'urllib' from 'D:\\\\Users\\\\Partha.bora\\\\Anaconda3\\\\lib\\\\urllib\\\\__init__.py'>,\n",
       " 'urllib.parse': <module 'urllib.parse' from 'D:\\\\Users\\\\Partha.bora\\\\Anaconda3\\\\lib\\\\urllib\\\\parse.py'>,\n",
       " 'array': <module 'array' (built-in)>,\n",
       " 'tornado.speedups': <module 'tornado.speedups' from 'D:\\\\Users\\\\Partha.bora\\\\Anaconda3\\\\lib\\\\site-packages\\\\tornado\\\\speedups.cp39-win_amd64.pyd'>,\n",
       " 'tornado.util': <module 'tornado.util' from 'D:\\\\Users\\\\Partha.bora\\\\Anaconda3\\\\lib\\\\site-packages\\\\tornado\\\\util.py'>,\n",
       " 'tornado.escape': <module 'tornado.escape' from 'D:\\\\Users\\\\Partha.bora\\\\Anaconda3\\\\lib\\\\site-packages\\\\tornado\\\\escape.py'>,\n",
       " 'colorama.ansi': <module 'colorama.ansi' from 'D:\\\\Users\\\\Partha.bora\\\\Anaconda3\\\\lib\\\\site-packages\\\\colorama\\\\ansi.py'>,\n",
       " '_ctypes': <module '_ctypes' from 'D:\\\\Users\\\\Partha.bora\\\\Anaconda3\\\\DLLs\\\\_ctypes.pyd'>,\n",
       " 'ctypes._endian': <module 'ctypes._endian' from 'D:\\\\Users\\\\Partha.bora\\\\Anaconda3\\\\lib\\\\ctypes\\\\_endian.py'>,\n",
       " 'ctypes': <module 'ctypes' from 'D:\\\\Users\\\\Partha.bora\\\\Anaconda3\\\\lib\\\\ctypes\\\\__init__.py'>,\n",
       " 'ctypes.wintypes': <module 'ctypes.wintypes' from 'D:\\\\Users\\\\Partha.bora\\\\Anaconda3\\\\lib\\\\ctypes\\\\wintypes.py'>,\n",
       " 'colorama.win32': <module 'colorama.win32' from 'D:\\\\Users\\\\Partha.bora\\\\Anaconda3\\\\lib\\\\site-packages\\\\colorama\\\\win32.py'>,\n",
       " 'colorama.winterm': <module 'colorama.winterm' from 'D:\\\\Users\\\\Partha.bora\\\\Anaconda3\\\\lib\\\\site-packages\\\\colorama\\\\winterm.py'>,\n",
       " 'colorama.ansitowin32': <module 'colorama.ansitowin32' from 'D:\\\\Users\\\\Partha.bora\\\\Anaconda3\\\\lib\\\\site-packages\\\\colorama\\\\ansitowin32.py'>,\n",
       " 'colorama.initialise': <module 'colorama.initialise' from 'D:\\\\Users\\\\Partha.bora\\\\Anaconda3\\\\lib\\\\site-packages\\\\colorama\\\\initialise.py'>,\n",
       " 'colorama': <module 'colorama' from 'D:\\\\Users\\\\Partha.bora\\\\Anaconda3\\\\lib\\\\site-packages\\\\colorama\\\\__init__.py'>,\n",
       " 'tornado.log': <module 'tornado.log' from 'D:\\\\Users\\\\Partha.bora\\\\Anaconda3\\\\lib\\\\site-packages\\\\tornado\\\\log.py'>,\n",
       " 'tornado.concurrent': <module 'tornado.concurrent' from 'D:\\\\Users\\\\Partha.bora\\\\Anaconda3\\\\lib\\\\site-packages\\\\tornado\\\\concurrent.py'>,\n",
       " 'tornado.ioloop': <module 'tornado.ioloop' from 'D:\\\\Users\\\\Partha.bora\\\\Anaconda3\\\\lib\\\\site-packages\\\\tornado\\\\ioloop.py'>,\n",
       " 'tornado.platform': <module 'tornado.platform' from 'D:\\\\Users\\\\Partha.bora\\\\Anaconda3\\\\lib\\\\site-packages\\\\tornado\\\\platform\\\\__init__.py'>,\n",
       " 'tornado.gen': <module 'tornado.gen' from 'D:\\\\Users\\\\Partha.bora\\\\Anaconda3\\\\lib\\\\site-packages\\\\tornado\\\\gen.py'>,\n",
       " 'tornado.platform.asyncio': <module 'tornado.platform.asyncio' from 'D:\\\\Users\\\\Partha.bora\\\\Anaconda3\\\\lib\\\\site-packages\\\\tornado\\\\platform\\\\asyncio.py'>,\n",
       " 'zmq.eventloop.ioloop': <module 'zmq.eventloop.ioloop' from 'D:\\\\Users\\\\Partha.bora\\\\Anaconda3\\\\lib\\\\site-packages\\\\zmq\\\\eventloop\\\\ioloop.py'>,\n",
       " 'zmq.eventloop': <module 'zmq.eventloop' from 'D:\\\\Users\\\\Partha.bora\\\\Anaconda3\\\\lib\\\\site-packages\\\\zmq\\\\eventloop\\\\__init__.py'>,\n",
       " 'zmq.eventloop.zmqstream': <module 'zmq.eventloop.zmqstream' from 'D:\\\\Users\\\\Partha.bora\\\\Anaconda3\\\\lib\\\\site-packages\\\\zmq\\\\eventloop\\\\zmqstream.py'>,\n",
       " 'jupyter_client.adapter': <module 'jupyter_client.adapter' from 'D:\\\\Users\\\\Partha.bora\\\\Anaconda3\\\\lib\\\\site-packages\\\\jupyter_client\\\\adapter.py'>,\n",
       " 'dateutil._version': <module 'dateutil._version' from 'D:\\\\Users\\\\Partha.bora\\\\Anaconda3\\\\lib\\\\site-packages\\\\dateutil\\\\_version.py'>,\n",
       " 'dateutil': <module 'dateutil' from 'D:\\\\Users\\\\Partha.bora\\\\Anaconda3\\\\lib\\\\site-packages\\\\dateutil\\\\__init__.py'>,\n",
       " '__future__': <module '__future__' from 'D:\\\\Users\\\\Partha.bora\\\\Anaconda3\\\\lib\\\\__future__.py'>,\n",
       " 'locale': <module 'locale' from 'D:\\\\Users\\\\Partha.bora\\\\Anaconda3\\\\lib\\\\locale.py'>,\n",
       " 'calendar': <module 'calendar' from 'D:\\\\Users\\\\Partha.bora\\\\Anaconda3\\\\lib\\\\calendar.py'>,\n",
       " 'six': <module 'six' from 'D:\\\\Users\\\\Partha.bora\\\\Anaconda3\\\\lib\\\\site-packages\\\\six.py'>,\n",
       " '_decimal': <module '_decimal' from 'D:\\\\Users\\\\Partha.bora\\\\Anaconda3\\\\DLLs\\\\_decimal.pyd'>,\n",
       " 'decimal': <module 'decimal' from 'D:\\\\Users\\\\Partha.bora\\\\Anaconda3\\\\lib\\\\decimal.py'>,\n",
       " 'dateutil._common': <module 'dateutil._common' from 'D:\\\\Users\\\\Partha.bora\\\\Anaconda3\\\\lib\\\\site-packages\\\\dateutil\\\\_common.py'>,\n",
       " 'dateutil.relativedelta': <module 'dateutil.relativedelta' from 'D:\\\\Users\\\\Partha.bora\\\\Anaconda3\\\\lib\\\\site-packages\\\\dateutil\\\\relativedelta.py'>,\n",
       " 'six.moves': <module 'six.moves' (<six._SixMetaPathImporter object at 0x00000258EA756370>)>,\n",
       " 'dateutil.tz._common': <module 'dateutil.tz._common' from 'D:\\\\Users\\\\Partha.bora\\\\Anaconda3\\\\lib\\\\site-packages\\\\dateutil\\\\tz\\\\_common.py'>,\n",
       " 'dateutil.tz._factories': <module 'dateutil.tz._factories' from 'D:\\\\Users\\\\Partha.bora\\\\Anaconda3\\\\lib\\\\site-packages\\\\dateutil\\\\tz\\\\_factories.py'>,\n",
       " 'dateutil.tz.win': <module 'dateutil.tz.win' from 'D:\\\\Users\\\\Partha.bora\\\\Anaconda3\\\\lib\\\\site-packages\\\\dateutil\\\\tz\\\\win.py'>,\n",
       " 'dateutil.tz.tz': <module 'dateutil.tz.tz' from 'D:\\\\Users\\\\Partha.bora\\\\Anaconda3\\\\lib\\\\site-packages\\\\dateutil\\\\tz\\\\tz.py'>,\n",
       " 'dateutil.tz': <module 'dateutil.tz' from 'D:\\\\Users\\\\Partha.bora\\\\Anaconda3\\\\lib\\\\site-packages\\\\dateutil\\\\tz\\\\__init__.py'>,\n",
       " 'dateutil.parser._parser': <module 'dateutil.parser._parser' from 'D:\\\\Users\\\\Partha.bora\\\\Anaconda3\\\\lib\\\\site-packages\\\\dateutil\\\\parser\\\\_parser.py'>,\n",
       " 'dateutil.parser.isoparser': <module 'dateutil.parser.isoparser' from 'D:\\\\Users\\\\Partha.bora\\\\Anaconda3\\\\lib\\\\site-packages\\\\dateutil\\\\parser\\\\isoparser.py'>,\n",
       " 'dateutil.parser': <module 'dateutil.parser' from 'D:\\\\Users\\\\Partha.bora\\\\Anaconda3\\\\lib\\\\site-packages\\\\dateutil\\\\parser\\\\__init__.py'>,\n",
       " '_strptime': <module '_strptime' from 'D:\\\\Users\\\\Partha.bora\\\\Anaconda3\\\\lib\\\\_strptime.py'>,\n",
       " 'jupyter_client.jsonutil': <module 'jupyter_client.jsonutil' from 'D:\\\\Users\\\\Partha.bora\\\\Anaconda3\\\\lib\\\\site-packages\\\\jupyter_client\\\\jsonutil.py'>,\n",
       " 'jupyter_client.session': <module 'jupyter_client.session' from 'D:\\\\Users\\\\Partha.bora\\\\Anaconda3\\\\lib\\\\site-packages\\\\jupyter_client\\\\session.py'>,\n",
       " 'jupyter_client.channels': <module 'jupyter_client.channels' from 'D:\\\\Users\\\\Partha.bora\\\\Anaconda3\\\\lib\\\\site-packages\\\\jupyter_client\\\\channels.py'>,\n",
       " 'getpass': <module 'getpass' from 'D:\\\\Users\\\\Partha.bora\\\\Anaconda3\\\\lib\\\\getpass.py'>,\n",
       " 'jupyter_client.clientabc': <module 'jupyter_client.clientabc' from 'D:\\\\Users\\\\Partha.bora\\\\Anaconda3\\\\lib\\\\site-packages\\\\jupyter_client\\\\clientabc.py'>,\n",
       " 'glob': <module 'glob' from 'D:\\\\Users\\\\Partha.bora\\\\Anaconda3\\\\lib\\\\glob.py'>,\n",
       " 'jupyter_core.version': <module 'jupyter_core.version' from 'D:\\\\Users\\\\Partha.bora\\\\Anaconda3\\\\lib\\\\site-packages\\\\jupyter_core\\\\version.py'>,\n",
       " 'jupyter_core': <module 'jupyter_core' from 'D:\\\\Users\\\\Partha.bora\\\\Anaconda3\\\\lib\\\\site-packages\\\\jupyter_core\\\\__init__.py'>,\n",
       " 'pathlib': <module 'pathlib' from 'D:\\\\Users\\\\Partha.bora\\\\Anaconda3\\\\lib\\\\pathlib.py'>,\n",
       " 'jupyter_core.paths': <module 'jupyter_core.paths' from 'D:\\\\Users\\\\Partha.bora\\\\Anaconda3\\\\lib\\\\site-packages\\\\jupyter_core\\\\paths.py'>,\n",
       " 'jupyter_client.localinterfaces': <module 'jupyter_client.localinterfaces' from 'D:\\\\Users\\\\Partha.bora\\\\Anaconda3\\\\lib\\\\site-packages\\\\jupyter_client\\\\localinterfaces.py'>,\n",
       " 'jupyter_client.utils': <module 'jupyter_client.utils' from 'D:\\\\Users\\\\Partha.bora\\\\Anaconda3\\\\lib\\\\site-packages\\\\jupyter_client\\\\utils.py'>,\n",
       " 'jupyter_client.connect': <module 'jupyter_client.connect' from 'D:\\\\Users\\\\Partha.bora\\\\Anaconda3\\\\lib\\\\site-packages\\\\jupyter_client\\\\connect.py'>,\n",
       " 'jupyter_client.client': <module 'jupyter_client.client' from 'D:\\\\Users\\\\Partha.bora\\\\Anaconda3\\\\lib\\\\site-packages\\\\jupyter_client\\\\client.py'>,\n",
       " 'jupyter_client.asynchronous.client': <module 'jupyter_client.asynchronous.client' from 'D:\\\\Users\\\\Partha.bora\\\\Anaconda3\\\\lib\\\\site-packages\\\\jupyter_client\\\\asynchronous\\\\client.py'>,\n",
       " 'jupyter_client.asynchronous': <module 'jupyter_client.asynchronous' from 'D:\\\\Users\\\\Partha.bora\\\\Anaconda3\\\\lib\\\\site-packages\\\\jupyter_client\\\\asynchronous\\\\__init__.py'>,\n",
       " 'jupyter_client.blocking.client': <module 'jupyter_client.blocking.client' from 'D:\\\\Users\\\\Partha.bora\\\\Anaconda3\\\\lib\\\\site-packages\\\\jupyter_client\\\\blocking\\\\client.py'>,\n",
       " 'jupyter_client.blocking': <module 'jupyter_client.blocking' from 'D:\\\\Users\\\\Partha.bora\\\\Anaconda3\\\\lib\\\\site-packages\\\\jupyter_client\\\\blocking\\\\__init__.py'>,\n",
       " 'jupyter_client.launcher': <module 'jupyter_client.launcher' from 'D:\\\\Users\\\\Partha.bora\\\\Anaconda3\\\\lib\\\\site-packages\\\\jupyter_client\\\\launcher.py'>,\n",
       " '_uuid': <module '_uuid' from 'D:\\\\Users\\\\Partha.bora\\\\Anaconda3\\\\DLLs\\\\_uuid.pyd'>,\n",
       " 'uuid': <module 'uuid' from 'D:\\\\Users\\\\Partha.bora\\\\Anaconda3\\\\lib\\\\uuid.py'>,\n",
       " 'jupyter_client.managerabc': <module 'jupyter_client.managerabc' from 'D:\\\\Users\\\\Partha.bora\\\\Anaconda3\\\\lib\\\\site-packages\\\\jupyter_client\\\\managerabc.py'>,\n",
       " 'zipfile': <module 'zipfile' from 'D:\\\\Users\\\\Partha.bora\\\\Anaconda3\\\\lib\\\\zipfile.py'>,\n",
       " 'configparser': <module 'configparser' from 'D:\\\\Users\\\\Partha.bora\\\\Anaconda3\\\\lib\\\\configparser.py'>,\n",
       " 'entrypoints': <module 'entrypoints' from 'D:\\\\Users\\\\Partha.bora\\\\Anaconda3\\\\lib\\\\site-packages\\\\entrypoints.py'>,\n",
       " 'jupyter_client.provisioning.provisioner_base': <module 'jupyter_client.provisioning.provisioner_base' from 'D:\\\\Users\\\\Partha.bora\\\\Anaconda3\\\\lib\\\\site-packages\\\\jupyter_client\\\\provisioning\\\\provisioner_base.py'>,\n",
       " 'jupyter_client.provisioning.factory': <module 'jupyter_client.provisioning.factory' from 'D:\\\\Users\\\\Partha.bora\\\\Anaconda3\\\\lib\\\\site-packages\\\\jupyter_client\\\\provisioning\\\\factory.py'>,\n",
       " 'jupyter_client.provisioning.local_provisioner': <module 'jupyter_client.provisioning.local_provisioner' from 'D:\\\\Users\\\\Partha.bora\\\\Anaconda3\\\\lib\\\\site-packages\\\\jupyter_client\\\\provisioning\\\\local_provisioner.py'>,\n",
       " 'jupyter_client.provisioning': <module 'jupyter_client.provisioning' from 'D:\\\\Users\\\\Partha.bora\\\\Anaconda3\\\\lib\\\\site-packages\\\\jupyter_client\\\\provisioning\\\\__init__.py'>,\n",
       " 'jupyter_client.kernelspec': <module 'jupyter_client.kernelspec' from 'D:\\\\Users\\\\Partha.bora\\\\Anaconda3\\\\lib\\\\site-packages\\\\jupyter_client\\\\kernelspec.py'>,\n",
       " 'jupyter_client.manager': <module 'jupyter_client.manager' from 'D:\\\\Users\\\\Partha.bora\\\\Anaconda3\\\\lib\\\\site-packages\\\\jupyter_client\\\\manager.py'>,\n",
       " 'jupyter_client.multikernelmanager': <module 'jupyter_client.multikernelmanager' from 'D:\\\\Users\\\\Partha.bora\\\\Anaconda3\\\\lib\\\\site-packages\\\\jupyter_client\\\\multikernelmanager.py'>,\n",
       " 'jupyter_client': <module 'jupyter_client' from 'D:\\\\Users\\\\Partha.bora\\\\Anaconda3\\\\lib\\\\site-packages\\\\jupyter_client\\\\__init__.py'>,\n",
       " 'ipykernel.connect': <module 'ipykernel.connect' from 'D:\\\\Users\\\\Partha.bora\\\\Anaconda3\\\\lib\\\\site-packages\\\\ipykernel\\\\connect.py'>,\n",
       " 'ipykernel': <module 'ipykernel' from 'D:\\\\Users\\\\Partha.bora\\\\Anaconda3\\\\lib\\\\site-packages\\\\ipykernel\\\\__init__.py'>,\n",
       " 'IPython.core': <module 'IPython.core' from 'D:\\\\Users\\\\Partha.bora\\\\Anaconda3\\\\lib\\\\site-packages\\\\IPython\\\\core\\\\__init__.py'>,\n",
       " 'IPython.core.getipython': <module 'IPython.core.getipython' from 'D:\\\\Users\\\\Partha.bora\\\\Anaconda3\\\\lib\\\\site-packages\\\\IPython\\\\core\\\\getipython.py'>,\n",
       " 'IPython.core.release': <module 'IPython.core.release' from 'D:\\\\Users\\\\Partha.bora\\\\Anaconda3\\\\lib\\\\site-packages\\\\IPython\\\\core\\\\release.py'>,\n",
       " 'sysconfig': <module 'sysconfig' from 'D:\\\\Users\\\\Partha.bora\\\\Anaconda3\\\\lib\\\\sysconfig.py'>,\n",
       " 'pydoc': <module 'pydoc' from 'D:\\\\Users\\\\Partha.bora\\\\Anaconda3\\\\lib\\\\pydoc.py'>,\n",
       " 'bdb': <module 'bdb' from 'D:\\\\Users\\\\Partha.bora\\\\Anaconda3\\\\lib\\\\bdb.py'>,\n",
       " 'IPython.utils': <module 'IPython.utils' from 'D:\\\\Users\\\\Partha.bora\\\\Anaconda3\\\\lib\\\\site-packages\\\\IPython\\\\utils\\\\__init__.py'>,\n",
       " 'IPython.utils.ipstruct': <module 'IPython.utils.ipstruct' from 'D:\\\\Users\\\\Partha.bora\\\\Anaconda3\\\\lib\\\\site-packages\\\\IPython\\\\utils\\\\ipstruct.py'>,\n",
       " 'IPython.utils.coloransi': <module 'IPython.utils.coloransi' from 'D:\\\\Users\\\\Partha.bora\\\\Anaconda3\\\\lib\\\\site-packages\\\\IPython\\\\utils\\\\coloransi.py'>,\n",
       " 'pygments': <module 'pygments' from 'D:\\\\Users\\\\Partha.bora\\\\Anaconda3\\\\lib\\\\site-packages\\\\pygments\\\\__init__.py'>,\n",
       " 'IPython.utils.colorable': <module 'IPython.utils.colorable' from 'D:\\\\Users\\\\Partha.bora\\\\Anaconda3\\\\lib\\\\site-packages\\\\IPython\\\\utils\\\\colorable.py'>,\n",
       " 'IPython.utils.PyColorize': <module 'IPython.utils.PyColorize' from 'D:\\\\Users\\\\Partha.bora\\\\Anaconda3\\\\lib\\\\site-packages\\\\IPython\\\\utils\\\\PyColorize.py'>,\n",
       " 'IPython.utils.encoding': <module 'IPython.utils.encoding' from 'D:\\\\Users\\\\Partha.bora\\\\Anaconda3\\\\lib\\\\site-packages\\\\IPython\\\\utils\\\\encoding.py'>,\n",
       " 'IPython.utils.py3compat': <module 'IPython.utils.py3compat' from 'D:\\\\Users\\\\Partha.bora\\\\Anaconda3\\\\lib\\\\site-packages\\\\IPython\\\\utils\\\\py3compat.py'>,\n",
       " 'IPython.core.excolors': <module 'IPython.core.excolors' from 'D:\\\\Users\\\\Partha.bora\\\\Anaconda3\\\\lib\\\\site-packages\\\\IPython\\\\core\\\\excolors.py'>,\n",
       " 'IPython.testing': <module 'IPython.testing' from 'D:\\\\Users\\\\Partha.bora\\\\Anaconda3\\\\lib\\\\site-packages\\\\IPython\\\\testing\\\\__init__.py'>,\n",
       " 'IPython.testing.skipdoctest': <module 'IPython.testing.skipdoctest' from 'D:\\\\Users\\\\Partha.bora\\\\Anaconda3\\\\lib\\\\site-packages\\\\IPython\\\\testing\\\\skipdoctest.py'>,\n",
       " 'cmd': <module 'cmd' from 'D:\\\\Users\\\\Partha.bora\\\\Anaconda3\\\\lib\\\\cmd.py'>,\n",
       " 'codeop': <module 'codeop' from 'D:\\\\Users\\\\Partha.bora\\\\Anaconda3\\\\lib\\\\codeop.py'>,\n",
       " 'code': <module 'code' from 'D:\\\\Users\\\\Partha.bora\\\\Anaconda3\\\\lib\\\\code.py'>,\n",
       " 'pdb': <module 'pdb' from 'D:\\\\Users\\\\Partha.bora\\\\Anaconda3\\\\lib\\\\pdb.py'>,\n",
       " 'IPython.core.debugger': <module 'IPython.core.debugger' from 'D:\\\\Users\\\\Partha.bora\\\\Anaconda3\\\\lib\\\\site-packages\\\\IPython\\\\core\\\\debugger.py'>,\n",
       " 'IPython.core.display_trap': <module 'IPython.core.display_trap' from 'D:\\\\Users\\\\Partha.bora\\\\Anaconda3\\\\lib\\\\site-packages\\\\IPython\\\\core\\\\display_trap.py'>,\n",
       " 'shlex': <module 'shlex' from 'D:\\\\Users\\\\Partha.bora\\\\Anaconda3\\\\lib\\\\shlex.py'>,\n",
       " 'IPython.utils._process_common': <module 'IPython.utils._process_common' from 'D:\\\\Users\\\\Partha.bora\\\\Anaconda3\\\\lib\\\\site-packages\\\\IPython\\\\utils\\\\_process_common.py'>,\n",
       " 'IPython.utils._process_win32': <module 'IPython.utils._process_win32' from 'D:\\\\Users\\\\Partha.bora\\\\Anaconda3\\\\lib\\\\site-packages\\\\IPython\\\\utils\\\\_process_win32.py'>,\n",
       " 'IPython.utils.process': <module 'IPython.utils.process' from 'D:\\\\Users\\\\Partha.bora\\\\Anaconda3\\\\lib\\\\site-packages\\\\IPython\\\\utils\\\\process.py'>,\n",
       " 'IPython.utils.decorators': <module 'IPython.utils.decorators' from 'D:\\\\Users\\\\Partha.bora\\\\Anaconda3\\\\lib\\\\site-packages\\\\IPython\\\\utils\\\\decorators.py'>,\n",
       " 'IPython.utils.path': <module 'IPython.utils.path' from 'D:\\\\Users\\\\Partha.bora\\\\Anaconda3\\\\lib\\\\site-packages\\\\IPython\\\\utils\\\\path.py'>,\n",
       " 'IPython.utils.data': <module 'IPython.utils.data' from 'D:\\\\Users\\\\Partha.bora\\\\Anaconda3\\\\lib\\\\site-packages\\\\IPython\\\\utils\\\\data.py'>,\n",
       " 'IPython.utils.terminal': <module 'IPython.utils.terminal' from 'D:\\\\Users\\\\Partha.bora\\\\Anaconda3\\\\lib\\\\site-packages\\\\IPython\\\\utils\\\\terminal.py'>,\n",
       " 'IPython.core.ultratb': <module 'IPython.core.ultratb' from 'D:\\\\Users\\\\Partha.bora\\\\Anaconda3\\\\lib\\\\site-packages\\\\IPython\\\\core\\\\ultratb.py'>,\n",
       " 'IPython.utils._sysinfo': <module 'IPython.utils._sysinfo' from 'D:\\\\Users\\\\Partha.bora\\\\Anaconda3\\\\lib\\\\site-packages\\\\IPython\\\\utils\\\\_sysinfo.py'>,\n",
       " 'IPython.utils.sysinfo': <module 'IPython.utils.sysinfo' from 'D:\\\\Users\\\\Partha.bora\\\\Anaconda3\\\\lib\\\\site-packages\\\\IPython\\\\utils\\\\sysinfo.py'>,\n",
       " 'IPython.core.crashhandler': <module 'IPython.core.crashhandler' from 'D:\\\\Users\\\\Partha.bora\\\\Anaconda3\\\\lib\\\\site-packages\\\\IPython\\\\core\\\\crashhandler.py'>,\n",
       " 'IPython.utils.importstring': <module 'IPython.utils.importstring' from 'D:\\\\Users\\\\Partha.bora\\\\Anaconda3\\\\lib\\\\site-packages\\\\IPython\\\\utils\\\\importstring.py'>,\n",
       " 'IPython.paths': <module 'IPython.paths' from 'D:\\\\Users\\\\Partha.bora\\\\Anaconda3\\\\lib\\\\site-packages\\\\IPython\\\\paths.py'>,\n",
       " 'IPython.core.profiledir': <module 'IPython.core.profiledir' from 'D:\\\\Users\\\\Partha.bora\\\\Anaconda3\\\\lib\\\\site-packages\\\\IPython\\\\core\\\\profiledir.py'>,\n",
       " 'IPython.core.application': <module 'IPython.core.application' from 'D:\\\\Users\\\\Partha.bora\\\\Anaconda3\\\\lib\\\\site-packages\\\\IPython\\\\core\\\\application.py'>,\n",
       " 'IPython.terminal': <module 'IPython.terminal' from 'D:\\\\Users\\\\Partha.bora\\\\Anaconda3\\\\lib\\\\site-packages\\\\IPython\\\\terminal\\\\__init__.py'>,\n",
       " 'IPython.core.compilerop': <module 'IPython.core.compilerop' from 'D:\\\\Users\\\\Partha.bora\\\\Anaconda3\\\\lib\\\\site-packages\\\\IPython\\\\core\\\\compilerop.py'>,\n",
       " 'IPython.core.error': <module 'IPython.core.error' from 'D:\\\\Users\\\\Partha.bora\\\\Anaconda3\\\\lib\\\\site-packages\\\\IPython\\\\core\\\\error.py'>,\n",
       " 'IPython.utils.text': <module 'IPython.utils.text' from 'D:\\\\Users\\\\Partha.bora\\\\Anaconda3\\\\lib\\\\site-packages\\\\IPython\\\\utils\\\\text.py'>,\n",
       " 'IPython.core.magic_arguments': <module 'IPython.core.magic_arguments' from 'D:\\\\Users\\\\Partha.bora\\\\Anaconda3\\\\lib\\\\site-packages\\\\IPython\\\\core\\\\magic_arguments.py'>,\n",
       " 'getopt': <module 'getopt' from 'D:\\\\Users\\\\Partha.bora\\\\Anaconda3\\\\lib\\\\getopt.py'>,\n",
       " 'mimetypes': <module 'mimetypes' from 'D:\\\\Users\\\\Partha.bora\\\\Anaconda3\\\\lib\\\\mimetypes.py'>,\n",
       " 'IPython.core.display': <module 'IPython.core.display' from 'D:\\\\Users\\\\Partha.bora\\\\Anaconda3\\\\lib\\\\site-packages\\\\IPython\\\\core\\\\display.py'>,\n",
       " 'IPython.core.page': <module 'IPython.core.page' from 'D:\\\\Users\\\\Partha.bora\\\\Anaconda3\\\\lib\\\\site-packages\\\\IPython\\\\core\\\\page.py'>,\n",
       " 'IPython.lib.security': <module 'IPython.lib.security' from 'D:\\\\Users\\\\Partha.bora\\\\Anaconda3\\\\lib\\\\site-packages\\\\IPython\\\\lib\\\\security.py'>,\n",
       " 'IPython.lib': <module 'IPython.lib' from 'D:\\\\Users\\\\Partha.bora\\\\Anaconda3\\\\lib\\\\site-packages\\\\IPython\\\\lib\\\\__init__.py'>,\n",
       " 'IPython.lib.pretty': <module 'IPython.lib.pretty' from 'D:\\\\Users\\\\Partha.bora\\\\Anaconda3\\\\lib\\\\site-packages\\\\IPython\\\\lib\\\\pretty.py'>,\n",
       " 'IPython.utils.openpy': <module 'IPython.utils.openpy' from 'D:\\\\Users\\\\Partha.bora\\\\Anaconda3\\\\lib\\\\site-packages\\\\IPython\\\\utils\\\\openpy.py'>,\n",
       " 'IPython.utils.dir2': <module 'IPython.utils.dir2' from 'D:\\\\Users\\\\Partha.bora\\\\Anaconda3\\\\lib\\\\site-packages\\\\IPython\\\\utils\\\\dir2.py'>,\n",
       " 'IPython.utils.wildcard': <module 'IPython.utils.wildcard' from 'D:\\\\Users\\\\Partha.bora\\\\Anaconda3\\\\lib\\\\site-packages\\\\IPython\\\\utils\\\\wildcard.py'>,\n",
       " 'pygments.lexers._mapping': <module 'pygments.lexers._mapping' from 'D:\\\\Users\\\\Partha.bora\\\\Anaconda3\\\\lib\\\\site-packages\\\\pygments\\\\lexers\\\\_mapping.py'>,\n",
       " 'pygments.modeline': <module 'pygments.modeline' from 'D:\\\\Users\\\\Partha.bora\\\\Anaconda3\\\\lib\\\\site-packages\\\\pygments\\\\modeline.py'>,\n",
       " 'pygments.plugin': <module 'pygments.plugin' from 'D:\\\\Users\\\\Partha.bora\\\\Anaconda3\\\\lib\\\\site-packages\\\\pygments\\\\plugin.py'>,\n",
       " 'pygments.util': <module 'pygments.util' from 'D:\\\\Users\\\\Partha.bora\\\\Anaconda3\\\\lib\\\\site-packages\\\\pygments\\\\util.py'>,\n",
       " 'pygments.lexers': <module 'pygments.lexers' from 'D:\\\\Users\\\\Partha.bora\\\\Anaconda3\\\\lib\\\\site-packages\\\\pygments\\\\lexers\\\\__init__.py'>,\n",
       " 'pygments.filter': <module 'pygments.filter' from 'D:\\\\Users\\\\Partha.bora\\\\Anaconda3\\\\lib\\\\site-packages\\\\pygments\\\\filter.py'>,\n",
       " 'pygments.token': <module 'pygments.token' from 'D:\\\\Users\\\\Partha.bora\\\\Anaconda3\\\\lib\\\\site-packages\\\\pygments\\\\token.py'>,\n",
       " 'pygments.filters': <module 'pygments.filters' from 'D:\\\\Users\\\\Partha.bora\\\\Anaconda3\\\\lib\\\\site-packages\\\\pygments\\\\filters\\\\__init__.py'>,\n",
       " 'pygments.regexopt': <module 'pygments.regexopt' from 'D:\\\\Users\\\\Partha.bora\\\\Anaconda3\\\\lib\\\\site-packages\\\\pygments\\\\regexopt.py'>,\n",
       " 'pygments.lexer': <module 'pygments.lexer' from 'D:\\\\Users\\\\Partha.bora\\\\Anaconda3\\\\lib\\\\site-packages\\\\pygments\\\\lexer.py'>,\n",
       " 'pygments.unistring': <module 'pygments.unistring' from 'D:\\\\Users\\\\Partha.bora\\\\Anaconda3\\\\lib\\\\site-packages\\\\pygments\\\\unistring.py'>,\n",
       " 'pygments.lexers.python': <module 'pygments.lexers.python' from 'D:\\\\Users\\\\Partha.bora\\\\Anaconda3\\\\lib\\\\site-packages\\\\pygments\\\\lexers\\\\python.py'>,\n",
       " 'pygments.formatters._mapping': <module 'pygments.formatters._mapping' from 'D:\\\\Users\\\\Partha.bora\\\\Anaconda3\\\\lib\\\\site-packages\\\\pygments\\\\formatters\\\\_mapping.py'>,\n",
       " 'pygments.formatters': <module 'pygments.formatters' from 'D:\\\\Users\\\\Partha.bora\\\\Anaconda3\\\\lib\\\\site-packages\\\\pygments\\\\formatters\\\\__init__.py'>,\n",
       " 'pygments.styles': <module 'pygments.styles' from 'D:\\\\Users\\\\Partha.bora\\\\Anaconda3\\\\lib\\\\site-packages\\\\pygments\\\\styles\\\\__init__.py'>,\n",
       " 'pygments.formatter': <module 'pygments.formatter' from 'D:\\\\Users\\\\Partha.bora\\\\Anaconda3\\\\lib\\\\site-packages\\\\pygments\\\\formatter.py'>,\n",
       " 'pygments.formatters.html': <module 'pygments.formatters.html' from 'D:\\\\Users\\\\Partha.bora\\\\Anaconda3\\\\lib\\\\site-packages\\\\pygments\\\\formatters\\\\html.py'>,\n",
       " 'IPython.core.oinspect': <module 'IPython.core.oinspect' from 'D:\\\\Users\\\\Partha.bora\\\\Anaconda3\\\\lib\\\\site-packages\\\\IPython\\\\core\\\\oinspect.py'>,\n",
       " 'IPython.core.inputtransformer2': <module 'IPython.core.inputtransformer2' from 'D:\\\\Users\\\\Partha.bora\\\\Anaconda3\\\\lib\\\\site-packages\\\\IPython\\\\core\\\\inputtransformer2.py'>,\n",
       " 'decorator': <module 'decorator' from 'D:\\\\Users\\\\Partha.bora\\\\Anaconda3\\\\lib\\\\site-packages\\\\decorator.py'>,\n",
       " 'IPython.core.magic': <module 'IPython.core.magic' from 'D:\\\\Users\\\\Partha.bora\\\\Anaconda3\\\\lib\\\\site-packages\\\\IPython\\\\core\\\\magic.py'>,\n",
       " 'pickleshare': <module 'pickleshare' from 'D:\\\\Users\\\\Partha.bora\\\\Anaconda3\\\\lib\\\\site-packages\\\\pickleshare.py'>,\n",
       " 'IPython.core.autocall': <module 'IPython.core.autocall' from 'D:\\\\Users\\\\Partha.bora\\\\Anaconda3\\\\lib\\\\site-packages\\\\IPython\\\\core\\\\autocall.py'>,\n",
       " 'IPython.core.macro': <module 'IPython.core.macro' from 'D:\\\\Users\\\\Partha.bora\\\\Anaconda3\\\\lib\\\\site-packages\\\\IPython\\\\core\\\\macro.py'>,\n",
       " 'IPython.core.splitinput': <module 'IPython.core.splitinput' from 'D:\\\\Users\\\\Partha.bora\\\\Anaconda3\\\\lib\\\\site-packages\\\\IPython\\\\core\\\\splitinput.py'>,\n",
       " 'IPython.core.prefilter': <module 'IPython.core.prefilter' from 'D:\\\\Users\\\\Partha.bora\\\\Anaconda3\\\\lib\\\\site-packages\\\\IPython\\\\core\\\\prefilter.py'>,\n",
       " 'IPython.core.alias': <module 'IPython.core.alias' from 'D:\\\\Users\\\\Partha.bora\\\\Anaconda3\\\\lib\\\\site-packages\\\\IPython\\\\core\\\\alias.py'>,\n",
       " 'IPython.core.builtin_trap': <module 'IPython.core.builtin_trap' from 'D:\\\\Users\\\\Partha.bora\\\\Anaconda3\\\\lib\\\\site-packages\\\\IPython\\\\core\\\\builtin_trap.py'>,\n",
       " 'backcall.backcall': <module 'backcall.backcall' from 'D:\\\\Users\\\\Partha.bora\\\\Anaconda3\\\\lib\\\\site-packages\\\\backcall\\\\backcall.py'>,\n",
       " 'backcall': <module 'backcall' from 'D:\\\\Users\\\\Partha.bora\\\\Anaconda3\\\\lib\\\\site-packages\\\\backcall\\\\__init__.py'>,\n",
       " 'IPython.core.events': <module 'IPython.core.events' from 'D:\\\\Users\\\\Partha.bora\\\\Anaconda3\\\\lib\\\\site-packages\\\\IPython\\\\core\\\\events.py'>,\n",
       " 'IPython.core.displayhook': <module 'IPython.core.displayhook' from 'D:\\\\Users\\\\Partha.bora\\\\Anaconda3\\\\lib\\\\site-packages\\\\IPython\\\\core\\\\displayhook.py'>,\n",
       " 'IPython.core.displaypub': <module 'IPython.core.displaypub' from 'D:\\\\Users\\\\Partha.bora\\\\Anaconda3\\\\lib\\\\site-packages\\\\IPython\\\\core\\\\displaypub.py'>,\n",
       " 'IPython.core.extensions': <module 'IPython.core.extensions' from 'D:\\\\Users\\\\Partha.bora\\\\Anaconda3\\\\lib\\\\site-packages\\\\IPython\\\\core\\\\extensions.py'>,\n",
       " 'IPython.utils.sentinel': <module 'IPython.utils.sentinel' from 'D:\\\\Users\\\\Partha.bora\\\\Anaconda3\\\\lib\\\\site-packages\\\\IPython\\\\utils\\\\sentinel.py'>,\n",
       " 'IPython.core.formatters': <module 'IPython.core.formatters' from 'D:\\\\Users\\\\Partha.bora\\\\Anaconda3\\\\lib\\\\site-packages\\\\IPython\\\\core\\\\formatters.py'>,\n",
       " '_sqlite3': <module '_sqlite3' from 'D:\\\\Users\\\\Partha.bora\\\\Anaconda3\\\\DLLs\\\\_sqlite3.pyd'>,\n",
       " 'sqlite3.dbapi2': <module 'sqlite3.dbapi2' from 'D:\\\\Users\\\\Partha.bora\\\\Anaconda3\\\\lib\\\\sqlite3\\\\dbapi2.py'>,\n",
       " 'sqlite3': <module 'sqlite3' from 'D:\\\\Users\\\\Partha.bora\\\\Anaconda3\\\\lib\\\\sqlite3\\\\__init__.py'>,\n",
       " 'IPython.core.history': <module 'IPython.core.history' from 'D:\\\\Users\\\\Partha.bora\\\\Anaconda3\\\\lib\\\\site-packages\\\\IPython\\\\core\\\\history.py'>,\n",
       " 'IPython.core.logger': <module 'IPython.core.logger' from 'D:\\\\Users\\\\Partha.bora\\\\Anaconda3\\\\lib\\\\site-packages\\\\IPython\\\\core\\\\logger.py'>,\n",
       " 'IPython.core.payload': <module 'IPython.core.payload' from 'D:\\\\Users\\\\Partha.bora\\\\Anaconda3\\\\lib\\\\site-packages\\\\IPython\\\\core\\\\payload.py'>,\n",
       " 'IPython.core.usage': <module 'IPython.core.usage' from 'D:\\\\Users\\\\Partha.bora\\\\Anaconda3\\\\lib\\\\site-packages\\\\IPython\\\\core\\\\usage.py'>,\n",
       " 'IPython.lib.display': <module 'IPython.lib.display' from 'D:\\\\Users\\\\Partha.bora\\\\Anaconda3\\\\lib\\\\site-packages\\\\IPython\\\\lib\\\\display.py'>,\n",
       " 'IPython.display': <module 'IPython.display' from 'D:\\\\Users\\\\Partha.bora\\\\Anaconda3\\\\lib\\\\site-packages\\\\IPython\\\\display.py'>,\n",
       " 'IPython.utils.capture': <module 'IPython.utils.capture' from 'D:\\\\Users\\\\Partha.bora\\\\Anaconda3\\\\lib\\\\site-packages\\\\IPython\\\\utils\\\\capture.py'>,\n",
       " 'IPython.utils.io': <module 'IPython.utils.io' from 'D:\\\\Users\\\\Partha.bora\\\\Anaconda3\\\\lib\\\\site-packages\\\\IPython\\\\utils\\\\io.py'>,\n",
       " 'IPython.core.hooks': <module 'IPython.core.hooks' from 'D:\\\\Users\\\\Partha.bora\\\\Anaconda3\\\\lib\\\\site-packages\\\\IPython\\\\core\\\\hooks.py'>,\n",
       " 'IPython.utils.strdispatch': <module 'IPython.utils.strdispatch' from 'D:\\\\Users\\\\Partha.bora\\\\Anaconda3\\\\lib\\\\site-packages\\\\IPython\\\\utils\\\\strdispatch.py'>,\n",
       " 'IPython.utils.syspathcontext': <module 'IPython.utils.syspathcontext' from 'D:\\\\Users\\\\Partha.bora\\\\Anaconda3\\\\lib\\\\site-packages\\\\IPython\\\\utils\\\\syspathcontext.py'>,\n",
       " 'IPython.utils.tempdir': <module 'IPython.utils.tempdir' from 'D:\\\\Users\\\\Partha.bora\\\\Anaconda3\\\\lib\\\\site-packages\\\\IPython\\\\utils\\\\tempdir.py'>,\n",
       " 'IPython.utils.contexts': <module 'IPython.utils.contexts' from 'D:\\\\Users\\\\Partha.bora\\\\Anaconda3\\\\lib\\\\site-packages\\\\IPython\\\\utils\\\\contexts.py'>,\n",
       " 'IPython.core.async_helpers': <module 'IPython.core.async_helpers' from 'D:\\\\Users\\\\Partha.bora\\\\Anaconda3\\\\lib\\\\site-packages\\\\IPython\\\\core\\\\async_helpers.py'>,\n",
       " 'IPython.core.interactiveshell': <module 'IPython.core.interactiveshell' from 'D:\\\\Users\\\\Partha.bora\\\\Anaconda3\\\\lib\\\\site-packages\\\\IPython\\\\core\\\\interactiveshell.py'>,\n",
       " 'prompt_toolkit.application.current': <module 'prompt_toolkit.application.current' from 'D:\\\\Users\\\\Partha.bora\\\\Anaconda3\\\\lib\\\\site-packages\\\\prompt_toolkit\\\\application\\\\current.py'>,\n",
       " 'prompt_toolkit.eventloop.utils': <module 'prompt_toolkit.eventloop.utils' from 'D:\\\\Users\\\\Partha.bora\\\\Anaconda3\\\\lib\\\\site-packages\\\\prompt_toolkit\\\\eventloop\\\\utils.py'>,\n",
       " 'prompt_toolkit.eventloop.async_generator': <module 'prompt_toolkit.eventloop.async_generator' from 'D:\\\\Users\\\\Partha.bora\\\\Anaconda3\\\\lib\\\\site-packages\\\\prompt_toolkit\\\\eventloop\\\\async_generator.py'>,\n",
       " 'wcwidth.table_wide': <module 'wcwidth.table_wide' from 'D:\\\\Users\\\\Partha.bora\\\\Anaconda3\\\\lib\\\\site-packages\\\\wcwidth\\\\table_wide.py'>,\n",
       " 'wcwidth.table_zero': <module 'wcwidth.table_zero' from 'D:\\\\Users\\\\Partha.bora\\\\Anaconda3\\\\lib\\\\site-packages\\\\wcwidth\\\\table_zero.py'>,\n",
       " 'wcwidth.unicode_versions': <module 'wcwidth.unicode_versions' from 'D:\\\\Users\\\\Partha.bora\\\\Anaconda3\\\\lib\\\\site-packages\\\\wcwidth\\\\unicode_versions.py'>,\n",
       " 'wcwidth.wcwidth': <module 'wcwidth.wcwidth' from 'D:\\\\Users\\\\Partha.bora\\\\Anaconda3\\\\lib\\\\site-packages\\\\wcwidth\\\\wcwidth.py'>,\n",
       " 'wcwidth': <module 'wcwidth' from 'D:\\\\Users\\\\Partha.bora\\\\Anaconda3\\\\lib\\\\site-packages\\\\wcwidth\\\\__init__.py'>,\n",
       " 'prompt_toolkit.utils': <module 'prompt_toolkit.utils' from 'D:\\\\Users\\\\Partha.bora\\\\Anaconda3\\\\lib\\\\site-packages\\\\prompt_toolkit\\\\utils.py'>,\n",
       " 'prompt_toolkit.eventloop.inputhook': <module 'prompt_toolkit.eventloop.inputhook' from 'D:\\\\Users\\\\Partha.bora\\\\Anaconda3\\\\lib\\\\site-packages\\\\prompt_toolkit\\\\eventloop\\\\inputhook.py'>,\n",
       " 'prompt_toolkit.eventloop': <module 'prompt_toolkit.eventloop' from 'D:\\\\Users\\\\Partha.bora\\\\Anaconda3\\\\lib\\\\site-packages\\\\prompt_toolkit\\\\eventloop\\\\__init__.py'>,\n",
       " 'prompt_toolkit.application.run_in_terminal': <module 'prompt_toolkit.application.run_in_terminal' from 'D:\\\\Users\\\\Partha.bora\\\\Anaconda3\\\\lib\\\\site-packages\\\\prompt_toolkit\\\\application\\\\run_in_terminal.py'>,\n",
       " 'prompt_toolkit.selection': <module 'prompt_toolkit.selection' from 'D:\\\\Users\\\\Partha.bora\\\\Anaconda3\\\\lib\\\\site-packages\\\\prompt_toolkit\\\\selection.py'>,\n",
       " 'prompt_toolkit.clipboard.base': <module 'prompt_toolkit.clipboard.base' from 'D:\\\\Users\\\\Partha.bora\\\\Anaconda3\\\\lib\\\\site-packages\\\\prompt_toolkit\\\\clipboard\\\\base.py'>,\n",
       " 'prompt_toolkit.clipboard.in_memory': <module 'prompt_toolkit.clipboard.in_memory' from 'D:\\\\Users\\\\Partha.bora\\\\Anaconda3\\\\lib\\\\site-packages\\\\prompt_toolkit\\\\clipboard\\\\in_memory.py'>,\n",
       " 'prompt_toolkit.clipboard': <module 'prompt_toolkit.clipboard' from 'D:\\\\Users\\\\Partha.bora\\\\Anaconda3\\\\lib\\\\site-packages\\\\prompt_toolkit\\\\clipboard\\\\__init__.py'>,\n",
       " 'prompt_toolkit.cache': <module 'prompt_toolkit.cache' from 'D:\\\\Users\\\\Partha.bora\\\\Anaconda3\\\\lib\\\\site-packages\\\\prompt_toolkit\\\\cache.py'>,\n",
       " 'prompt_toolkit.enums': <module 'prompt_toolkit.enums' from 'D:\\\\Users\\\\Partha.bora\\\\Anaconda3\\\\lib\\\\site-packages\\\\prompt_toolkit\\\\enums.py'>,\n",
       " 'prompt_toolkit.filters.base': <module 'prompt_toolkit.filters.base' from 'D:\\\\Users\\\\Partha.bora\\\\Anaconda3\\\\lib\\\\site-packages\\\\prompt_toolkit\\\\filters\\\\base.py'>,\n",
       " 'prompt_toolkit.filters.app': <module 'prompt_toolkit.filters.app' from 'D:\\\\Users\\\\Partha.bora\\\\Anaconda3\\\\lib\\\\site-packages\\\\prompt_toolkit\\\\filters\\\\app.py'>,\n",
       " 'prompt_toolkit.filters.cli': <module 'prompt_toolkit.filters.cli' from 'D:\\\\Users\\\\Partha.bora\\\\Anaconda3\\\\lib\\\\site-packages\\\\prompt_toolkit\\\\filters\\\\cli.py'>,\n",
       " 'prompt_toolkit.filters.utils': <module 'prompt_toolkit.filters.utils' from 'D:\\\\Users\\\\Partha.bora\\\\Anaconda3\\\\lib\\\\site-packages\\\\prompt_toolkit\\\\filters\\\\utils.py'>,\n",
       " 'prompt_toolkit.filters': <module 'prompt_toolkit.filters' from 'D:\\\\Users\\\\Partha.bora\\\\Anaconda3\\\\lib\\\\site-packages\\\\prompt_toolkit\\\\filters\\\\__init__.py'>,\n",
       " 'prompt_toolkit.document': <module 'prompt_toolkit.document' from 'D:\\\\Users\\\\Partha.bora\\\\Anaconda3\\\\lib\\\\site-packages\\\\prompt_toolkit\\\\document.py'>,\n",
       " 'prompt_toolkit.auto_suggest': <module 'prompt_toolkit.auto_suggest' from 'D:\\\\Users\\\\Partha.bora\\\\Anaconda3\\\\lib\\\\site-packages\\\\prompt_toolkit\\\\auto_suggest.py'>,\n",
       " 'prompt_toolkit.data_structures': <module 'prompt_toolkit.data_structures' from 'D:\\\\Users\\\\Partha.bora\\\\Anaconda3\\\\lib\\\\site-packages\\\\prompt_toolkit\\\\data_structures.py'>,\n",
       " 'prompt_toolkit.styles.base': <module 'prompt_toolkit.styles.base' from 'D:\\\\Users\\\\Partha.bora\\\\Anaconda3\\\\lib\\\\site-packages\\\\prompt_toolkit\\\\styles\\\\base.py'>,\n",
       " 'prompt_toolkit.styles.named_colors': <module 'prompt_toolkit.styles.named_colors' from 'D:\\\\Users\\\\Partha.bora\\\\Anaconda3\\\\lib\\\\site-packages\\\\prompt_toolkit\\\\styles\\\\named_colors.py'>,\n",
       " 'prompt_toolkit.styles.style': <module 'prompt_toolkit.styles.style' from 'D:\\\\Users\\\\Partha.bora\\\\Anaconda3\\\\lib\\\\site-packages\\\\prompt_toolkit\\\\styles\\\\style.py'>,\n",
       " 'prompt_toolkit.styles.defaults': <module 'prompt_toolkit.styles.defaults' from 'D:\\\\Users\\\\Partha.bora\\\\Anaconda3\\\\lib\\\\site-packages\\\\prompt_toolkit\\\\styles\\\\defaults.py'>,\n",
       " 'prompt_toolkit.styles.pygments': <module 'prompt_toolkit.styles.pygments' from 'D:\\\\Users\\\\Partha.bora\\\\Anaconda3\\\\lib\\\\site-packages\\\\prompt_toolkit\\\\styles\\\\pygments.py'>,\n",
       " 'colorsys': <module 'colorsys' from 'D:\\\\Users\\\\Partha.bora\\\\Anaconda3\\\\lib\\\\colorsys.py'>,\n",
       " 'prompt_toolkit.styles.style_transformation': <module 'prompt_toolkit.styles.style_transformation' from 'D:\\\\Users\\\\Partha.bora\\\\Anaconda3\\\\lib\\\\site-packages\\\\prompt_toolkit\\\\styles\\\\style_transformation.py'>,\n",
       " 'prompt_toolkit.styles': <module 'prompt_toolkit.styles' from 'D:\\\\Users\\\\Partha.bora\\\\Anaconda3\\\\lib\\\\site-packages\\\\prompt_toolkit\\\\styles\\\\__init__.py'>,\n",
       " 'prompt_toolkit.output.color_depth': <module 'prompt_toolkit.output.color_depth' from 'D:\\\\Users\\\\Partha.bora\\\\Anaconda3\\\\lib\\\\site-packages\\\\prompt_toolkit\\\\output\\\\color_depth.py'>,\n",
       " 'prompt_toolkit.output.base': <module 'prompt_toolkit.output.base' from 'D:\\\\Users\\\\Partha.bora\\\\Anaconda3\\\\lib\\\\site-packages\\\\prompt_toolkit\\\\output\\\\base.py'>,\n",
       " 'prompt_toolkit.output.defaults': <module 'prompt_toolkit.output.defaults' from 'D:\\\\Users\\\\Partha.bora\\\\Anaconda3\\\\lib\\\\site-packages\\\\prompt_toolkit\\\\output\\\\defaults.py'>,\n",
       " 'prompt_toolkit.output': <module 'prompt_toolkit.output' from 'D:\\\\Users\\\\Partha.bora\\\\Anaconda3\\\\lib\\\\site-packages\\\\prompt_toolkit\\\\output\\\\__init__.py'>,\n",
       " 'prompt_toolkit.output.vt100': <module 'prompt_toolkit.output.vt100' from 'D:\\\\Users\\\\Partha.bora\\\\Anaconda3\\\\lib\\\\site-packages\\\\prompt_toolkit\\\\output\\\\vt100.py'>,\n",
       " 'prompt_toolkit.mouse_events': <module 'prompt_toolkit.mouse_events' from 'D:\\\\Users\\\\Partha.bora\\\\Anaconda3\\\\lib\\\\site-packages\\\\prompt_toolkit\\\\mouse_events.py'>,\n",
       " 'prompt_toolkit.formatted_text.base': <module 'prompt_toolkit.formatted_text.base' from 'D:\\\\Users\\\\Partha.bora\\\\Anaconda3\\\\lib\\\\site-packages\\\\prompt_toolkit\\\\formatted_text\\\\base.py'>,\n",
       " 'prompt_toolkit.formatted_text.ansi': <module 'prompt_toolkit.formatted_text.ansi' from 'D:\\\\Users\\\\Partha.bora\\\\Anaconda3\\\\lib\\\\site-packages\\\\prompt_toolkit\\\\formatted_text\\\\ansi.py'>,\n",
       " 'xml': <module 'xml' from 'D:\\\\Users\\\\Partha.bora\\\\Anaconda3\\\\lib\\\\xml\\\\__init__.py'>,\n",
       " 'xml.dom.domreg': <module 'xml.dom.domreg' from 'D:\\\\Users\\\\Partha.bora\\\\Anaconda3\\\\lib\\\\xml\\\\dom\\\\domreg.py'>,\n",
       " 'xml.dom': <module 'xml.dom' from 'D:\\\\Users\\\\Partha.bora\\\\Anaconda3\\\\lib\\\\xml\\\\dom\\\\__init__.py'>,\n",
       " 'xml.dom.minicompat': <module 'xml.dom.minicompat' from 'D:\\\\Users\\\\Partha.bora\\\\Anaconda3\\\\lib\\\\xml\\\\dom\\\\minicompat.py'>,\n",
       " 'xml.dom.NodeFilter': <module 'xml.dom.NodeFilter' from 'D:\\\\Users\\\\Partha.bora\\\\Anaconda3\\\\lib\\\\xml\\\\dom\\\\NodeFilter.py'>,\n",
       " 'xml.dom.xmlbuilder': <module 'xml.dom.xmlbuilder' from 'D:\\\\Users\\\\Partha.bora\\\\Anaconda3\\\\lib\\\\xml\\\\dom\\\\xmlbuilder.py'>,\n",
       " 'xml.dom.minidom': <module 'xml.dom.minidom' from 'D:\\\\Users\\\\Partha.bora\\\\Anaconda3\\\\lib\\\\xml\\\\dom\\\\minidom.py'>,\n",
       " 'prompt_toolkit.formatted_text.html': <module 'prompt_toolkit.formatted_text.html' from 'D:\\\\Users\\\\Partha.bora\\\\Anaconda3\\\\lib\\\\site-packages\\\\prompt_toolkit\\\\formatted_text\\\\html.py'>,\n",
       " 'prompt_toolkit.formatted_text.pygments': <module 'prompt_toolkit.formatted_text.pygments' from 'D:\\\\Users\\\\Partha.bora\\\\Anaconda3\\\\lib\\\\site-packages\\\\prompt_toolkit\\\\formatted_text\\\\pygments.py'>,\n",
       " 'prompt_toolkit.formatted_text.utils': <module 'prompt_toolkit.formatted_text.utils' from 'D:\\\\Users\\\\Partha.bora\\\\Anaconda3\\\\lib\\\\site-packages\\\\prompt_toolkit\\\\formatted_text\\\\utils.py'>,\n",
       " 'prompt_toolkit.formatted_text': <module 'prompt_toolkit.formatted_text' from 'D:\\\\Users\\\\Partha.bora\\\\Anaconda3\\\\lib\\\\site-packages\\\\prompt_toolkit\\\\formatted_text\\\\__init__.py'>,\n",
       " 'prompt_toolkit.completion.base': <module 'prompt_toolkit.completion.base' from 'D:\\\\Users\\\\Partha.bora\\\\Anaconda3\\\\lib\\\\site-packages\\\\prompt_toolkit\\\\completion\\\\base.py'>,\n",
       " 'prompt_toolkit.completion.deduplicate': <module 'prompt_toolkit.completion.deduplicate' from 'D:\\\\Users\\\\Partha.bora\\\\Anaconda3\\\\lib\\\\site-packages\\\\prompt_toolkit\\\\completion\\\\deduplicate.py'>,\n",
       " 'prompt_toolkit.completion.filesystem': <module 'prompt_toolkit.completion.filesystem' from 'D:\\\\Users\\\\Partha.bora\\\\Anaconda3\\\\lib\\\\site-packages\\\\prompt_toolkit\\\\completion\\\\filesystem.py'>,\n",
       " 'prompt_toolkit.completion.word_completer': <module 'prompt_toolkit.completion.word_completer' from 'D:\\\\Users\\\\Partha.bora\\\\Anaconda3\\\\lib\\\\site-packages\\\\prompt_toolkit\\\\completion\\\\word_completer.py'>,\n",
       " 'prompt_toolkit.completion.fuzzy_completer': <module 'prompt_toolkit.completion.fuzzy_completer' from 'D:\\\\Users\\\\Partha.bora\\\\Anaconda3\\\\lib\\\\site-packages\\\\prompt_toolkit\\\\completion\\\\fuzzy_completer.py'>,\n",
       " 'prompt_toolkit.completion.nested': <module 'prompt_toolkit.completion.nested' from 'D:\\\\Users\\\\Partha.bora\\\\Anaconda3\\\\lib\\\\site-packages\\\\prompt_toolkit\\\\completion\\\\nested.py'>,\n",
       " 'prompt_toolkit.completion': <module 'prompt_toolkit.completion' from 'D:\\\\Users\\\\Partha.bora\\\\Anaconda3\\\\lib\\\\site-packages\\\\prompt_toolkit\\\\completion\\\\__init__.py'>,\n",
       " 'prompt_toolkit.history': <module 'prompt_toolkit.history' from 'D:\\\\Users\\\\Partha.bora\\\\Anaconda3\\\\lib\\\\site-packages\\\\prompt_toolkit\\\\history.py'>,\n",
       " 'prompt_toolkit.keys': <module 'prompt_toolkit.keys' from 'D:\\\\Users\\\\Partha.bora\\\\Anaconda3\\\\lib\\\\site-packages\\\\prompt_toolkit\\\\keys.py'>,\n",
       " 'prompt_toolkit.key_binding.key_bindings': <module 'prompt_toolkit.key_binding.key_bindings' from 'D:\\\\Users\\\\Partha.bora\\\\Anaconda3\\\\lib\\\\site-packages\\\\prompt_toolkit\\\\key_binding\\\\key_bindings.py'>,\n",
       " 'prompt_toolkit.key_binding.key_processor': <module 'prompt_toolkit.key_binding.key_processor' from 'D:\\\\Users\\\\Partha.bora\\\\Anaconda3\\\\lib\\\\site-packages\\\\prompt_toolkit\\\\key_binding\\\\key_processor.py'>,\n",
       " 'prompt_toolkit.key_binding': <module 'prompt_toolkit.key_binding' from 'D:\\\\Users\\\\Partha.bora\\\\Anaconda3\\\\lib\\\\site-packages\\\\prompt_toolkit\\\\key_binding\\\\__init__.py'>,\n",
       " 'prompt_toolkit.key_binding.vi_state': <module 'prompt_toolkit.key_binding.vi_state' from 'D:\\\\Users\\\\Partha.bora\\\\Anaconda3\\\\lib\\\\site-packages\\\\prompt_toolkit\\\\key_binding\\\\vi_state.py'>,\n",
       " 'prompt_toolkit.search': <module 'prompt_toolkit.search' from 'D:\\\\Users\\\\Partha.bora\\\\Anaconda3\\\\lib\\\\site-packages\\\\prompt_toolkit\\\\search.py'>,\n",
       " 'prompt_toolkit.validation': <module 'prompt_toolkit.validation' from 'D:\\\\Users\\\\Partha.bora\\\\Anaconda3\\\\lib\\\\site-packages\\\\prompt_toolkit\\\\validation.py'>,\n",
       " 'prompt_toolkit.buffer': <module 'prompt_toolkit.buffer' from 'D:\\\\Users\\\\Partha.bora\\\\Anaconda3\\\\lib\\\\site-packages\\\\prompt_toolkit\\\\buffer.py'>,\n",
       " 'prompt_toolkit.input.base': <module 'prompt_toolkit.input.base' from 'D:\\\\Users\\\\Partha.bora\\\\Anaconda3\\\\lib\\\\site-packages\\\\prompt_toolkit\\\\input\\\\base.py'>,\n",
       " 'prompt_toolkit.input.defaults': <module 'prompt_toolkit.input.defaults' from 'D:\\\\Users\\\\Partha.bora\\\\Anaconda3\\\\lib\\\\site-packages\\\\prompt_toolkit\\\\input\\\\defaults.py'>,\n",
       " 'prompt_toolkit.input': <module 'prompt_toolkit.input' from 'D:\\\\Users\\\\Partha.bora\\\\Anaconda3\\\\lib\\\\site-packages\\\\prompt_toolkit\\\\input\\\\__init__.py'>,\n",
       " 'prompt_toolkit.input.typeahead': <module 'prompt_toolkit.input.typeahead' from 'D:\\\\Users\\\\Partha.bora\\\\Anaconda3\\\\lib\\\\site-packages\\\\prompt_toolkit\\\\input\\\\typeahead.py'>,\n",
       " 'prompt_toolkit.key_binding.bindings': <module 'prompt_toolkit.key_binding.bindings' from 'D:\\\\Users\\\\Partha.bora\\\\Anaconda3\\\\lib\\\\site-packages\\\\prompt_toolkit\\\\key_binding\\\\bindings\\\\__init__.py'>,\n",
       " 'prompt_toolkit.key_binding.bindings.scroll': <module 'prompt_toolkit.key_binding.bindings.scroll' from 'D:\\\\Users\\\\Partha.bora\\\\Anaconda3\\\\lib\\\\site-packages\\\\prompt_toolkit\\\\key_binding\\\\bindings\\\\scroll.py'>,\n",
       " 'prompt_toolkit.key_binding.bindings.page_navigation': <module 'prompt_toolkit.key_binding.bindings.page_navigation' from 'D:\\\\Users\\\\Partha.bora\\\\Anaconda3\\\\lib\\\\site-packages\\\\prompt_toolkit\\\\key_binding\\\\bindings\\\\page_navigation.py'>,\n",
       " 'prompt_toolkit.lexers.base': <module 'prompt_toolkit.lexers.base' from 'D:\\\\Users\\\\Partha.bora\\\\Anaconda3\\\\lib\\\\site-packages\\\\prompt_toolkit\\\\lexers\\\\base.py'>,\n",
       " 'prompt_toolkit.lexers.pygments': <module 'prompt_toolkit.lexers.pygments' from 'D:\\\\Users\\\\Partha.bora\\\\Anaconda3\\\\lib\\\\site-packages\\\\prompt_toolkit\\\\lexers\\\\pygments.py'>,\n",
       " 'prompt_toolkit.lexers': <module 'prompt_toolkit.lexers' from 'D:\\\\Users\\\\Partha.bora\\\\Anaconda3\\\\lib\\\\site-packages\\\\prompt_toolkit\\\\lexers\\\\__init__.py'>,\n",
       " 'prompt_toolkit.layout.utils': <module 'prompt_toolkit.layout.utils' from 'D:\\\\Users\\\\Partha.bora\\\\Anaconda3\\\\lib\\\\site-packages\\\\prompt_toolkit\\\\layout\\\\utils.py'>,\n",
       " 'prompt_toolkit.layout.processors': <module 'prompt_toolkit.layout.processors' from 'D:\\\\Users\\\\Partha.bora\\\\Anaconda3\\\\lib\\\\site-packages\\\\prompt_toolkit\\\\layout\\\\processors.py'>,\n",
       " 'prompt_toolkit.layout.controls': <module 'prompt_toolkit.layout.controls' from 'D:\\\\Users\\\\Partha.bora\\\\Anaconda3\\\\lib\\\\site-packages\\\\prompt_toolkit\\\\layout\\\\controls.py'>,\n",
       " 'prompt_toolkit.layout.dimension': <module 'prompt_toolkit.layout.dimension' from 'D:\\\\Users\\\\Partha.bora\\\\Anaconda3\\\\lib\\\\site-packages\\\\prompt_toolkit\\\\layout\\\\dimension.py'>,\n",
       " 'prompt_toolkit.layout.margins': <module 'prompt_toolkit.layout.margins' from 'D:\\\\Users\\\\Partha.bora\\\\Anaconda3\\\\lib\\\\site-packages\\\\prompt_toolkit\\\\layout\\\\margins.py'>,\n",
       " 'prompt_toolkit.layout.mouse_handlers': <module 'prompt_toolkit.layout.mouse_handlers' from 'D:\\\\Users\\\\Partha.bora\\\\Anaconda3\\\\lib\\\\site-packages\\\\prompt_toolkit\\\\layout\\\\mouse_handlers.py'>,\n",
       " 'prompt_toolkit.layout.screen': <module 'prompt_toolkit.layout.screen' from 'D:\\\\Users\\\\Partha.bora\\\\Anaconda3\\\\lib\\\\site-packages\\\\prompt_toolkit\\\\layout\\\\screen.py'>,\n",
       " 'prompt_toolkit.layout.containers': <module 'prompt_toolkit.layout.containers' from 'D:\\\\Users\\\\Partha.bora\\\\Anaconda3\\\\lib\\\\site-packages\\\\prompt_toolkit\\\\layout\\\\containers.py'>,\n",
       " 'prompt_toolkit.layout.layout': <module 'prompt_toolkit.layout.layout' from 'D:\\\\Users\\\\Partha.bora\\\\Anaconda3\\\\lib\\\\site-packages\\\\prompt_toolkit\\\\layout\\\\layout.py'>,\n",
       " 'prompt_toolkit.layout.menus': <module 'prompt_toolkit.layout.menus' from 'D:\\\\Users\\\\Partha.bora\\\\Anaconda3\\\\lib\\\\site-packages\\\\prompt_toolkit\\\\layout\\\\menus.py'>,\n",
       " 'prompt_toolkit.layout.scrollable_pane': <module 'prompt_toolkit.layout.scrollable_pane' from 'D:\\\\Users\\\\Partha.bora\\\\Anaconda3\\\\lib\\\\site-packages\\\\prompt_toolkit\\\\layout\\\\scrollable_pane.py'>,\n",
       " 'prompt_toolkit.layout': <module 'prompt_toolkit.layout' from 'D:\\\\Users\\\\Partha.bora\\\\Anaconda3\\\\lib\\\\site-packages\\\\prompt_toolkit\\\\layout\\\\__init__.py'>,\n",
       " 'prompt_toolkit.key_binding.bindings.completion': <module 'prompt_toolkit.key_binding.bindings.completion' from 'D:\\\\Users\\\\Partha.bora\\\\Anaconda3\\\\lib\\\\site-packages\\\\prompt_toolkit\\\\key_binding\\\\bindings\\\\completion.py'>,\n",
       " 'prompt_toolkit.key_binding.bindings.named_commands': <module 'prompt_toolkit.key_binding.bindings.named_commands' from 'D:\\\\Users\\\\Partha.bora\\\\Anaconda3\\\\lib\\\\site-packages\\\\prompt_toolkit\\\\key_binding\\\\bindings\\\\named_commands.py'>,\n",
       " 'prompt_toolkit.key_binding.bindings.basic': <module 'prompt_toolkit.key_binding.bindings.basic' from 'D:\\\\Users\\\\Partha.bora\\\\Anaconda3\\\\lib\\\\site-packages\\\\prompt_toolkit\\\\key_binding\\\\bindings\\\\basic.py'>,\n",
       " 'prompt_toolkit.key_binding.bindings.cpr': <module 'prompt_toolkit.key_binding.bindings.cpr' from 'D:\\\\Users\\\\Partha.bora\\\\Anaconda3\\\\lib\\\\site-packages\\\\prompt_toolkit\\\\key_binding\\\\bindings\\\\cpr.py'>,\n",
       " 'prompt_toolkit.key_binding.bindings.emacs': <module 'prompt_toolkit.key_binding.bindings.emacs' from 'D:\\\\Users\\\\Partha.bora\\\\Anaconda3\\\\lib\\\\site-packages\\\\prompt_toolkit\\\\key_binding\\\\bindings\\\\emacs.py'>,\n",
       " 'prompt_toolkit.key_binding.bindings.mouse': <module 'prompt_toolkit.key_binding.bindings.mouse' from 'D:\\\\Users\\\\Partha.bora\\\\Anaconda3\\\\lib\\\\site-packages\\\\prompt_toolkit\\\\key_binding\\\\bindings\\\\mouse.py'>,\n",
       " 'prompt_toolkit.input.ansi_escape_sequences': <module 'prompt_toolkit.input.ansi_escape_sequences' from 'D:\\\\Users\\\\Partha.bora\\\\Anaconda3\\\\lib\\\\site-packages\\\\prompt_toolkit\\\\input\\\\ansi_escape_sequences.py'>,\n",
       " 'prompt_toolkit.input.vt100_parser': <module 'prompt_toolkit.input.vt100_parser' from 'D:\\\\Users\\\\Partha.bora\\\\Anaconda3\\\\lib\\\\site-packages\\\\prompt_toolkit\\\\input\\\\vt100_parser.py'>,\n",
       " 'prompt_toolkit.key_binding.digraphs': <module 'prompt_toolkit.key_binding.digraphs' from 'D:\\\\Users\\\\Partha.bora\\\\Anaconda3\\\\lib\\\\site-packages\\\\prompt_toolkit\\\\key_binding\\\\digraphs.py'>,\n",
       " 'prompt_toolkit.key_binding.bindings.vi': <module 'prompt_toolkit.key_binding.bindings.vi' from 'D:\\\\Users\\\\Partha.bora\\\\Anaconda3\\\\lib\\\\site-packages\\\\prompt_toolkit\\\\key_binding\\\\bindings\\\\vi.py'>,\n",
       " 'prompt_toolkit.key_binding.defaults': <module 'prompt_toolkit.key_binding.defaults' from 'D:\\\\Users\\\\Partha.bora\\\\Anaconda3\\\\lib\\\\site-packages\\\\prompt_toolkit\\\\key_binding\\\\defaults.py'>,\n",
       " 'prompt_toolkit.key_binding.emacs_state': <module 'prompt_toolkit.key_binding.emacs_state' from 'D:\\\\Users\\\\Partha.bora\\\\Anaconda3\\\\lib\\\\site-packages\\\\prompt_toolkit\\\\key_binding\\\\emacs_state.py'>,\n",
       " 'prompt_toolkit.layout.dummy': <module 'prompt_toolkit.layout.dummy' from 'D:\\\\Users\\\\Partha.bora\\\\Anaconda3\\\\lib\\\\site-packages\\\\prompt_toolkit\\\\layout\\\\dummy.py'>,\n",
       " 'prompt_toolkit.renderer': <module 'prompt_toolkit.renderer' from 'D:\\\\Users\\\\Partha.bora\\\\Anaconda3\\\\lib\\\\site-packages\\\\prompt_toolkit\\\\renderer.py'>,\n",
       " 'prompt_toolkit.application.application': <module 'prompt_toolkit.application.application' from 'D:\\\\Users\\\\Partha.bora\\\\Anaconda3\\\\lib\\\\site-packages\\\\prompt_toolkit\\\\application\\\\application.py'>,\n",
       " 'prompt_toolkit.application.dummy': <module 'prompt_toolkit.application.dummy' from 'D:\\\\Users\\\\Partha.bora\\\\Anaconda3\\\\lib\\\\site-packages\\\\prompt_toolkit\\\\application\\\\dummy.py'>,\n",
       " 'prompt_toolkit.application': <module 'prompt_toolkit.application' from 'D:\\\\Users\\\\Partha.bora\\\\Anaconda3\\\\lib\\\\site-packages\\\\prompt_toolkit\\\\application\\\\__init__.py'>,\n",
       " 'prompt_toolkit.key_binding.bindings.focus': <module 'prompt_toolkit.key_binding.bindings.focus' from 'D:\\\\Users\\\\Partha.bora\\\\Anaconda3\\\\lib\\\\site-packages\\\\prompt_toolkit\\\\key_binding\\\\bindings\\\\focus.py'>,\n",
       " 'prompt_toolkit.widgets.toolbars': <module 'prompt_toolkit.widgets.toolbars' from 'D:\\\\Users\\\\Partha.bora\\\\Anaconda3\\\\lib\\\\site-packages\\\\prompt_toolkit\\\\widgets\\\\toolbars.py'>,\n",
       " 'prompt_toolkit.widgets.base': <module 'prompt_toolkit.widgets.base' from 'D:\\\\Users\\\\Partha.bora\\\\Anaconda3\\\\lib\\\\site-packages\\\\prompt_toolkit\\\\widgets\\\\base.py'>,\n",
       " 'prompt_toolkit.widgets.dialogs': <module 'prompt_toolkit.widgets.dialogs' from 'D:\\\\Users\\\\Partha.bora\\\\Anaconda3\\\\lib\\\\site-packages\\\\prompt_toolkit\\\\widgets\\\\dialogs.py'>,\n",
       " 'prompt_toolkit.widgets.menus': <module 'prompt_toolkit.widgets.menus' from 'D:\\\\Users\\\\Partha.bora\\\\Anaconda3\\\\lib\\\\site-packages\\\\prompt_toolkit\\\\widgets\\\\menus.py'>,\n",
       " 'prompt_toolkit.widgets': <module 'prompt_toolkit.widgets' from 'D:\\\\Users\\\\Partha.bora\\\\Anaconda3\\\\lib\\\\site-packages\\\\prompt_toolkit\\\\widgets\\\\__init__.py'>,\n",
       " 'prompt_toolkit.shortcuts.dialogs': <module 'prompt_toolkit.shortcuts.dialogs' from 'D:\\\\Users\\\\Partha.bora\\\\Anaconda3\\\\lib\\\\site-packages\\\\prompt_toolkit\\\\shortcuts\\\\dialogs.py'>,\n",
       " 'prompt_toolkit.shortcuts.progress_bar.formatters': <module 'prompt_toolkit.shortcuts.progress_bar.formatters' from 'D:\\\\Users\\\\Partha.bora\\\\Anaconda3\\\\lib\\\\site-packages\\\\prompt_toolkit\\\\shortcuts\\\\progress_bar\\\\formatters.py'>,\n",
       " 'prompt_toolkit.shortcuts.progress_bar.base': <module 'prompt_toolkit.shortcuts.progress_bar.base' from 'D:\\\\Users\\\\Partha.bora\\\\Anaconda3\\\\lib\\\\site-packages\\\\prompt_toolkit\\\\shortcuts\\\\progress_bar\\\\base.py'>,\n",
       " 'prompt_toolkit.shortcuts.progress_bar': <module 'prompt_toolkit.shortcuts.progress_bar' from 'D:\\\\Users\\\\Partha.bora\\\\Anaconda3\\\\lib\\\\site-packages\\\\prompt_toolkit\\\\shortcuts\\\\progress_bar\\\\__init__.py'>,\n",
       " 'prompt_toolkit.key_binding.bindings.auto_suggest': <module 'prompt_toolkit.key_binding.bindings.auto_suggest' from 'D:\\\\Users\\\\Partha.bora\\\\Anaconda3\\\\lib\\\\site-packages\\\\prompt_toolkit\\\\key_binding\\\\bindings\\\\auto_suggest.py'>,\n",
       " 'prompt_toolkit.key_binding.bindings.open_in_editor': <module 'prompt_toolkit.key_binding.bindings.open_in_editor' from 'D:\\\\Users\\\\Partha.bora\\\\Anaconda3\\\\lib\\\\site-packages\\\\prompt_toolkit\\\\key_binding\\\\bindings\\\\open_in_editor.py'>,\n",
       " 'prompt_toolkit.shortcuts.prompt': <module 'prompt_toolkit.shortcuts.prompt' from 'D:\\\\Users\\\\Partha.bora\\\\Anaconda3\\\\lib\\\\site-packages\\\\prompt_toolkit\\\\shortcuts\\\\prompt.py'>,\n",
       " 'prompt_toolkit.shortcuts.utils': <module 'prompt_toolkit.shortcuts.utils' from 'D:\\\\Users\\\\Partha.bora\\\\Anaconda3\\\\lib\\\\site-packages\\\\prompt_toolkit\\\\shortcuts\\\\utils.py'>,\n",
       " 'prompt_toolkit.shortcuts': <module 'prompt_toolkit.shortcuts' from 'D:\\\\Users\\\\Partha.bora\\\\Anaconda3\\\\lib\\\\site-packages\\\\prompt_toolkit\\\\shortcuts\\\\__init__.py'>,\n",
       " 'prompt_toolkit': <module 'prompt_toolkit' from 'D:\\\\Users\\\\Partha.bora\\\\Anaconda3\\\\lib\\\\site-packages\\\\prompt_toolkit\\\\__init__.py'>,\n",
       " 'prompt_toolkit.patch_stdout': <module 'prompt_toolkit.patch_stdout' from 'D:\\\\Users\\\\Partha.bora\\\\Anaconda3\\\\lib\\\\site-packages\\\\prompt_toolkit\\\\patch_stdout.py'>,\n",
       " 'pygments.style': <module 'pygments.style' from 'D:\\\\Users\\\\Partha.bora\\\\Anaconda3\\\\lib\\\\site-packages\\\\pygments\\\\style.py'>,\n",
       " 'unicodedata': <module 'unicodedata' from 'D:\\\\Users\\\\Partha.bora\\\\Anaconda3\\\\DLLs\\\\unicodedata.pyd'>,\n",
       " 'IPython.core.latex_symbols': <module 'IPython.core.latex_symbols' from 'D:\\\\Users\\\\Partha.bora\\\\Anaconda3\\\\lib\\\\site-packages\\\\IPython\\\\core\\\\latex_symbols.py'>,\n",
       " 'IPython.utils.generics': <module 'IPython.utils.generics' from 'D:\\\\Users\\\\Partha.bora\\\\Anaconda3\\\\lib\\\\site-packages\\\\IPython\\\\utils\\\\generics.py'>,\n",
       " 'parso.utils': <module 'parso.utils' from 'D:\\\\Users\\\\Partha.bora\\\\Anaconda3\\\\lib\\\\site-packages\\\\parso\\\\utils.py'>,\n",
       " 'parso.tree': <module 'parso.tree' from 'D:\\\\Users\\\\Partha.bora\\\\Anaconda3\\\\lib\\\\site-packages\\\\parso\\\\tree.py'>,\n",
       " 'parso.python': <module 'parso.python' from 'D:\\\\Users\\\\Partha.bora\\\\Anaconda3\\\\lib\\\\site-packages\\\\parso\\\\python\\\\__init__.py'>,\n",
       " 'parso.python.token': <module 'parso.python.token' from 'D:\\\\Users\\\\Partha.bora\\\\Anaconda3\\\\lib\\\\site-packages\\\\parso\\\\python\\\\token.py'>,\n",
       " 'parso.python.tokenize': <module 'parso.python.tokenize' from 'D:\\\\Users\\\\Partha.bora\\\\Anaconda3\\\\lib\\\\site-packages\\\\parso\\\\python\\\\tokenize.py'>,\n",
       " 'parso.pgen2.grammar_parser': <module 'parso.pgen2.grammar_parser' from 'D:\\\\Users\\\\Partha.bora\\\\Anaconda3\\\\lib\\\\site-packages\\\\parso\\\\pgen2\\\\grammar_parser.py'>,\n",
       " 'parso.pgen2.generator': <module 'parso.pgen2.generator' from 'D:\\\\Users\\\\Partha.bora\\\\Anaconda3\\\\lib\\\\site-packages\\\\parso\\\\pgen2\\\\generator.py'>,\n",
       " 'parso.pgen2': <module 'parso.pgen2' from 'D:\\\\Users\\\\Partha.bora\\\\Anaconda3\\\\lib\\\\site-packages\\\\parso\\\\pgen2\\\\__init__.py'>,\n",
       " 'parso.parser': <module 'parso.parser' from 'D:\\\\Users\\\\Partha.bora\\\\Anaconda3\\\\lib\\\\site-packages\\\\parso\\\\parser.py'>,\n",
       " 'parso._compatibility': <module 'parso._compatibility' from 'D:\\\\Users\\\\Partha.bora\\\\Anaconda3\\\\lib\\\\site-packages\\\\parso\\\\_compatibility.py'>,\n",
       " 'difflib': <module 'difflib' from 'D:\\\\Users\\\\Partha.bora\\\\Anaconda3\\\\lib\\\\difflib.py'>,\n",
       " 'parso.python.prefix': <module 'parso.python.prefix' from 'D:\\\\Users\\\\Partha.bora\\\\Anaconda3\\\\lib\\\\site-packages\\\\parso\\\\python\\\\prefix.py'>,\n",
       " 'parso.python.tree': <module 'parso.python.tree' from 'D:\\\\Users\\\\Partha.bora\\\\Anaconda3\\\\lib\\\\site-packages\\\\parso\\\\python\\\\tree.py'>,\n",
       " 'parso.python.parser': <module 'parso.python.parser' from 'D:\\\\Users\\\\Partha.bora\\\\Anaconda3\\\\lib\\\\site-packages\\\\parso\\\\python\\\\parser.py'>,\n",
       " 'parso.python.diff': <module 'parso.python.diff' from 'D:\\\\Users\\\\Partha.bora\\\\Anaconda3\\\\lib\\\\site-packages\\\\parso\\\\python\\\\diff.py'>,\n",
       " 'gc': <module 'gc' (built-in)>,\n",
       " 'parso.cache': <module 'parso.cache' from 'D:\\\\Users\\\\Partha.bora\\\\Anaconda3\\\\lib\\\\site-packages\\\\parso\\\\cache.py'>,\n",
       " 'parso.normalizer': <module 'parso.normalizer' from 'D:\\\\Users\\\\Partha.bora\\\\Anaconda3\\\\lib\\\\site-packages\\\\parso\\\\normalizer.py'>,\n",
       " 'parso.python.errors': <module 'parso.python.errors' from 'D:\\\\Users\\\\Partha.bora\\\\Anaconda3\\\\lib\\\\site-packages\\\\parso\\\\python\\\\errors.py'>,\n",
       " 'parso.python.pep8': <module 'parso.python.pep8' from 'D:\\\\Users\\\\Partha.bora\\\\Anaconda3\\\\lib\\\\site-packages\\\\parso\\\\python\\\\pep8.py'>,\n",
       " 'parso.file_io': <module 'parso.file_io' from 'D:\\\\Users\\\\Partha.bora\\\\Anaconda3\\\\lib\\\\site-packages\\\\parso\\\\file_io.py'>,\n",
       " 'parso.grammar': <module 'parso.grammar' from 'D:\\\\Users\\\\Partha.bora\\\\Anaconda3\\\\lib\\\\site-packages\\\\parso\\\\grammar.py'>,\n",
       " 'parso': <module 'parso' from 'D:\\\\Users\\\\Partha.bora\\\\Anaconda3\\\\lib\\\\site-packages\\\\parso\\\\__init__.py'>,\n",
       " 'jedi.parser_utils': <module 'jedi.parser_utils' from 'D:\\\\Users\\\\Partha.bora\\\\Anaconda3\\\\lib\\\\site-packages\\\\jedi\\\\parser_utils.py'>,\n",
       " 'jedi.debug': <module 'jedi.debug' from 'D:\\\\Users\\\\Partha.bora\\\\Anaconda3\\\\lib\\\\site-packages\\\\jedi\\\\debug.py'>,\n",
       " 'jedi.settings': <module 'jedi.settings' from 'D:\\\\Users\\\\Partha.bora\\\\Anaconda3\\\\lib\\\\site-packages\\\\jedi\\\\settings.py'>,\n",
       " 'jedi.cache': <module 'jedi.cache' from 'D:\\\\Users\\\\Partha.bora\\\\Anaconda3\\\\lib\\\\site-packages\\\\jedi\\\\cache.py'>,\n",
       " 'jedi.file_io': <module 'jedi.file_io' from 'D:\\\\Users\\\\Partha.bora\\\\Anaconda3\\\\lib\\\\site-packages\\\\jedi\\\\file_io.py'>,\n",
       " 'jedi.inference.cache': <module 'jedi.inference.cache' from 'D:\\\\Users\\\\Partha.bora\\\\Anaconda3\\\\lib\\\\site-packages\\\\jedi\\\\inference\\\\cache.py'>,\n",
       " 'jedi.inference.helpers': <module 'jedi.inference.helpers' from 'D:\\\\Users\\\\Partha.bora\\\\Anaconda3\\\\lib\\\\site-packages\\\\jedi\\\\inference\\\\helpers.py'>,\n",
       " 'jedi.inference.utils': <module 'jedi.inference.utils' from 'D:\\\\Users\\\\Partha.bora\\\\Anaconda3\\\\lib\\\\site-packages\\\\jedi\\\\inference\\\\utils.py'>,\n",
       " 'jedi.inference.base_value': <module 'jedi.inference.base_value' from 'D:\\\\Users\\\\Partha.bora\\\\Anaconda3\\\\lib\\\\site-packages\\\\jedi\\\\inference\\\\base_value.py'>,\n",
       " 'jedi.inference.sys_path': <module 'jedi.inference.sys_path' from 'D:\\\\Users\\\\Partha.bora\\\\Anaconda3\\\\lib\\\\site-packages\\\\jedi\\\\inference\\\\sys_path.py'>,\n",
       " 'jedi.inference.recursion': <module 'jedi.inference.recursion' from 'D:\\\\Users\\\\Partha.bora\\\\Anaconda3\\\\lib\\\\site-packages\\\\jedi\\\\inference\\\\recursion.py'>,\n",
       " 'jedi.inference.flow_analysis': <module 'jedi.inference.flow_analysis' from 'D:\\\\Users\\\\Partha.bora\\\\Anaconda3\\\\lib\\\\site-packages\\\\jedi\\\\inference\\\\flow_analysis.py'>,\n",
       " 'jedi.common': <module 'jedi.common' from 'D:\\\\Users\\\\Partha.bora\\\\Anaconda3\\\\lib\\\\site-packages\\\\jedi\\\\common.py'>,\n",
       " 'jedi.inference.lazy_value': <module 'jedi.inference.lazy_value' from 'D:\\\\Users\\\\Partha.bora\\\\Anaconda3\\\\lib\\\\site-packages\\\\jedi\\\\inference\\\\lazy_value.py'>,\n",
       " 'jedi.inference.docstrings': <module 'jedi.inference.docstrings' from 'D:\\\\Users\\\\Partha.bora\\\\Anaconda3\\\\lib\\\\site-packages\\\\jedi\\\\inference\\\\docstrings.py'>,\n",
       " 'jedi.plugins': <module 'jedi.plugins' from 'D:\\\\Users\\\\Partha.bora\\\\Anaconda3\\\\lib\\\\site-packages\\\\jedi\\\\plugins\\\\__init__.py'>,\n",
       " 'jedi.inference.names': <module 'jedi.inference.names' from 'D:\\\\Users\\\\Partha.bora\\\\Anaconda3\\\\lib\\\\site-packages\\\\jedi\\\\inference\\\\names.py'>,\n",
       " 'jedi.inference.filters': <module 'jedi.inference.filters' from 'D:\\\\Users\\\\Partha.bora\\\\Anaconda3\\\\lib\\\\site-packages\\\\jedi\\\\inference\\\\filters.py'>,\n",
       " 'jedi.inference.compiled.getattr_static': <module 'jedi.inference.compiled.getattr_static' from 'D:\\\\Users\\\\Partha.bora\\\\Anaconda3\\\\lib\\\\site-packages\\\\jedi\\\\inference\\\\compiled\\\\getattr_static.py'>,\n",
       " 'jedi.inference.compiled.access': <module 'jedi.inference.compiled.access' from 'D:\\\\Users\\\\Partha.bora\\\\Anaconda3\\\\lib\\\\site-packages\\\\jedi\\\\inference\\\\compiled\\\\access.py'>,\n",
       " 'jedi.inference.signature': <module 'jedi.inference.signature' from 'D:\\\\Users\\\\Partha.bora\\\\Anaconda3\\\\lib\\\\site-packages\\\\jedi\\\\inference\\\\signature.py'>,\n",
       " 'jedi.inference.context': <module 'jedi.inference.context' from 'D:\\\\Users\\\\Partha.bora\\\\Anaconda3\\\\lib\\\\site-packages\\\\jedi\\\\inference\\\\context.py'>,\n",
       " 'jedi.inference.compiled.value': <module 'jedi.inference.compiled.value' from 'D:\\\\Users\\\\Partha.bora\\\\Anaconda3\\\\lib\\\\site-packages\\\\jedi\\\\inference\\\\compiled\\\\value.py'>,\n",
       " 'jedi.inference.compiled': <module 'jedi.inference.compiled' from 'D:\\\\Users\\\\Partha.bora\\\\Anaconda3\\\\lib\\\\site-packages\\\\jedi\\\\inference\\\\compiled\\\\__init__.py'>,\n",
       " 'jedi.inference.analysis': <module 'jedi.inference.analysis' from 'D:\\\\Users\\\\Partha.bora\\\\Anaconda3\\\\lib\\\\site-packages\\\\jedi\\\\inference\\\\analysis.py'>,\n",
       " 'jedi.inference.gradual': <module 'jedi.inference.gradual' from 'D:\\\\Users\\\\Partha.bora\\\\Anaconda3\\\\lib\\\\site-packages\\\\jedi\\\\inference\\\\gradual\\\\__init__.py'>,\n",
       " 'jedi.inference.value.module': <module 'jedi.inference.value.module' from 'D:\\\\Users\\\\Partha.bora\\\\Anaconda3\\\\lib\\\\site-packages\\\\jedi\\\\inference\\\\value\\\\module.py'>,\n",
       " 'jedi.inference.value.dynamic_arrays': <module 'jedi.inference.value.dynamic_arrays' from 'D:\\\\Users\\\\Partha.bora\\\\Anaconda3\\\\lib\\\\site-packages\\\\jedi\\\\inference\\\\value\\\\dynamic_arrays.py'>,\n",
       " 'jedi.inference.value.iterable': <module 'jedi.inference.value.iterable' from 'D:\\\\Users\\\\Partha.bora\\\\Anaconda3\\\\lib\\\\site-packages\\\\jedi\\\\inference\\\\value\\\\iterable.py'>,\n",
       " 'jedi.inference.arguments': <module 'jedi.inference.arguments' from 'D:\\\\Users\\\\Partha.bora\\\\Anaconda3\\\\lib\\\\site-packages\\\\jedi\\\\inference\\\\arguments.py'>,\n",
       " 'jedi.inference.parser_cache': <module 'jedi.inference.parser_cache' from 'D:\\\\Users\\\\Partha.bora\\\\Anaconda3\\\\lib\\\\site-packages\\\\jedi\\\\inference\\\\parser_cache.py'>,\n",
       " 'jedi.inference.gradual.generics': <module 'jedi.inference.gradual.generics' from 'D:\\\\Users\\\\Partha.bora\\\\Anaconda3\\\\lib\\\\site-packages\\\\jedi\\\\inference\\\\gradual\\\\generics.py'>,\n",
       " 'jedi.inference.value.function': <module 'jedi.inference.value.function' from 'D:\\\\Users\\\\Partha.bora\\\\Anaconda3\\\\lib\\\\site-packages\\\\jedi\\\\inference\\\\value\\\\function.py'>,\n",
       " 'jedi.inference.value.klass': <module 'jedi.inference.value.klass' from 'D:\\\\Users\\\\Partha.bora\\\\Anaconda3\\\\lib\\\\site-packages\\\\jedi\\\\inference\\\\value\\\\klass.py'>,\n",
       " 'jedi.inference.value.instance': <module 'jedi.inference.value.instance' from 'D:\\\\Users\\\\Partha.bora\\\\Anaconda3\\\\lib\\\\site-packages\\\\jedi\\\\inference\\\\value\\\\instance.py'>,\n",
       " 'jedi.inference.value': <module 'jedi.inference.value' from 'D:\\\\Users\\\\Partha.bora\\\\Anaconda3\\\\lib\\\\site-packages\\\\jedi\\\\inference\\\\value\\\\__init__.py'>,\n",
       " 'jedi.inference.gradual.base': <module 'jedi.inference.gradual.base' from 'D:\\\\Users\\\\Partha.bora\\\\Anaconda3\\\\lib\\\\site-packages\\\\jedi\\\\inference\\\\gradual\\\\base.py'>,\n",
       " 'jedi.inference.gradual.type_var': <module 'jedi.inference.gradual.type_var' from 'D:\\\\Users\\\\Partha.bora\\\\Anaconda3\\\\lib\\\\site-packages\\\\jedi\\\\inference\\\\gradual\\\\type_var.py'>,\n",
       " 'jedi.inference.gradual.typing': <module 'jedi.inference.gradual.typing' from 'D:\\\\Users\\\\Partha.bora\\\\Anaconda3\\\\lib\\\\site-packages\\\\jedi\\\\inference\\\\gradual\\\\typing.py'>,\n",
       " 'jedi.inference.gradual.stub_value': <module 'jedi.inference.gradual.stub_value' from 'D:\\\\Users\\\\Partha.bora\\\\Anaconda3\\\\lib\\\\site-packages\\\\jedi\\\\inference\\\\gradual\\\\stub_value.py'>,\n",
       " 'jedi.inference.gradual.typeshed': <module 'jedi.inference.gradual.typeshed' from 'D:\\\\Users\\\\Partha.bora\\\\Anaconda3\\\\lib\\\\site-packages\\\\jedi\\\\inference\\\\gradual\\\\typeshed.py'>,\n",
       " 'jedi._compatibility': <module 'jedi._compatibility' from 'D:\\\\Users\\\\Partha.bora\\\\Anaconda3\\\\lib\\\\site-packages\\\\jedi\\\\_compatibility.py'>,\n",
       " 'jedi.inference.compiled.subprocess.functions': <module 'jedi.inference.compiled.subprocess.functions' from 'D:\\\\Users\\\\Partha.bora\\\\Anaconda3\\\\lib\\\\site-packages\\\\jedi\\\\inference\\\\compiled\\\\subprocess\\\\functions.py'>,\n",
       " 'jedi.api.exceptions': <module 'jedi.api.exceptions' from 'D:\\\\Users\\\\Partha.bora\\\\Anaconda3\\\\lib\\\\site-packages\\\\jedi\\\\api\\\\exceptions.py'>,\n",
       " 'jedi.inference.compiled.subprocess': <module 'jedi.inference.compiled.subprocess' from 'D:\\\\Users\\\\Partha.bora\\\\Anaconda3\\\\lib\\\\site-packages\\\\jedi\\\\inference\\\\compiled\\\\subprocess\\\\__init__.py'>,\n",
       " 'jedi.inference.imports': <module 'jedi.inference.imports' from 'D:\\\\Users\\\\Partha.bora\\\\Anaconda3\\\\lib\\\\site-packages\\\\jedi\\\\inference\\\\imports.py'>,\n",
       " 'jedi.inference.param': <module 'jedi.inference.param' from 'D:\\\\Users\\\\Partha.bora\\\\Anaconda3\\\\lib\\\\site-packages\\\\jedi\\\\inference\\\\param.py'>,\n",
       " 'jedi.inference.gradual.annotation': <module 'jedi.inference.gradual.annotation' from 'D:\\\\Users\\\\Partha.bora\\\\Anaconda3\\\\lib\\\\site-packages\\\\jedi\\\\inference\\\\gradual\\\\annotation.py'>,\n",
       " 'jedi.inference.value.decorator': <module 'jedi.inference.value.decorator' from 'D:\\\\Users\\\\Partha.bora\\\\Anaconda3\\\\lib\\\\site-packages\\\\jedi\\\\inference\\\\value\\\\decorator.py'>,\n",
       " 'jedi.inference.syntax_tree': <module 'jedi.inference.syntax_tree' from 'D:\\\\Users\\\\Partha.bora\\\\Anaconda3\\\\lib\\\\site-packages\\\\jedi\\\\inference\\\\syntax_tree.py'>,\n",
       " 'jedi.inference': <module 'jedi.inference' from 'D:\\\\Users\\\\Partha.bora\\\\Anaconda3\\\\lib\\\\site-packages\\\\jedi\\\\inference\\\\__init__.py'>,\n",
       " 'jedi.inference.gradual.conversion': <module 'jedi.inference.gradual.conversion' from 'D:\\\\Users\\\\Partha.bora\\\\Anaconda3\\\\lib\\\\site-packages\\\\jedi\\\\inference\\\\gradual\\\\conversion.py'>,\n",
       " 'jedi.inference.compiled.mixed': <module 'jedi.inference.compiled.mixed' from 'D:\\\\Users\\\\Partha.bora\\\\Anaconda3\\\\lib\\\\site-packages\\\\jedi\\\\inference\\\\compiled\\\\mixed.py'>,\n",
       " 'pydoc_data': <module 'pydoc_data' from 'D:\\\\Users\\\\Partha.bora\\\\Anaconda3\\\\lib\\\\pydoc_data\\\\__init__.py'>,\n",
       " 'pydoc_data.topics': <module 'pydoc_data.topics' from 'D:\\\\Users\\\\Partha.bora\\\\Anaconda3\\\\lib\\\\pydoc_data\\\\topics.py'>,\n",
       " 'jedi.api.keywords': <module 'jedi.api.keywords' from 'D:\\\\Users\\\\Partha.bora\\\\Anaconda3\\\\lib\\\\site-packages\\\\jedi\\\\api\\\\keywords.py'>,\n",
       " 'jedi.api.completion_cache': <module 'jedi.api.completion_cache' from 'D:\\\\Users\\\\Partha.bora\\\\Anaconda3\\\\lib\\\\site-packages\\\\jedi\\\\api\\\\completion_cache.py'>,\n",
       " 'jedi.api.helpers': <module 'jedi.api.helpers' from 'D:\\\\Users\\\\Partha.bora\\\\Anaconda3\\\\lib\\\\site-packages\\\\jedi\\\\api\\\\helpers.py'>,\n",
       " 'jedi.api.classes': <module 'jedi.api.classes' from 'D:\\\\Users\\\\Partha.bora\\\\Anaconda3\\\\lib\\\\site-packages\\\\jedi\\\\api\\\\classes.py'>,\n",
       " 'jedi.api.interpreter': <module 'jedi.api.interpreter' from 'D:\\\\Users\\\\Partha.bora\\\\Anaconda3\\\\lib\\\\site-packages\\\\jedi\\\\api\\\\interpreter.py'>,\n",
       " 'jedi.api.strings': <module 'jedi.api.strings' from 'D:\\\\Users\\\\Partha.bora\\\\Anaconda3\\\\lib\\\\site-packages\\\\jedi\\\\api\\\\strings.py'>,\n",
       " 'jedi.api.file_name': <module 'jedi.api.file_name' from 'D:\\\\Users\\\\Partha.bora\\\\Anaconda3\\\\lib\\\\site-packages\\\\jedi\\\\api\\\\file_name.py'>,\n",
       " 'jedi.inference.docstring_utils': <module 'jedi.inference.docstring_utils' from 'D:\\\\Users\\\\Partha.bora\\\\Anaconda3\\\\lib\\\\site-packages\\\\jedi\\\\inference\\\\docstring_utils.py'>,\n",
       " 'jedi.api.completion': <module 'jedi.api.completion' from 'D:\\\\Users\\\\Partha.bora\\\\Anaconda3\\\\lib\\\\site-packages\\\\jedi\\\\api\\\\completion.py'>,\n",
       " 'filecmp': <module 'filecmp' from 'D:\\\\Users\\\\Partha.bora\\\\Anaconda3\\\\lib\\\\filecmp.py'>,\n",
       " 'jedi.api.environment': <module 'jedi.api.environment' from 'D:\\\\Users\\\\Partha.bora\\\\Anaconda3\\\\lib\\\\site-packages\\\\jedi\\\\api\\\\environment.py'>,\n",
       " 'jedi.inference.references': <module 'jedi.inference.references' from 'D:\\\\Users\\\\Partha.bora\\\\Anaconda3\\\\lib\\\\site-packages\\\\jedi\\\\inference\\\\references.py'>,\n",
       " 'jedi.api.project': <module 'jedi.api.project' from 'D:\\\\Users\\\\Partha.bora\\\\Anaconda3\\\\lib\\\\site-packages\\\\jedi\\\\api\\\\project.py'>,\n",
       " 'jedi.api.errors': <module 'jedi.api.errors' from 'D:\\\\Users\\\\Partha.bora\\\\Anaconda3\\\\lib\\\\site-packages\\\\jedi\\\\api\\\\errors.py'>,\n",
       " 'jedi.api.refactoring': <module 'jedi.api.refactoring' from 'D:\\\\Users\\\\Partha.bora\\\\Anaconda3\\\\lib\\\\site-packages\\\\jedi\\\\api\\\\refactoring\\\\__init__.py'>,\n",
       " 'jedi.api.refactoring.extract': <module 'jedi.api.refactoring.extract' from 'D:\\\\Users\\\\Partha.bora\\\\Anaconda3\\\\lib\\\\site-packages\\\\jedi\\\\api\\\\refactoring\\\\extract.py'>,\n",
       " 'jedi.inference.gradual.utils': <module 'jedi.inference.gradual.utils' from 'D:\\\\Users\\\\Partha.bora\\\\Anaconda3\\\\lib\\\\site-packages\\\\jedi\\\\inference\\\\gradual\\\\utils.py'>,\n",
       " 'jedi.api': <module 'jedi.api' from 'D:\\\\Users\\\\Partha.bora\\\\Anaconda3\\\\lib\\\\site-packages\\\\jedi\\\\api\\\\__init__.py'>,\n",
       " 'jedi.plugins.stdlib': <module 'jedi.plugins.stdlib' from 'D:\\\\Users\\\\Partha.bora\\\\Anaconda3\\\\lib\\\\site-packages\\\\jedi\\\\plugins\\\\stdlib.py'>,\n",
       " 'jedi.plugins.flask': <module 'jedi.plugins.flask' from 'D:\\\\Users\\\\Partha.bora\\\\Anaconda3\\\\lib\\\\site-packages\\\\jedi\\\\plugins\\\\flask.py'>,\n",
       " 'jedi.plugins.pytest': <module 'jedi.plugins.pytest' from 'D:\\\\Users\\\\Partha.bora\\\\Anaconda3\\\\lib\\\\site-packages\\\\jedi\\\\plugins\\\\pytest.py'>,\n",
       " 'jedi.plugins.django': <module 'jedi.plugins.django' from 'D:\\\\Users\\\\Partha.bora\\\\Anaconda3\\\\lib\\\\site-packages\\\\jedi\\\\plugins\\\\django.py'>,\n",
       " 'jedi.plugins.registry': <module 'jedi.plugins.registry' from 'D:\\\\Users\\\\Partha.bora\\\\Anaconda3\\\\lib\\\\site-packages\\\\jedi\\\\plugins\\\\registry.py'>,\n",
       " 'jedi': <module 'jedi' from 'D:\\\\Users\\\\Partha.bora\\\\Anaconda3\\\\lib\\\\site-packages\\\\jedi\\\\__init__.py'>,\n",
       " 'IPython.core.completer': <module 'IPython.core.completer' from 'D:\\\\Users\\\\Partha.bora\\\\Anaconda3\\\\lib\\\\site-packages\\\\IPython\\\\core\\\\completer.py'>,\n",
       " 'IPython.terminal.ptutils': <module 'IPython.terminal.ptutils' from 'D:\\\\Users\\\\Partha.bora\\\\Anaconda3\\\\lib\\\\site-packages\\\\IPython\\\\terminal\\\\ptutils.py'>,\n",
       " 'IPython.lib.clipboard': <module 'IPython.lib.clipboard' from 'D:\\\\Users\\\\Partha.bora\\\\Anaconda3\\\\lib\\\\site-packages\\\\IPython\\\\lib\\\\clipboard.py'>,\n",
       " 'IPython.terminal.shortcuts': <module 'IPython.terminal.shortcuts' from 'D:\\\\Users\\\\Partha.bora\\\\Anaconda3\\\\lib\\\\site-packages\\\\IPython\\\\terminal\\\\shortcuts.py'>,\n",
       " 'concurrent.futures.thread': <module 'concurrent.futures.thread' from 'D:\\\\Users\\\\Partha.bora\\\\Anaconda3\\\\lib\\\\concurrent\\\\futures\\\\thread.py'>,\n",
       " 'IPython.terminal.debugger': <module 'IPython.terminal.debugger' from 'D:\\\\Users\\\\Partha.bora\\\\Anaconda3\\\\lib\\\\site-packages\\\\IPython\\\\terminal\\\\debugger.py'>,\n",
       " 'IPython.terminal.magics': <module 'IPython.terminal.magics' from 'D:\\\\Users\\\\Partha.bora\\\\Anaconda3\\\\lib\\\\site-packages\\\\IPython\\\\terminal\\\\magics.py'>,\n",
       " 'IPython.terminal.pt_inputhooks': <module 'IPython.terminal.pt_inputhooks' from 'D:\\\\Users\\\\Partha.bora\\\\Anaconda3\\\\lib\\\\site-packages\\\\IPython\\\\terminal\\\\pt_inputhooks\\\\__init__.py'>,\n",
       " 'IPython.terminal.prompts': <module 'IPython.terminal.prompts' from 'D:\\\\Users\\\\Partha.bora\\\\Anaconda3\\\\lib\\\\site-packages\\\\IPython\\\\terminal\\\\prompts.py'>,\n",
       " 'IPython.terminal.interactiveshell': <module 'IPython.terminal.interactiveshell' from 'D:\\\\Users\\\\Partha.bora\\\\Anaconda3\\\\lib\\\\site-packages\\\\IPython\\\\terminal\\\\interactiveshell.py'>,\n",
       " 'IPython.core.magics.auto': <module 'IPython.core.magics.auto' from 'D:\\\\Users\\\\Partha.bora\\\\Anaconda3\\\\lib\\\\site-packages\\\\IPython\\\\core\\\\magics\\\\auto.py'>,\n",
       " 'IPython.core.magics.basic': <module 'IPython.core.magics.basic' from 'D:\\\\Users\\\\Partha.bora\\\\Anaconda3\\\\lib\\\\site-packages\\\\IPython\\\\core\\\\magics\\\\basic.py'>,\n",
       " 'email': <module 'email' from 'D:\\\\Users\\\\Partha.bora\\\\Anaconda3\\\\lib\\\\email\\\\__init__.py'>,\n",
       " 'http': <module 'http' from 'D:\\\\Users\\\\Partha.bora\\\\Anaconda3\\\\lib\\\\http\\\\__init__.py'>,\n",
       " 'email.errors': <module 'email.errors' from 'D:\\\\Users\\\\Partha.bora\\\\Anaconda3\\\\lib\\\\email\\\\errors.py'>,\n",
       " 'email.quoprimime': <module 'email.quoprimime' from 'D:\\\\Users\\\\Partha.bora\\\\Anaconda3\\\\lib\\\\email\\\\quoprimime.py'>,\n",
       " 'email.base64mime': <module 'email.base64mime' from 'D:\\\\Users\\\\Partha.bora\\\\Anaconda3\\\\lib\\\\email\\\\base64mime.py'>,\n",
       " 'quopri': <module 'quopri' from 'D:\\\\Users\\\\Partha.bora\\\\Anaconda3\\\\lib\\\\quopri.py'>,\n",
       " 'email.encoders': <module 'email.encoders' from 'D:\\\\Users\\\\Partha.bora\\\\Anaconda3\\\\lib\\\\email\\\\encoders.py'>,\n",
       " 'email.charset': <module 'email.charset' from 'D:\\\\Users\\\\Partha.bora\\\\Anaconda3\\\\lib\\\\email\\\\charset.py'>,\n",
       " 'email.header': <module 'email.header' from 'D:\\\\Users\\\\Partha.bora\\\\Anaconda3\\\\lib\\\\email\\\\header.py'>,\n",
       " 'email._parseaddr': <module 'email._parseaddr' from 'D:\\\\Users\\\\Partha.bora\\\\Anaconda3\\\\lib\\\\email\\\\_parseaddr.py'>,\n",
       " 'email.utils': <module 'email.utils' from 'D:\\\\Users\\\\Partha.bora\\\\Anaconda3\\\\lib\\\\email\\\\utils.py'>,\n",
       " 'email._policybase': <module 'email._policybase' from 'D:\\\\Users\\\\Partha.bora\\\\Anaconda3\\\\lib\\\\email\\\\_policybase.py'>,\n",
       " 'email.feedparser': <module 'email.feedparser' from 'D:\\\\Users\\\\Partha.bora\\\\Anaconda3\\\\lib\\\\email\\\\feedparser.py'>,\n",
       " 'email.parser': <module 'email.parser' from 'D:\\\\Users\\\\Partha.bora\\\\Anaconda3\\\\lib\\\\email\\\\parser.py'>,\n",
       " 'uu': <module 'uu' from 'D:\\\\Users\\\\Partha.bora\\\\Anaconda3\\\\lib\\\\uu.py'>,\n",
       " 'email._encoded_words': <module 'email._encoded_words' from 'D:\\\\Users\\\\Partha.bora\\\\Anaconda3\\\\lib\\\\email\\\\_encoded_words.py'>,\n",
       " 'email.iterators': <module 'email.iterators' from 'D:\\\\Users\\\\Partha.bora\\\\Anaconda3\\\\lib\\\\email\\\\iterators.py'>,\n",
       " 'email.message': <module 'email.message' from 'D:\\\\Users\\\\Partha.bora\\\\Anaconda3\\\\lib\\\\email\\\\message.py'>,\n",
       " 'http.client': <module 'http.client' from 'D:\\\\Users\\\\Partha.bora\\\\Anaconda3\\\\lib\\\\http\\\\client.py'>,\n",
       " 'urllib.response': <module 'urllib.response' from 'D:\\\\Users\\\\Partha.bora\\\\Anaconda3\\\\lib\\\\urllib\\\\response.py'>,\n",
       " 'urllib.error': <module 'urllib.error' from 'D:\\\\Users\\\\Partha.bora\\\\Anaconda3\\\\lib\\\\urllib\\\\error.py'>,\n",
       " 'nturl2path': <module 'nturl2path' from 'D:\\\\Users\\\\Partha.bora\\\\Anaconda3\\\\lib\\\\nturl2path.py'>,\n",
       " 'urllib.request': <module 'urllib.request' from 'D:\\\\Users\\\\Partha.bora\\\\Anaconda3\\\\lib\\\\urllib\\\\request.py'>,\n",
       " 'IPython.core.magics.code': <module 'IPython.core.magics.code' from 'D:\\\\Users\\\\Partha.bora\\\\Anaconda3\\\\lib\\\\site-packages\\\\IPython\\\\core\\\\magics\\\\code.py'>,\n",
       " 'IPython.core.magics.config': <module 'IPython.core.magics.config' from 'D:\\\\Users\\\\Partha.bora\\\\Anaconda3\\\\lib\\\\site-packages\\\\IPython\\\\core\\\\magics\\\\config.py'>,\n",
       " 'IPython.core.magics.display': <module 'IPython.core.magics.display' from 'D:\\\\Users\\\\Partha.bora\\\\Anaconda3\\\\lib\\\\site-packages\\\\IPython\\\\core\\\\magics\\\\display.py'>,\n",
       " 'timeit': <module 'timeit' from 'D:\\\\Users\\\\Partha.bora\\\\Anaconda3\\\\lib\\\\timeit.py'>,\n",
       " '_lsprof': <module '_lsprof' (built-in)>,\n",
       " 'profile': <module 'profile' from 'D:\\\\Users\\\\Partha.bora\\\\Anaconda3\\\\lib\\\\profile.py'>,\n",
       " 'cProfile': <module 'cProfile' from 'D:\\\\Users\\\\Partha.bora\\\\Anaconda3\\\\lib\\\\cProfile.py'>,\n",
       " 'dataclasses': <module 'dataclasses' from 'D:\\\\Users\\\\Partha.bora\\\\Anaconda3\\\\lib\\\\dataclasses.py'>,\n",
       " 'pstats': <module 'pstats' from 'D:\\\\Users\\\\Partha.bora\\\\Anaconda3\\\\lib\\\\pstats.py'>,\n",
       " 'IPython.utils.module_paths': <module 'IPython.utils.module_paths' from 'D:\\\\Users\\\\Partha.bora\\\\Anaconda3\\\\lib\\\\site-packages\\\\IPython\\\\utils\\\\module_paths.py'>,\n",
       " 'IPython.utils.timing': <module 'IPython.utils.timing' from 'D:\\\\Users\\\\Partha.bora\\\\Anaconda3\\\\lib\\\\site-packages\\\\IPython\\\\utils\\\\timing.py'>,\n",
       " 'IPython.core.magics.execution': <module 'IPython.core.magics.execution' from 'D:\\\\Users\\\\Partha.bora\\\\Anaconda3\\\\lib\\\\site-packages\\\\IPython\\\\core\\\\magics\\\\execution.py'>,\n",
       " 'IPython.core.magics.extension': <module 'IPython.core.magics.extension' from 'D:\\\\Users\\\\Partha.bora\\\\Anaconda3\\\\lib\\\\site-packages\\\\IPython\\\\core\\\\magics\\\\extension.py'>,\n",
       " 'IPython.core.magics.history': <module 'IPython.core.magics.history' from 'D:\\\\Users\\\\Partha.bora\\\\Anaconda3\\\\lib\\\\site-packages\\\\IPython\\\\core\\\\magics\\\\history.py'>,\n",
       " 'IPython.core.magics.logging': <module 'IPython.core.magics.logging' from 'D:\\\\Users\\\\Partha.bora\\\\Anaconda3\\\\lib\\\\site-packages\\\\IPython\\\\core\\\\magics\\\\logging.py'>,\n",
       " 'IPython.core.magics.namespace': <module 'IPython.core.magics.namespace' from 'D:\\\\Users\\\\Partha.bora\\\\Anaconda3\\\\lib\\\\site-packages\\\\IPython\\\\core\\\\magics\\\\namespace.py'>,\n",
       " 'IPython.core.magics.osm': <module 'IPython.core.magics.osm' from 'D:\\\\Users\\\\Partha.bora\\\\Anaconda3\\\\lib\\\\site-packages\\\\IPython\\\\core\\\\magics\\\\osm.py'>,\n",
       " 'IPython.core.magics.packaging': <module 'IPython.core.magics.packaging' from 'D:\\\\Users\\\\Partha.bora\\\\Anaconda3\\\\lib\\\\site-packages\\\\IPython\\\\core\\\\magics\\\\packaging.py'>,\n",
       " 'IPython.core.pylabtools': <module 'IPython.core.pylabtools' from 'D:\\\\Users\\\\Partha.bora\\\\Anaconda3\\\\lib\\\\site-packages\\\\IPython\\\\core\\\\pylabtools.py'>,\n",
       " 'IPython.core.magics.pylab': <module 'IPython.core.magics.pylab' from 'D:\\\\Users\\\\Partha.bora\\\\Anaconda3\\\\lib\\\\site-packages\\\\IPython\\\\core\\\\magics\\\\pylab.py'>,\n",
       " 'IPython.lib.backgroundjobs': <module 'IPython.lib.backgroundjobs' from 'D:\\\\Users\\\\Partha.bora\\\\Anaconda3\\\\lib\\\\site-packages\\\\IPython\\\\lib\\\\backgroundjobs.py'>,\n",
       " 'IPython.core.magics.script': <module 'IPython.core.magics.script' from 'D:\\\\Users\\\\Partha.bora\\\\Anaconda3\\\\lib\\\\site-packages\\\\IPython\\\\core\\\\magics\\\\script.py'>,\n",
       " 'IPython.core.magics': <module 'IPython.core.magics' from 'D:\\\\Users\\\\Partha.bora\\\\Anaconda3\\\\lib\\\\site-packages\\\\IPython\\\\core\\\\magics\\\\__init__.py'>,\n",
       " 'IPython.core.shellapp': <module 'IPython.core.shellapp' from 'D:\\\\Users\\\\Partha.bora\\\\Anaconda3\\\\lib\\\\site-packages\\\\IPython\\\\core\\\\shellapp.py'>,\n",
       " 'IPython.extensions': <module 'IPython.extensions' from 'D:\\\\Users\\\\Partha.bora\\\\Anaconda3\\\\lib\\\\site-packages\\\\IPython\\\\extensions\\\\__init__.py'>,\n",
       " 'IPython.extensions.storemagic': <module 'IPython.extensions.storemagic' from 'D:\\\\Users\\\\Partha.bora\\\\Anaconda3\\\\lib\\\\site-packages\\\\IPython\\\\extensions\\\\storemagic.py'>,\n",
       " 'IPython.terminal.ipapp': <module 'IPython.terminal.ipapp' from 'D:\\\\Users\\\\Partha.bora\\\\Anaconda3\\\\lib\\\\site-packages\\\\IPython\\\\terminal\\\\ipapp.py'>,\n",
       " 'IPython.terminal.embed': <module 'IPython.terminal.embed' from 'D:\\\\Users\\\\Partha.bora\\\\Anaconda3\\\\lib\\\\site-packages\\\\IPython\\\\terminal\\\\embed.py'>,\n",
       " 'IPython.utils.frame': <module 'IPython.utils.frame' from 'D:\\\\Users\\\\Partha.bora\\\\Anaconda3\\\\lib\\\\site-packages\\\\IPython\\\\utils\\\\frame.py'>,\n",
       " 'IPython': <module 'IPython' from 'D:\\\\Users\\\\Partha.bora\\\\Anaconda3\\\\lib\\\\site-packages\\\\IPython\\\\__init__.py'>,\n",
       " 'ipykernel.control': <module 'ipykernel.control' from 'D:\\\\Users\\\\Partha.bora\\\\Anaconda3\\\\lib\\\\site-packages\\\\ipykernel\\\\control.py'>,\n",
       " 'ipykernel.heartbeat': <module 'ipykernel.heartbeat' from 'D:\\\\Users\\\\Partha.bora\\\\Anaconda3\\\\lib\\\\site-packages\\\\ipykernel\\\\heartbeat.py'>,\n",
       " 'ipykernel.iostream': <module 'ipykernel.iostream' from 'D:\\\\Users\\\\Partha.bora\\\\Anaconda3\\\\lib\\\\site-packages\\\\ipykernel\\\\iostream.py'>,\n",
       " 'IPython.utils.tokenutil': <module 'IPython.utils.tokenutil' from 'D:\\\\Users\\\\Partha.bora\\\\Anaconda3\\\\lib\\\\site-packages\\\\IPython\\\\utils\\\\tokenutil.py'>,\n",
       " 'ipykernel.jsonutil': <module 'ipykernel.jsonutil' from 'D:\\\\Users\\\\Partha.bora\\\\Anaconda3\\\\lib\\\\site-packages\\\\ipykernel\\\\jsonutil.py'>,\n",
       " 'psutil._common': <module 'psutil._common' from 'D:\\\\Users\\\\Partha.bora\\\\Anaconda3\\\\lib\\\\site-packages\\\\psutil\\\\_common.py'>,\n",
       " 'psutil._compat': <module 'psutil._compat' from 'D:\\\\Users\\\\Partha.bora\\\\Anaconda3\\\\lib\\\\site-packages\\\\psutil\\\\_compat.py'>,\n",
       " 'psutil._psutil_windows': <module 'psutil._psutil_windows' from 'D:\\\\Users\\\\Partha.bora\\\\Anaconda3\\\\lib\\\\site-packages\\\\psutil\\\\_psutil_windows.cp39-win_amd64.pyd'>,\n",
       " 'psutil._pswindows': <module 'psutil._pswindows' from 'D:\\\\Users\\\\Partha.bora\\\\Anaconda3\\\\lib\\\\site-packages\\\\psutil\\\\_pswindows.py'>,\n",
       " 'psutil': <module 'psutil' from 'D:\\\\Users\\\\Partha.bora\\\\Anaconda3\\\\lib\\\\site-packages\\\\psutil\\\\__init__.py'>,\n",
       " 'tornado.locks': <module 'tornado.locks' from 'D:\\\\Users\\\\Partha.bora\\\\Anaconda3\\\\lib\\\\site-packages\\\\tornado\\\\locks.py'>,\n",
       " 'tornado.queues': <module 'tornado.queues' from 'D:\\\\Users\\\\Partha.bora\\\\Anaconda3\\\\lib\\\\site-packages\\\\tornado\\\\queues.py'>,\n",
       " 'ipykernel.kernelbase': <module 'ipykernel.kernelbase' from 'D:\\\\Users\\\\Partha.bora\\\\Anaconda3\\\\lib\\\\site-packages\\\\ipykernel\\\\kernelbase.py'>,\n",
       " 'ipykernel.comm.comm': <module 'ipykernel.comm.comm' from 'D:\\\\Users\\\\Partha.bora\\\\Anaconda3\\\\lib\\\\site-packages\\\\ipykernel\\\\comm\\\\comm.py'>,\n",
       " 'ipykernel.comm.manager': <module 'ipykernel.comm.manager' from 'D:\\\\Users\\\\Partha.bora\\\\Anaconda3\\\\lib\\\\site-packages\\\\ipykernel\\\\comm\\\\manager.py'>,\n",
       " 'ipykernel.comm': <module 'ipykernel.comm' from 'D:\\\\Users\\\\Partha.bora\\\\Anaconda3\\\\lib\\\\site-packages\\\\ipykernel\\\\comm\\\\__init__.py'>,\n",
       " 'ipykernel.compiler': <module 'ipykernel.compiler' from 'D:\\\\Users\\\\Partha.bora\\\\Anaconda3\\\\lib\\\\site-packages\\\\ipykernel\\\\compiler.py'>,\n",
       " 'debugpy._version': <module 'debugpy._version' from 'D:\\\\Users\\\\Partha.bora\\\\Anaconda3\\\\lib\\\\site-packages\\\\debugpy\\\\_version.py'>,\n",
       " 'debugpy.common': <module 'debugpy.common' from 'D:\\\\Users\\\\Partha.bora\\\\Anaconda3\\\\lib\\\\site-packages\\\\debugpy\\\\common\\\\__init__.py'>,\n",
       " 'debugpy.common.json': <module 'debugpy.common.json' from 'D:\\\\Users\\\\Partha.bora\\\\Anaconda3\\\\lib\\\\site-packages\\\\debugpy\\\\common\\\\json.py'>,\n",
       " 'debugpy.common.fmt': <module 'debugpy.common.fmt' from 'D:\\\\Users\\\\Partha.bora\\\\Anaconda3\\\\lib\\\\site-packages\\\\debugpy\\\\common\\\\fmt.py'>,\n",
       " 'debugpy.common.compat': <module 'debugpy.common.compat' from 'D:\\\\Users\\\\Partha.bora\\\\Anaconda3\\\\lib\\\\site-packages\\\\debugpy\\\\common\\\\compat.py'>,\n",
       " 'debugpy': <module 'debugpy' from 'D:\\\\Users\\\\Partha.bora\\\\Anaconda3\\\\lib\\\\site-packages\\\\debugpy\\\\__init__.py'>,\n",
       " 'debugpy._vendored._util': <module 'debugpy._vendored._util' from 'D:\\\\Users\\\\Partha.bora\\\\Anaconda3\\\\lib\\\\site-packages\\\\debugpy\\\\_vendored\\\\_util.py'>,\n",
       " 'debugpy._vendored': <module 'debugpy._vendored' from 'D:\\\\Users\\\\Partha.bora\\\\Anaconda3\\\\lib\\\\site-packages\\\\debugpy\\\\_vendored\\\\__init__.py'>,\n",
       " '_pydevd_bundle': <module '_pydevd_bundle' from 'D:\\\\Users\\\\Partha.bora\\\\Anaconda3\\\\lib\\\\site-packages\\\\debugpy\\\\_vendored\\\\pydevd\\\\_pydevd_bundle\\\\__init__.py'>,\n",
       " 'encodings.ascii': <module 'encodings.ascii' from 'D:\\\\Users\\\\Partha.bora\\\\Anaconda3\\\\lib\\\\encodings\\\\ascii.py'>,\n",
       " 'stringprep': <module 'stringprep' from 'D:\\\\Users\\\\Partha.bora\\\\Anaconda3\\\\lib\\\\stringprep.py'>,\n",
       " 'encodings.idna': <module 'encodings.idna' from 'D:\\\\Users\\\\Partha.bora\\\\Anaconda3\\\\lib\\\\encodings\\\\idna.py'>,\n",
       " '_pydevd_bundle.pydevd_vm_type': <module '_pydevd_bundle.pydevd_vm_type' from 'D:\\\\Users\\\\Partha.bora\\\\Anaconda3\\\\lib\\\\site-packages\\\\debugpy\\\\_vendored\\\\pydevd\\\\_pydevd_bundle\\\\pydevd_vm_type.py'>,\n",
       " '_pydev_imps': <module '_pydev_imps' from 'D:\\\\Users\\\\Partha.bora\\\\Anaconda3\\\\lib\\\\site-packages\\\\debugpy\\\\_vendored\\\\pydevd\\\\_pydev_imps\\\\__init__.py'>,\n",
       " 'xmlrpc': <module 'xmlrpc' from 'D:\\\\Users\\\\Partha.bora\\\\Anaconda3\\\\lib\\\\xmlrpc\\\\__init__.py'>,\n",
       " 'xml.parsers': <module 'xml.parsers' from 'D:\\\\Users\\\\Partha.bora\\\\Anaconda3\\\\lib\\\\xml\\\\parsers\\\\__init__.py'>,\n",
       " 'pyexpat.errors': <module 'pyexpat.errors'>,\n",
       " 'pyexpat.model': <module 'pyexpat.model'>,\n",
       " 'pyexpat': <module 'pyexpat' from 'D:\\\\Users\\\\Partha.bora\\\\Anaconda3\\\\DLLs\\\\pyexpat.pyd'>,\n",
       " 'xml.parsers.expat.model': <module 'pyexpat.model'>,\n",
       " 'xml.parsers.expat.errors': <module 'pyexpat.errors'>,\n",
       " 'xml.parsers.expat': <module 'xml.parsers.expat' from 'D:\\\\Users\\\\Partha.bora\\\\Anaconda3\\\\lib\\\\xml\\\\parsers\\\\expat.py'>,\n",
       " 'gzip': <module 'gzip' from 'D:\\\\Users\\\\Partha.bora\\\\Anaconda3\\\\lib\\\\gzip.py'>,\n",
       " 'xmlrpc.client': <module 'xmlrpc.client' from 'D:\\\\Users\\\\Partha.bora\\\\Anaconda3\\\\lib\\\\xmlrpc\\\\client.py'>,\n",
       " 'socketserver': <module 'socketserver' from 'D:\\\\Users\\\\Partha.bora\\\\Anaconda3\\\\lib\\\\socketserver.py'>,\n",
       " 'http.server': <module 'http.server' from 'D:\\\\Users\\\\Partha.bora\\\\Anaconda3\\\\lib\\\\http\\\\server.py'>,\n",
       " 'xmlrpc.server': <module 'xmlrpc.server' from 'D:\\\\Users\\\\Partha.bora\\\\Anaconda3\\\\lib\\\\xmlrpc\\\\server.py'>,\n",
       " '_pydev_imps._pydev_saved_modules': <module '_pydev_imps._pydev_saved_modules' from 'D:\\\\Users\\\\Partha.bora\\\\Anaconda3\\\\lib\\\\site-packages\\\\debugpy\\\\_vendored\\\\pydevd\\\\_pydev_imps\\\\_pydev_saved_modules.py'>,\n",
       " '_pydevd_bundle.pydevd_constants': <module '_pydevd_bundle.pydevd_constants' from 'D:\\\\Users\\\\Partha.bora\\\\Anaconda3\\\\lib\\\\site-packages\\\\debugpy\\\\_vendored\\\\pydevd\\\\_pydevd_bundle\\\\pydevd_constants.py'>,\n",
       " '_pydev_bundle': <module '_pydev_bundle' from 'D:\\\\Users\\\\Partha.bora\\\\Anaconda3\\\\lib\\\\site-packages\\\\debugpy\\\\_vendored\\\\pydevd\\\\_pydev_bundle\\\\__init__.py'>,\n",
       " '_pydev_runfiles': <module '_pydev_runfiles' from 'D:\\\\Users\\\\Partha.bora\\\\Anaconda3\\\\lib\\\\site-packages\\\\debugpy\\\\_vendored\\\\pydevd\\\\_pydev_runfiles\\\\__init__.py'>,\n",
       " '_pydevd_frame_eval': <module '_pydevd_frame_eval' from 'D:\\\\Users\\\\Partha.bora\\\\Anaconda3\\\\lib\\\\site-packages\\\\debugpy\\\\_vendored\\\\pydevd\\\\_pydevd_frame_eval\\\\__init__.py'>,\n",
       " 'pydev_ipython': <module 'pydev_ipython' from 'D:\\\\Users\\\\Partha.bora\\\\Anaconda3\\\\lib\\\\site-packages\\\\debugpy\\\\_vendored\\\\pydevd\\\\pydev_ipython\\\\__init__.py'>,\n",
       " 'pydevd_concurrency_analyser': <module 'pydevd_concurrency_analyser' from 'D:\\\\Users\\\\Partha.bora\\\\Anaconda3\\\\lib\\\\site-packages\\\\debugpy\\\\_vendored\\\\pydevd\\\\pydevd_concurrency_analyser\\\\__init__.py'>,\n",
       " 'plistlib': <module 'plistlib' from 'D:\\\\Users\\\\Partha.bora\\\\Anaconda3\\\\lib\\\\plistlib.py'>,\n",
       " 'pkg_resources.extern': <module 'pkg_resources.extern' from 'D:\\\\Users\\\\Partha.bora\\\\Anaconda3\\\\lib\\\\site-packages\\\\pkg_resources\\\\extern\\\\__init__.py'>,\n",
       " 'pkg_resources._vendor': <module 'pkg_resources._vendor' from 'D:\\\\Users\\\\Partha.bora\\\\Anaconda3\\\\lib\\\\site-packages\\\\pkg_resources\\\\_vendor\\\\__init__.py'>,\n",
       " 'pkg_resources._vendor.jaraco': <module 'pkg_resources.extern.jaraco' (<pkg_resources.extern.VendorImporter object at 0x00000258EBFF2B20>)>,\n",
       " 'pkg_resources.extern.jaraco': <module 'pkg_resources.extern.jaraco' (<pkg_resources.extern.VendorImporter object at 0x00000258EBFF2B20>)>,\n",
       " 'importlib._common': <module 'importlib._common' from 'D:\\\\Users\\\\Partha.bora\\\\Anaconda3\\\\lib\\\\importlib\\\\_common.py'>,\n",
       " 'importlib.resources': <module 'importlib.resources' from 'D:\\\\Users\\\\Partha.bora\\\\Anaconda3\\\\lib\\\\importlib\\\\resources.py'>,\n",
       " 'pkg_resources._vendor.more_itertools.recipes': <module 'pkg_resources._vendor.more_itertools.recipes' from 'D:\\\\Users\\\\Partha.bora\\\\Anaconda3\\\\lib\\\\site-packages\\\\pkg_resources\\\\_vendor\\\\more_itertools\\\\recipes.py'>,\n",
       " 'pkg_resources._vendor.more_itertools.more': <module 'pkg_resources._vendor.more_itertools.more' from 'D:\\\\Users\\\\Partha.bora\\\\Anaconda3\\\\lib\\\\site-packages\\\\pkg_resources\\\\_vendor\\\\more_itertools\\\\more.py'>,\n",
       " 'pkg_resources._vendor.more_itertools': <module 'pkg_resources.extern.more_itertools' (<pkg_resources.extern.VendorImporter object at 0x00000258EBFF2B20>)>,\n",
       " 'pkg_resources.extern.more_itertools': <module 'pkg_resources.extern.more_itertools' (<pkg_resources.extern.VendorImporter object at 0x00000258EBFF2B20>)>,\n",
       " 'pkg_resources.extern.jaraco.functools': <module 'pkg_resources.extern.jaraco.functools' from 'D:\\\\Users\\\\Partha.bora\\\\Anaconda3\\\\lib\\\\site-packages\\\\pkg_resources\\\\_vendor\\\\jaraco\\\\functools.py'>,\n",
       " 'pkg_resources.extern.jaraco.context': <module 'pkg_resources.extern.jaraco.context' from 'D:\\\\Users\\\\Partha.bora\\\\Anaconda3\\\\lib\\\\site-packages\\\\pkg_resources\\\\_vendor\\\\jaraco\\\\context.py'>,\n",
       " 'pkg_resources.extern.jaraco.text': <module 'pkg_resources.extern.jaraco.text' from 'D:\\\\Users\\\\Partha.bora\\\\Anaconda3\\\\lib\\\\site-packages\\\\pkg_resources\\\\_vendor\\\\jaraco\\\\text\\\\__init__.py'>,\n",
       " 'win32api': <module 'win32api' from 'D:\\\\Users\\\\Partha.bora\\\\Anaconda3\\\\lib\\\\site-packages\\\\win32\\\\win32api.pyd'>,\n",
       " '_win32sysloader': <module '_win32sysloader' from 'D:\\\\Users\\\\Partha.bora\\\\Anaconda3\\\\lib\\\\site-packages\\\\win32\\\\_win32sysloader.pyd'>,\n",
       " 'pywintypes': <module 'pywintypes' (D:\\Users\\Partha.bora\\Anaconda3\\Library\\bin\\pywintypes39.dll)>,\n",
       " 'pythoncom': <module 'pythoncom' (D:\\Users\\Partha.bora\\Anaconda3\\Library\\bin\\pythoncom39.dll)>,\n",
       " 'win32com.gen_py': <module 'win32com.gen_py'>,\n",
       " 'win32com': <module 'win32com' from 'D:\\\\Users\\\\Partha.bora\\\\Anaconda3\\\\lib\\\\site-packages\\\\win32com\\\\__init__.py'>,\n",
       " 'win32com.shell': <module 'win32com.shell' from 'D:\\\\Users\\\\Partha.bora\\\\Anaconda3\\\\lib\\\\site-packages\\\\win32comext\\\\shell\\\\__init__.py'>,\n",
       " 'pkg_resources._vendor.appdirs': <module 'pkg_resources.extern.appdirs' (<pkg_resources.extern.VendorImporter object at 0x00000258EBFF2B20>)>,\n",
       " 'pkg_resources.extern.appdirs': <module 'pkg_resources.extern.appdirs' (<pkg_resources.extern.VendorImporter object at 0x00000258EBFF2B20>)>,\n",
       " 'pkg_resources._vendor.packaging.__about__': <module 'pkg_resources._vendor.packaging.__about__' from 'D:\\\\Users\\\\Partha.bora\\\\Anaconda3\\\\lib\\\\site-packages\\\\pkg_resources\\\\_vendor\\\\packaging\\\\__about__.py'>,\n",
       " 'pkg_resources._vendor.packaging': <module 'pkg_resources.extern.packaging' (<pkg_resources.extern.VendorImporter object at 0x00000258EBFF2B20>)>,\n",
       " 'pkg_resources.extern.packaging': <module 'pkg_resources.extern.packaging' (<pkg_resources.extern.VendorImporter object at 0x00000258EBFF2B20>)>,\n",
       " 'pkg_resources.extern.packaging._structures': <module 'pkg_resources.extern.packaging._structures' from 'D:\\\\Users\\\\Partha.bora\\\\Anaconda3\\\\lib\\\\site-packages\\\\pkg_resources\\\\_vendor\\\\packaging\\\\_structures.py'>,\n",
       " 'pkg_resources.extern.packaging.version': <module 'pkg_resources.extern.packaging.version' from 'D:\\\\Users\\\\Partha.bora\\\\Anaconda3\\\\lib\\\\site-packages\\\\pkg_resources\\\\_vendor\\\\packaging\\\\version.py'>,\n",
       " 'pkg_resources._vendor.packaging._manylinux': <module 'pkg_resources._vendor.packaging._manylinux' from 'D:\\\\Users\\\\Partha.bora\\\\Anaconda3\\\\lib\\\\site-packages\\\\pkg_resources\\\\_vendor\\\\packaging\\\\_manylinux.py'>,\n",
       " 'pkg_resources._vendor.packaging._musllinux': <module 'pkg_resources._vendor.packaging._musllinux' from 'D:\\\\Users\\\\Partha.bora\\\\Anaconda3\\\\lib\\\\site-packages\\\\pkg_resources\\\\_vendor\\\\packaging\\\\_musllinux.py'>,\n",
       " 'pkg_resources.extern.packaging.tags': <module 'pkg_resources.extern.packaging.tags' from 'D:\\\\Users\\\\Partha.bora\\\\Anaconda3\\\\lib\\\\site-packages\\\\pkg_resources\\\\_vendor\\\\packaging\\\\tags.py'>,\n",
       " 'pkg_resources.extern.packaging.utils': <module 'pkg_resources.extern.packaging.utils' from 'D:\\\\Users\\\\Partha.bora\\\\Anaconda3\\\\lib\\\\site-packages\\\\pkg_resources\\\\_vendor\\\\packaging\\\\utils.py'>,\n",
       " 'pkg_resources.extern.packaging.specifiers': <module 'pkg_resources.extern.packaging.specifiers' from 'D:\\\\Users\\\\Partha.bora\\\\Anaconda3\\\\lib\\\\site-packages\\\\pkg_resources\\\\_vendor\\\\packaging\\\\specifiers.py'>,\n",
       " 'pkg_resources._vendor.pyparsing.util': <module 'pkg_resources._vendor.pyparsing.util' from 'D:\\\\Users\\\\Partha.bora\\\\Anaconda3\\\\lib\\\\site-packages\\\\pkg_resources\\\\_vendor\\\\pyparsing\\\\util.py'>,\n",
       " 'pkg_resources._vendor.pyparsing.unicode': <module 'pkg_resources._vendor.pyparsing.unicode' from 'D:\\\\Users\\\\Partha.bora\\\\Anaconda3\\\\lib\\\\site-packages\\\\pkg_resources\\\\_vendor\\\\pyparsing\\\\unicode.py'>,\n",
       " 'pkg_resources._vendor.pyparsing.exceptions': <module 'pkg_resources._vendor.pyparsing.exceptions' from 'D:\\\\Users\\\\Partha.bora\\\\Anaconda3\\\\lib\\\\site-packages\\\\pkg_resources\\\\_vendor\\\\pyparsing\\\\exceptions.py'>,\n",
       " 'pkg_resources._vendor.pyparsing.actions': <module 'pkg_resources._vendor.pyparsing.actions' from 'D:\\\\Users\\\\Partha.bora\\\\Anaconda3\\\\lib\\\\site-packages\\\\pkg_resources\\\\_vendor\\\\pyparsing\\\\actions.py'>,\n",
       " 'pkg_resources._vendor.pyparsing.results': <module 'pkg_resources._vendor.pyparsing.results' from 'D:\\\\Users\\\\Partha.bora\\\\Anaconda3\\\\lib\\\\site-packages\\\\pkg_resources\\\\_vendor\\\\pyparsing\\\\results.py'>,\n",
       " 'pkg_resources._vendor.pyparsing.core': <module 'pkg_resources._vendor.pyparsing.core' from 'D:\\\\Users\\\\Partha.bora\\\\Anaconda3\\\\lib\\\\site-packages\\\\pkg_resources\\\\_vendor\\\\pyparsing\\\\core.py'>,\n",
       " 'pkg_resources._vendor.pyparsing.helpers': <module 'pkg_resources._vendor.pyparsing.helpers' from 'D:\\\\Users\\\\Partha.bora\\\\Anaconda3\\\\lib\\\\site-packages\\\\pkg_resources\\\\_vendor\\\\pyparsing\\\\helpers.py'>,\n",
       " 'pkg_resources._vendor.pyparsing.testing': <module 'pkg_resources._vendor.pyparsing.testing' from 'D:\\\\Users\\\\Partha.bora\\\\Anaconda3\\\\lib\\\\site-packages\\\\pkg_resources\\\\_vendor\\\\pyparsing\\\\testing.py'>,\n",
       " 'pkg_resources._vendor.pyparsing.common': <module 'pkg_resources._vendor.pyparsing.common' from 'D:\\\\Users\\\\Partha.bora\\\\Anaconda3\\\\lib\\\\site-packages\\\\pkg_resources\\\\_vendor\\\\pyparsing\\\\common.py'>,\n",
       " 'pkg_resources._vendor.pyparsing': <module 'pkg_resources.extern.pyparsing' (<pkg_resources.extern.VendorImporter object at 0x00000258EBFF2B20>)>,\n",
       " 'pkg_resources.extern.pyparsing': <module 'pkg_resources.extern.pyparsing' (<pkg_resources.extern.VendorImporter object at 0x00000258EBFF2B20>)>,\n",
       " 'pkg_resources.extern.packaging.markers': <module 'pkg_resources.extern.packaging.markers' from 'D:\\\\Users\\\\Partha.bora\\\\Anaconda3\\\\lib\\\\site-packages\\\\pkg_resources\\\\_vendor\\\\packaging\\\\markers.py'>,\n",
       " 'pkg_resources.extern.packaging.requirements': <module 'pkg_resources.extern.packaging.requirements' from 'D:\\\\Users\\\\Partha.bora\\\\Anaconda3\\\\lib\\\\site-packages\\\\pkg_resources\\\\_vendor\\\\packaging\\\\requirements.py'>,\n",
       " 'pkg_resources': <module 'pkg_resources' from 'D:\\\\Users\\\\Partha.bora\\\\Anaconda3\\\\lib\\\\site-packages\\\\pkg_resources\\\\__init__.py'>,\n",
       " 'pydevd_plugins': <module 'pydevd_plugins' from 'D:\\\\Users\\\\Partha.bora\\\\Anaconda3\\\\lib\\\\site-packages\\\\debugpy\\\\_vendored\\\\pydevd\\\\pydevd_plugins\\\\__init__.py'>,\n",
       " '_pydev_bundle.pydev_log': <module '_pydev_bundle.pydev_log' from 'D:\\\\Users\\\\Partha.bora\\\\Anaconda3\\\\lib\\\\site-packages\\\\debugpy\\\\_vendored\\\\pydevd\\\\_pydev_bundle\\\\pydev_log.py'>,\n",
       " '_pydev_bundle._pydev_filesystem_encoding': <module '_pydev_bundle._pydev_filesystem_encoding' from 'D:\\\\Users\\\\Partha.bora\\\\Anaconda3\\\\lib\\\\site-packages\\\\debugpy\\\\_vendored\\\\pydevd\\\\_pydev_bundle\\\\_pydev_filesystem_encoding.py'>,\n",
       " '_pydevd_bundle.pydevd_comm_constants': <module '_pydevd_bundle.pydevd_comm_constants' from 'D:\\\\Users\\\\Partha.bora\\\\Anaconda3\\\\lib\\\\site-packages\\\\debugpy\\\\_vendored\\\\pydevd\\\\_pydevd_bundle\\\\pydevd_comm_constants.py'>,\n",
       " 'pydevd_file_utils': <module 'pydevd_file_utils' from 'D:\\\\Users\\\\Partha.bora\\\\Anaconda3\\\\lib\\\\site-packages\\\\debugpy\\\\_vendored\\\\pydevd\\\\pydevd_file_utils.py'>,\n",
       " '_pydev_imps._pydev_execfile': <module '_pydev_imps._pydev_execfile' from 'D:\\\\Users\\\\Partha.bora\\\\Anaconda3\\\\lib\\\\site-packages\\\\debugpy\\\\_vendored\\\\pydevd\\\\_pydev_imps\\\\_pydev_execfile.py'>,\n",
       " '_pydevd_bundle.pydevd_exec2': <module '_pydevd_bundle.pydevd_exec2' from 'D:\\\\Users\\\\Partha.bora\\\\Anaconda3\\\\lib\\\\site-packages\\\\debugpy\\\\_vendored\\\\pydevd\\\\_pydevd_bundle\\\\pydevd_exec2.py'>,\n",
       " '_pydev_bundle.pydev_imports': <module '_pydev_bundle.pydev_imports' from 'D:\\\\Users\\\\Partha.bora\\\\Anaconda3\\\\lib\\\\site-packages\\\\debugpy\\\\_vendored\\\\pydevd\\\\_pydev_bundle\\\\pydev_imports.py'>,\n",
       " '_pydev_bundle.pydev_is_thread_alive': <module '_pydev_bundle.pydev_is_thread_alive' from 'D:\\\\Users\\\\Partha.bora\\\\Anaconda3\\\\lib\\\\site-packages\\\\debugpy\\\\_vendored\\\\pydevd\\\\_pydev_bundle\\\\pydev_is_thread_alive.py'>,\n",
       " '_pydev_bundle.pydev_override': <module '_pydev_bundle.pydev_override' from 'D:\\\\Users\\\\Partha.bora\\\\Anaconda3\\\\lib\\\\site-packages\\\\debugpy\\\\_vendored\\\\pydevd\\\\_pydev_bundle\\\\pydev_override.py'>,\n",
       " 'pydevd_plugins.extensions': <module 'pydevd_plugins.extensions' from 'D:\\\\Users\\\\Partha.bora\\\\Anaconda3\\\\lib\\\\site-packages\\\\debugpy\\\\_vendored\\\\pydevd\\\\pydevd_plugins\\\\extensions\\\\__init__.py'>,\n",
       " '_pydevd_bundle.pydevd_extension_utils': <module '_pydevd_bundle.pydevd_extension_utils' from 'D:\\\\Users\\\\Partha.bora\\\\Anaconda3\\\\lib\\\\site-packages\\\\debugpy\\\\_vendored\\\\pydevd\\\\_pydevd_bundle\\\\pydevd_extension_utils.py'>,\n",
       " '_pydevd_bundle.pydevd_frame_utils': <module '_pydevd_bundle.pydevd_frame_utils' from 'D:\\\\Users\\\\Partha.bora\\\\Anaconda3\\\\lib\\\\site-packages\\\\debugpy\\\\_vendored\\\\pydevd\\\\_pydevd_bundle\\\\pydevd_frame_utils.py'>,\n",
       " '_pydevd_bundle.pydevd_filtering': <module '_pydevd_bundle.pydevd_filtering' from 'D:\\\\Users\\\\Partha.bora\\\\Anaconda3\\\\lib\\\\site-packages\\\\debugpy\\\\_vendored\\\\pydevd\\\\_pydevd_bundle\\\\pydevd_filtering.py'>,\n",
       " '_pydevd_bundle.pydevd_io': <module '_pydevd_bundle.pydevd_io' from 'D:\\\\Users\\\\Partha.bora\\\\Anaconda3\\\\lib\\\\site-packages\\\\debugpy\\\\_vendored\\\\pydevd\\\\_pydevd_bundle\\\\pydevd_io.py'>,\n",
       " '_pydevd_bundle.pydevd_utils': <module '_pydevd_bundle.pydevd_utils' from 'D:\\\\Users\\\\Partha.bora\\\\Anaconda3\\\\lib\\\\site-packages\\\\debugpy\\\\_vendored\\\\pydevd\\\\_pydevd_bundle\\\\pydevd_utils.py'>,\n",
       " '_pydev_bundle._pydev_tipper_common': <module '_pydev_bundle._pydev_tipper_common' from 'D:\\\\Users\\\\Partha.bora\\\\Anaconda3\\\\lib\\\\site-packages\\\\debugpy\\\\_vendored\\\\pydevd\\\\_pydev_bundle\\\\_pydev_tipper_common.py'>,\n",
       " '_pydev_bundle._pydev_imports_tipper': <module '_pydev_bundle._pydev_imports_tipper' from 'D:\\\\Users\\\\Partha.bora\\\\Anaconda3\\\\lib\\\\site-packages\\\\debugpy\\\\_vendored\\\\pydevd\\\\_pydev_bundle\\\\_pydev_imports_tipper.py'>,\n",
       " '_pydev_bundle._pydev_calltip_util': <module '_pydev_bundle._pydev_calltip_util' from 'D:\\\\Users\\\\Partha.bora\\\\Anaconda3\\\\lib\\\\site-packages\\\\debugpy\\\\_vendored\\\\pydevd\\\\_pydev_bundle\\\\_pydev_calltip_util.py'>,\n",
       " '_pydevd_bundle.pydevd_safe_repr': <module '_pydevd_bundle.pydevd_safe_repr' from 'D:\\\\Users\\\\Partha.bora\\\\Anaconda3\\\\lib\\\\site-packages\\\\debugpy\\\\_vendored\\\\pydevd\\\\_pydevd_bundle\\\\pydevd_safe_repr.py'>,\n",
       " '_pydevd_bundle.pydevd_resolver': <module '_pydevd_bundle.pydevd_resolver' from 'D:\\\\Users\\\\Partha.bora\\\\Anaconda3\\\\lib\\\\site-packages\\\\debugpy\\\\_vendored\\\\pydevd\\\\_pydevd_bundle\\\\pydevd_resolver.py'>,\n",
       " '_pydevd_bundle.pydevd_extension_api': <module '_pydevd_bundle.pydevd_extension_api' from 'D:\\\\Users\\\\Partha.bora\\\\Anaconda3\\\\lib\\\\site-packages\\\\debugpy\\\\_vendored\\\\pydevd\\\\_pydevd_bundle\\\\pydevd_extension_api.py'>,\n",
       " '_pydevd_bundle.pydevd_xml': <module '_pydevd_bundle.pydevd_xml' from 'D:\\\\Users\\\\Partha.bora\\\\Anaconda3\\\\lib\\\\site-packages\\\\debugpy\\\\_vendored\\\\pydevd\\\\_pydevd_bundle\\\\pydevd_xml.py'>,\n",
       " '_pydevd_bundle.pydevd_dont_trace': <module '_pydevd_bundle.pydevd_dont_trace' from 'D:\\\\Users\\\\Partha.bora\\\\Anaconda3\\\\lib\\\\site-packages\\\\debugpy\\\\_vendored\\\\pydevd\\\\_pydevd_bundle\\\\pydevd_dont_trace.py'>,\n",
       " '_pydevd_frame_eval.vendored': <module '_pydevd_frame_eval.vendored' from 'D:\\\\Users\\\\Partha.bora\\\\Anaconda3\\\\lib\\\\site-packages\\\\debugpy\\\\_vendored\\\\pydevd\\\\_pydevd_frame_eval\\\\vendored\\\\__init__.py'>,\n",
       " '_pydevd_frame_eval.vendored.bytecode.flags': <module '_pydevd_frame_eval.vendored.bytecode.flags' from 'D:\\\\Users\\\\Partha.bora\\\\Anaconda3\\\\lib\\\\site-packages\\\\debugpy\\\\_vendored\\\\pydevd\\\\_pydevd_frame_eval\\\\vendored\\\\bytecode\\\\flags.py'>,\n",
       " '_pydevd_frame_eval.vendored.bytecode.instr': <module '_pydevd_frame_eval.vendored.bytecode.instr' from 'D:\\\\Users\\\\Partha.bora\\\\Anaconda3\\\\lib\\\\site-packages\\\\debugpy\\\\_vendored\\\\pydevd\\\\_pydevd_frame_eval\\\\vendored\\\\bytecode\\\\instr.py'>,\n",
       " '_pydevd_frame_eval.vendored.bytecode.bytecode': <module '_pydevd_frame_eval.vendored.bytecode.bytecode' from 'D:\\\\Users\\\\Partha.bora\\\\Anaconda3\\\\lib\\\\site-packages\\\\debugpy\\\\_vendored\\\\pydevd\\\\_pydevd_frame_eval\\\\vendored\\\\bytecode\\\\bytecode.py'>,\n",
       " '_pydevd_frame_eval.vendored.bytecode.concrete': <module '_pydevd_frame_eval.vendored.bytecode.concrete' from 'D:\\\\Users\\\\Partha.bora\\\\Anaconda3\\\\lib\\\\site-packages\\\\debugpy\\\\_vendored\\\\pydevd\\\\_pydevd_frame_eval\\\\vendored\\\\bytecode\\\\concrete.py'>,\n",
       " '_pydevd_frame_eval.vendored.bytecode.cfg': <module '_pydevd_frame_eval.vendored.bytecode.cfg' from 'D:\\\\Users\\\\Partha.bora\\\\Anaconda3\\\\lib\\\\site-packages\\\\debugpy\\\\_vendored\\\\pydevd\\\\_pydevd_frame_eval\\\\vendored\\\\bytecode\\\\cfg.py'>,\n",
       " '_pydevd_frame_eval.vendored.bytecode': <module '_pydevd_frame_eval.vendored.bytecode' from 'D:\\\\Users\\\\Partha.bora\\\\Anaconda3\\\\lib\\\\site-packages\\\\debugpy\\\\_vendored\\\\pydevd\\\\_pydevd_frame_eval\\\\vendored\\\\bytecode\\\\__init__.py'>,\n",
       " '_pydevd_bundle.pydevd_bytecode_utils': <module '_pydevd_bundle.pydevd_bytecode_utils' from 'D:\\\\Users\\\\Partha.bora\\\\Anaconda3\\\\lib\\\\site-packages\\\\debugpy\\\\_vendored\\\\pydevd\\\\_pydevd_bundle\\\\pydevd_bytecode_utils.py'>,\n",
       " '_pydevd_bundle.pydevd_cython': <module '_pydevd_bundle.pydevd_cython' from 'D:\\\\Users\\\\Partha.bora\\\\Anaconda3\\\\lib\\\\site-packages\\\\debugpy\\\\_vendored\\\\pydevd\\\\_pydevd_bundle\\\\pydevd_cython.cp39-win_amd64.pyd'>,\n",
       " '_pydevd_bundle.pydevd_cython_wrapper': <module '_pydevd_bundle.pydevd_cython_wrapper' from 'D:\\\\Users\\\\Partha.bora\\\\Anaconda3\\\\lib\\\\site-packages\\\\debugpy\\\\_vendored\\\\pydevd\\\\_pydevd_bundle\\\\pydevd_cython_wrapper.py'>,\n",
       " '_pydevd_bundle.pydevd_additional_thread_info': <module '_pydevd_bundle.pydevd_additional_thread_info' from 'D:\\\\Users\\\\Partha.bora\\\\Anaconda3\\\\lib\\\\site-packages\\\\debugpy\\\\_vendored\\\\pydevd\\\\_pydevd_bundle\\\\pydevd_additional_thread_info.py'>,\n",
       " '_pydevd_bundle.pydevd_thread_lifecycle': <module '_pydevd_bundle.pydevd_thread_lifecycle' from 'D:\\\\Users\\\\Partha.bora\\\\Anaconda3\\\\lib\\\\site-packages\\\\debugpy\\\\_vendored\\\\pydevd\\\\_pydevd_bundle\\\\pydevd_thread_lifecycle.py'>,\n",
       " '_pydevd_bundle.pydevd_save_locals': <module '_pydevd_bundle.pydevd_save_locals' from 'D:\\\\Users\\\\Partha.bora\\\\Anaconda3\\\\lib\\\\site-packages\\\\debugpy\\\\_vendored\\\\pydevd\\\\_pydevd_bundle\\\\pydevd_save_locals.py'>,\n",
       " '_pydevd_bundle.pydevd_defaults': <module '_pydevd_bundle.pydevd_defaults' from 'D:\\\\Users\\\\Partha.bora\\\\Anaconda3\\\\lib\\\\site-packages\\\\debugpy\\\\_vendored\\\\pydevd\\\\_pydevd_bundle\\\\pydevd_defaults.py'>,\n",
       " '_pydev_bundle.pydev_monkey': <module '_pydev_bundle.pydev_monkey' from 'D:\\\\Users\\\\Partha.bora\\\\Anaconda3\\\\lib\\\\site-packages\\\\debugpy\\\\_vendored\\\\pydevd\\\\_pydev_bundle\\\\pydev_monkey.py'>,\n",
       " 'pydevd_tracing': <module 'pydevd_tracing' from 'D:\\\\Users\\\\Partha.bora\\\\Anaconda3\\\\lib\\\\site-packages\\\\debugpy\\\\_vendored\\\\pydevd\\\\pydevd_tracing.py'>,\n",
       " '_pydevd_bundle.pydevd_daemon_thread': <module '_pydevd_bundle.pydevd_daemon_thread' from 'D:\\\\Users\\\\Partha.bora\\\\Anaconda3\\\\lib\\\\site-packages\\\\debugpy\\\\_vendored\\\\pydevd\\\\_pydevd_bundle\\\\pydevd_daemon_thread.py'>,\n",
       " '_pydevd_bundle.pydevd_timeout': <module '_pydevd_bundle.pydevd_timeout' from 'D:\\\\Users\\\\Partha.bora\\\\Anaconda3\\\\lib\\\\site-packages\\\\debugpy\\\\_vendored\\\\pydevd\\\\_pydevd_bundle\\\\pydevd_timeout.py'>,\n",
       " '_pydevd_bundle.pydevd_vars': <module '_pydevd_bundle.pydevd_vars' from 'D:\\\\Users\\\\Partha.bora\\\\Anaconda3\\\\lib\\\\site-packages\\\\debugpy\\\\_vendored\\\\pydevd\\\\_pydevd_bundle\\\\pydevd_vars.py'>,\n",
       " '_pydev_bundle.pydev_console_utils': <module '_pydev_bundle.pydev_console_utils' from 'D:\\\\Users\\\\Partha.bora\\\\Anaconda3\\\\lib\\\\site-packages\\\\debugpy\\\\_vendored\\\\pydevd\\\\_pydev_bundle\\\\pydev_console_utils.py'>,\n",
       " '_pydevd_bundle.pydevd_import_class': <module '_pydevd_bundle.pydevd_import_class' from 'D:\\\\Users\\\\Partha.bora\\\\Anaconda3\\\\lib\\\\site-packages\\\\debugpy\\\\_vendored\\\\pydevd\\\\_pydevd_bundle\\\\pydevd_import_class.py'>,\n",
       " '_pydevd_bundle.pydevd_breakpoints': <module '_pydevd_bundle.pydevd_breakpoints' from 'D:\\\\Users\\\\Partha.bora\\\\Anaconda3\\\\lib\\\\site-packages\\\\debugpy\\\\_vendored\\\\pydevd\\\\_pydevd_bundle\\\\pydevd_breakpoints.py'>,\n",
       " '_pydevd_bundle.pydevd_custom_frames': <module '_pydevd_bundle.pydevd_custom_frames' from 'D:\\\\Users\\\\Partha.bora\\\\Anaconda3\\\\lib\\\\site-packages\\\\debugpy\\\\_vendored\\\\pydevd\\\\_pydevd_bundle\\\\pydevd_custom_frames.py'>,\n",
       " '_pydevd_bundle.pydevd_dont_trace_files': <module '_pydevd_bundle.pydevd_dont_trace_files' from 'D:\\\\Users\\\\Partha.bora\\\\Anaconda3\\\\lib\\\\site-packages\\\\debugpy\\\\_vendored\\\\pydevd\\\\_pydevd_bundle\\\\pydevd_dont_trace_files.py'>,\n",
       " '_pydevd_bundle.pydevd_net_command': <module '_pydevd_bundle.pydevd_net_command' from 'D:\\\\Users\\\\Partha.bora\\\\Anaconda3\\\\lib\\\\site-packages\\\\debugpy\\\\_vendored\\\\pydevd\\\\_pydevd_bundle\\\\pydevd_net_command.py'>,\n",
       " '_pydev_bundle.pydev_umd': <module '_pydev_bundle.pydev_umd' from 'D:\\\\Users\\\\Partha.bora\\\\Anaconda3\\\\lib\\\\site-packages\\\\debugpy\\\\_vendored\\\\pydevd\\\\_pydev_bundle\\\\pydev_umd.py'>,\n",
       " 'pydevconsole': <module 'pydevconsole' from 'D:\\\\Users\\\\Partha.bora\\\\Anaconda3\\\\lib\\\\site-packages\\\\debugpy\\\\_vendored\\\\pydevd\\\\pydevconsole.py'>,\n",
       " '_pydev_bundle._pydev_completer': <module '_pydev_bundle._pydev_completer' from 'D:\\\\Users\\\\Partha.bora\\\\Anaconda3\\\\lib\\\\site-packages\\\\debugpy\\\\_vendored\\\\pydevd\\\\_pydev_bundle\\\\_pydev_completer.py'>,\n",
       " '_pydevd_bundle.pydevd_net_command_factory_xml': <module '_pydevd_bundle.pydevd_net_command_factory_xml' from 'D:\\\\Users\\\\Partha.bora\\\\Anaconda3\\\\lib\\\\site-packages\\\\debugpy\\\\_vendored\\\\pydevd\\\\_pydevd_bundle\\\\pydevd_net_command_factory_xml.py'>,\n",
       " '_pydevd_bundle.pydevd_frame': <module '_pydevd_bundle.pydevd_frame' from 'D:\\\\Users\\\\Partha.bora\\\\Anaconda3\\\\lib\\\\site-packages\\\\debugpy\\\\_vendored\\\\pydevd\\\\_pydevd_bundle\\\\pydevd_frame.py'>,\n",
       " '_pydevd_bundle.pydevd_additional_thread_info_regular': <module '_pydevd_bundle.pydevd_additional_thread_info_regular' from 'D:\\\\Users\\\\Partha.bora\\\\Anaconda3\\\\lib\\\\site-packages\\\\debugpy\\\\_vendored\\\\pydevd\\\\_pydevd_bundle\\\\pydevd_additional_thread_info_regular.py'>,\n",
       " '_pydevd_bundle.pydevd_trace_dispatch': <module '_pydevd_bundle.pydevd_trace_dispatch' from 'D:\\\\Users\\\\Partha.bora\\\\Anaconda3\\\\lib\\\\site-packages\\\\debugpy\\\\_vendored\\\\pydevd\\\\_pydevd_bundle\\\\pydevd_trace_dispatch.py'>,\n",
       " '_pydevd_frame_eval.pydevd_frame_eval_main': <module '_pydevd_frame_eval.pydevd_frame_eval_main' from 'D:\\\\Users\\\\Partha.bora\\\\Anaconda3\\\\lib\\\\site-packages\\\\debugpy\\\\_vendored\\\\pydevd\\\\_pydevd_frame_eval\\\\pydevd_frame_eval_main.py'>,\n",
       " '_pydevd_bundle.pydevd_source_mapping': <module '_pydevd_bundle.pydevd_source_mapping' from 'D:\\\\Users\\\\Partha.bora\\\\Anaconda3\\\\lib\\\\site-packages\\\\debugpy\\\\_vendored\\\\pydevd\\\\_pydevd_bundle\\\\pydevd_source_mapping.py'>,\n",
       " 'pydevd_concurrency_analyser.pydevd_thread_wrappers': <module 'pydevd_concurrency_analyser.pydevd_thread_wrappers' from 'D:\\\\Users\\\\Partha.bora\\\\Anaconda3\\\\lib\\\\site-packages\\\\debugpy\\\\_vendored\\\\pydevd\\\\pydevd_concurrency_analyser\\\\pydevd_thread_wrappers.py'>,\n",
       " 'pydevd_concurrency_analyser.pydevd_concurrency_logger': <module 'pydevd_concurrency_analyser.pydevd_concurrency_logger' from 'D:\\\\Users\\\\Partha.bora\\\\Anaconda3\\\\lib\\\\site-packages\\\\debugpy\\\\_vendored\\\\pydevd\\\\pydevd_concurrency_analyser\\\\pydevd_concurrency_logger.py'>,\n",
       " '_pydevd_bundle._debug_adapter': <module '_pydevd_bundle._debug_adapter' from 'D:\\\\Users\\\\Partha.bora\\\\Anaconda3\\\\lib\\\\site-packages\\\\debugpy\\\\_vendored\\\\pydevd\\\\_pydevd_bundle\\\\_debug_adapter\\\\__init__.py'>,\n",
       " '_pydevd_bundle._debug_adapter.pydevd_schema_log': <module '_pydevd_bundle._debug_adapter.pydevd_schema_log' from 'D:\\\\Users\\\\Partha.bora\\\\Anaconda3\\\\lib\\\\site-packages\\\\debugpy\\\\_vendored\\\\pydevd\\\\_pydevd_bundle\\\\_debug_adapter\\\\pydevd_schema_log.py'>,\n",
       " '_pydevd_bundle._debug_adapter.pydevd_base_schema': <module '_pydevd_bundle._debug_adapter.pydevd_base_schema' from 'D:\\\\Users\\\\Partha.bora\\\\Anaconda3\\\\lib\\\\site-packages\\\\debugpy\\\\_vendored\\\\pydevd\\\\_pydevd_bundle\\\\_debug_adapter\\\\pydevd_base_schema.py'>,\n",
       " '_pydevd_bundle._debug_adapter.pydevd_schema': <module '_pydevd_bundle._debug_adapter.pydevd_schema' from 'D:\\\\Users\\\\Partha.bora\\\\Anaconda3\\\\lib\\\\site-packages\\\\debugpy\\\\_vendored\\\\pydevd\\\\_pydevd_bundle\\\\_debug_adapter\\\\pydevd_schema.py'>,\n",
       " '_pydevd_bundle.pydevd_reload': <module '_pydevd_bundle.pydevd_reload' from 'D:\\\\Users\\\\Partha.bora\\\\Anaconda3\\\\lib\\\\site-packages\\\\debugpy\\\\_vendored\\\\pydevd\\\\_pydevd_bundle\\\\pydevd_reload.py'>,\n",
       " '_pydev_bundle.fsnotify': <module '_pydev_bundle.fsnotify' from 'D:\\\\Users\\\\Partha.bora\\\\Anaconda3\\\\lib\\\\site-packages\\\\debugpy\\\\_vendored\\\\pydevd\\\\_pydev_bundle\\\\fsnotify\\\\__init__.py'>,\n",
       " '_pydevd_bundle.pydevd_console': <module '_pydevd_bundle.pydevd_console' from 'D:\\\\Users\\\\Partha.bora\\\\Anaconda3\\\\lib\\\\site-packages\\\\debugpy\\\\_vendored\\\\pydevd\\\\_pydevd_bundle\\\\pydevd_console.py'>,\n",
       " '_pydevd_bundle.pydevd_comm': <module '_pydevd_bundle.pydevd_comm' from 'D:\\\\Users\\\\Partha.bora\\\\Anaconda3\\\\lib\\\\site-packages\\\\debugpy\\\\_vendored\\\\pydevd\\\\_pydevd_bundle\\\\pydevd_comm.py'>,\n",
       " '_pydevd_bundle.pydevd_net_command_factory_json': <module '_pydevd_bundle.pydevd_net_command_factory_json' from 'D:\\\\Users\\\\Partha.bora\\\\Anaconda3\\\\lib\\\\site-packages\\\\debugpy\\\\_vendored\\\\pydevd\\\\_pydevd_bundle\\\\pydevd_net_command_factory_json.py'>,\n",
       " '_pydevd_bundle.pydevd_collect_bytecode_info': <module '_pydevd_bundle.pydevd_collect_bytecode_info' from 'D:\\\\Users\\\\Partha.bora\\\\Anaconda3\\\\lib\\\\site-packages\\\\debugpy\\\\_vendored\\\\pydevd\\\\_pydevd_bundle\\\\pydevd_collect_bytecode_info.py'>,\n",
       " '_pydevd_bundle.pydevd_api': <module '_pydevd_bundle.pydevd_api' from 'D:\\\\Users\\\\Partha.bora\\\\Anaconda3\\\\lib\\\\site-packages\\\\debugpy\\\\_vendored\\\\pydevd\\\\_pydevd_bundle\\\\pydevd_api.py'>,\n",
       " '_pydevd_bundle.pydevd_json_debug_options': <module '_pydevd_bundle.pydevd_json_debug_options' from 'D:\\\\Users\\\\Partha.bora\\\\Anaconda3\\\\lib\\\\site-packages\\\\debugpy\\\\_vendored\\\\pydevd\\\\_pydevd_bundle\\\\pydevd_json_debug_options.py'>,\n",
       " '_pydevd_bundle.pydevd_process_net_command_json': <module '_pydevd_bundle.pydevd_process_net_command_json' from 'D:\\\\Users\\\\Partha.bora\\\\Anaconda3\\\\lib\\\\site-packages\\\\debugpy\\\\_vendored\\\\pydevd\\\\_pydevd_bundle\\\\pydevd_process_net_command_json.py'>,\n",
       " '_pydevd_bundle.pydevd_traceproperty': <module '_pydevd_bundle.pydevd_traceproperty' from 'D:\\\\Users\\\\Partha.bora\\\\Anaconda3\\\\lib\\\\site-packages\\\\debugpy\\\\_vendored\\\\pydevd\\\\_pydevd_bundle\\\\pydevd_traceproperty.py'>,\n",
       " '_pydevd_bundle.pydevd_process_net_command': <module '_pydevd_bundle.pydevd_process_net_command' from 'D:\\\\Users\\\\Partha.bora\\\\Anaconda3\\\\lib\\\\site-packages\\\\debugpy\\\\_vendored\\\\pydevd\\\\_pydevd_bundle\\\\pydevd_process_net_command.py'>,\n",
       " '_pydevd_bundle.pydevd_suspended_frames': <module '_pydevd_bundle.pydevd_suspended_frames' from 'D:\\\\Users\\\\Partha.bora\\\\Anaconda3\\\\lib\\\\site-packages\\\\debugpy\\\\_vendored\\\\pydevd\\\\_pydevd_bundle\\\\pydevd_suspended_frames.py'>,\n",
       " '_pydevd_bundle.pydevd_trace_api': <module '_pydevd_bundle.pydevd_trace_api' from 'D:\\\\Users\\\\Partha.bora\\\\Anaconda3\\\\lib\\\\site-packages\\\\debugpy\\\\_vendored\\\\pydevd\\\\_pydevd_bundle\\\\pydevd_trace_api.py'>,\n",
       " 'pydevd_plugins.django_debug': <module 'pydevd_plugins.django_debug' from 'D:\\\\Users\\\\Partha.bora\\\\Anaconda3\\\\lib\\\\site-packages\\\\debugpy\\\\_vendored\\\\pydevd\\\\pydevd_plugins\\\\django_debug.py'>,\n",
       " 'pydevd_plugins.jinja2_debug': <module 'pydevd_plugins.jinja2_debug' from 'D:\\\\Users\\\\Partha.bora\\\\Anaconda3\\\\lib\\\\site-packages\\\\debugpy\\\\_vendored\\\\pydevd\\\\pydevd_plugins\\\\jinja2_debug.py'>,\n",
       " '_pydevd_bundle.pydevd_plugin_utils': <module '_pydevd_bundle.pydevd_plugin_utils' from 'D:\\\\Users\\\\Partha.bora\\\\Anaconda3\\\\lib\\\\site-packages\\\\debugpy\\\\_vendored\\\\pydevd\\\\_pydevd_bundle\\\\pydevd_plugin_utils.py'>,\n",
       " 'pydevd_plugins.extensions.types': <module 'pydevd_plugins.extensions.types' from 'D:\\\\Users\\\\Partha.bora\\\\Anaconda3\\\\lib\\\\site-packages\\\\debugpy\\\\_vendored\\\\pydevd\\\\pydevd_plugins\\\\extensions\\\\types\\\\__init__.py'>,\n",
       " 'pydevd_plugins.extensions.types.pydevd_helpers': <module 'pydevd_plugins.extensions.types.pydevd_helpers' from 'D:\\\\Users\\\\Partha.bora\\\\Anaconda3\\\\lib\\\\site-packages\\\\debugpy\\\\_vendored\\\\pydevd\\\\pydevd_plugins\\\\extensions\\\\types\\\\pydevd_helpers.py'>,\n",
       " 'pydevd_plugins.extensions.types.pydevd_plugin_numpy_types': <module 'pydevd_plugins.extensions.types.pydevd_plugin_numpy_types' from 'D:\\\\Users\\\\Partha.bora\\\\Anaconda3\\\\lib\\\\site-packages\\\\debugpy\\\\_vendored\\\\pydevd\\\\pydevd_plugins\\\\extensions\\\\types\\\\pydevd_plugin_numpy_types.py'>,\n",
       " 'pydevd_plugins.extensions.types.pydevd_plugins_django_form_str': <module 'pydevd_plugins.extensions.types.pydevd_plugins_django_form_str' from 'D:\\\\Users\\\\Partha.bora\\\\Anaconda3\\\\lib\\\\site-packages\\\\debugpy\\\\_vendored\\\\pydevd\\\\pydevd_plugins\\\\extensions\\\\types\\\\pydevd_plugins_django_form_str.py'>,\n",
       " 'pydevd': <module 'pydevd' from 'D:\\\\Users\\\\Partha.bora\\\\Anaconda3\\\\lib\\\\site-packages\\\\debugpy\\\\_vendored\\\\pydevd\\\\pydevd.py'>,\n",
       " 'debugpy._vendored.force_pydevd': <module 'debugpy._vendored.force_pydevd' from 'D:\\\\Users\\\\Partha.bora\\\\Anaconda3\\\\lib\\\\site-packages\\\\debugpy\\\\_vendored\\\\force_pydevd.py'>,\n",
       " 'debugpy.server': <module 'debugpy.server' from 'D:\\\\Users\\\\Partha.bora\\\\Anaconda3\\\\lib\\\\site-packages\\\\debugpy\\\\server\\\\__init__.py'>,\n",
       " 'debugpy.adapter': <module 'debugpy.adapter' from 'D:\\\\Users\\\\Partha.bora\\\\Anaconda3\\\\lib\\\\site-packages\\\\debugpy\\\\adapter\\\\__init__.py'>,\n",
       " 'debugpy.common.timestamp': <module 'debugpy.common.timestamp' from 'D:\\\\Users\\\\Partha.bora\\\\Anaconda3\\\\lib\\\\site-packages\\\\debugpy\\\\common\\\\timestamp.py'>,\n",
       " 'debugpy.common.util': <module 'debugpy.common.util' from 'D:\\\\Users\\\\Partha.bora\\\\Anaconda3\\\\lib\\\\site-packages\\\\debugpy\\\\common\\\\util.py'>,\n",
       " 'debugpy.common.log': <module 'debugpy.common.log' from 'D:\\\\Users\\\\Partha.bora\\\\Anaconda3\\\\lib\\\\site-packages\\\\debugpy\\\\common\\\\log.py'>,\n",
       " 'debugpy.common.sockets': <module 'debugpy.common.sockets' from 'D:\\\\Users\\\\Partha.bora\\\\Anaconda3\\\\lib\\\\site-packages\\\\debugpy\\\\common\\\\sockets.py'>,\n",
       " 'debugpy.server.api': <module 'debugpy.server.api' from 'D:\\\\Users\\\\Partha.bora\\\\Anaconda3\\\\lib\\\\site-packages\\\\debugpy\\\\server\\\\api.py'>,\n",
       " 'ipykernel.debugger': <module 'ipykernel.debugger' from 'D:\\\\Users\\\\Partha.bora\\\\Anaconda3\\\\lib\\\\site-packages\\\\ipykernel\\\\debugger.py'>,\n",
       " 'packaging.__about__': <module 'packaging.__about__' from 'D:\\\\Users\\\\Partha.bora\\\\Anaconda3\\\\lib\\\\site-packages\\\\packaging\\\\__about__.py'>,\n",
       " 'packaging': <module 'packaging' from 'D:\\\\Users\\\\Partha.bora\\\\Anaconda3\\\\lib\\\\site-packages\\\\packaging\\\\__init__.py'>,\n",
       " 'packaging._structures': <module 'packaging._structures' from 'D:\\\\Users\\\\Partha.bora\\\\Anaconda3\\\\lib\\\\site-packages\\\\packaging\\\\_structures.py'>,\n",
       " 'packaging.version': <module 'packaging.version' from 'D:\\\\Users\\\\Partha.bora\\\\Anaconda3\\\\lib\\\\site-packages\\\\packaging\\\\version.py'>,\n",
       " 'ipykernel.eventloops': <module 'ipykernel.eventloops' from 'D:\\\\Users\\\\Partha.bora\\\\Anaconda3\\\\lib\\\\site-packages\\\\ipykernel\\\\eventloops.py'>,\n",
       " 'IPython.core.payloadpage': <module 'IPython.core.payloadpage' from 'D:\\\\Users\\\\Partha.bora\\\\Anaconda3\\\\lib\\\\site-packages\\\\IPython\\\\core\\\\payloadpage.py'>,\n",
       " 'ipykernel.displayhook': <module 'ipykernel.displayhook' from 'D:\\\\Users\\\\Partha.bora\\\\Anaconda3\\\\lib\\\\site-packages\\\\ipykernel\\\\displayhook.py'>,\n",
       " 'ipykernel.zmqshell': <module 'ipykernel.zmqshell' from 'D:\\\\Users\\\\Partha.bora\\\\Anaconda3\\\\lib\\\\site-packages\\\\ipykernel\\\\zmqshell.py'>,\n",
       " 'ipykernel.ipkernel': <module 'ipykernel.ipkernel' from 'D:\\\\Users\\\\Partha.bora\\\\Anaconda3\\\\lib\\\\site-packages\\\\ipykernel\\\\ipkernel.py'>,\n",
       " 'ipykernel.parentpoller': <module 'ipykernel.parentpoller' from 'D:\\\\Users\\\\Partha.bora\\\\Anaconda3\\\\lib\\\\site-packages\\\\ipykernel\\\\parentpoller.py'>,\n",
       " 'ipykernel.kernelapp': <module 'ipykernel.kernelapp' from 'D:\\\\Users\\\\Partha.bora\\\\Anaconda3\\\\lib\\\\site-packages\\\\ipykernel\\\\kernelapp.py'>,\n",
       " 'ntsecuritycon': <module 'ntsecuritycon' from 'D:\\\\Users\\\\Partha.bora\\\\Anaconda3\\\\lib\\\\site-packages\\\\win32\\\\lib\\\\ntsecuritycon.py'>,\n",
       " 'win32security': <module 'win32security' from 'D:\\\\Users\\\\Partha.bora\\\\Anaconda3\\\\lib\\\\site-packages\\\\win32\\\\win32security.pyd'>,\n",
       " 'faulthandler': <module 'faulthandler' (built-in)>,\n",
       " 'IPython.core.completerlib': <module 'IPython.core.completerlib' from 'D:\\\\Users\\\\Partha.bora\\\\Anaconda3\\\\lib\\\\site-packages\\\\IPython\\\\core\\\\completerlib.py'>,\n",
       " 'storemagic': <module 'storemagic' from 'D:\\\\Users\\\\Partha.bora\\\\Anaconda3\\\\lib\\\\site-packages\\\\IPython\\\\extensions\\\\storemagic.py'>,\n",
       " 'fractions': <module 'fractions' from 'D:\\\\Users\\\\Partha.bora\\\\Anaconda3\\\\lib\\\\fractions.py'>}"
      ]
     },
     "execution_count": 36,
     "metadata": {},
     "output_type": "execute_result"
    }
   ],
   "source": [
    "sys.modules"
   ]
  },
  {
   "cell_type": "code",
   "execution_count": 37,
   "id": "dcd91ca9",
   "metadata": {},
   "outputs": [
    {
     "data": {
      "text/plain": [
       "dict"
      ]
     },
     "execution_count": 37,
     "metadata": {},
     "output_type": "execute_result"
    }
   ],
   "source": [
    "type(sys.modules)"
   ]
  },
  {
   "cell_type": "code",
   "execution_count": 38,
   "id": "f8ad1675",
   "metadata": {},
   "outputs": [
    {
     "data": {
      "text/plain": [
       "<module 'math' (built-in)>"
      ]
     },
     "execution_count": 38,
     "metadata": {},
     "output_type": "execute_result"
    }
   ],
   "source": [
    "sys.modules['math']"
   ]
  },
  {
   "cell_type": "code",
   "execution_count": 39,
   "id": "ad54626c",
   "metadata": {},
   "outputs": [
    {
     "data": {
      "text/plain": [
       "2580879163456"
      ]
     },
     "execution_count": 39,
     "metadata": {},
     "output_type": "execute_result"
    }
   ],
   "source": [
    "id(sys.modules['math'])"
   ]
  },
  {
   "cell_type": "code",
   "execution_count": 40,
   "id": "50fbfc4a",
   "metadata": {},
   "outputs": [
    {
     "data": {
      "text/plain": [
       "{'__name__': 'math',\n",
       " '__doc__': 'This module provides access to the mathematical functions\\ndefined by the C standard.',\n",
       " '__package__': '',\n",
       " '__loader__': _frozen_importlib.BuiltinImporter,\n",
       " '__spec__': ModuleSpec(name='math', loader=<class '_frozen_importlib.BuiltinImporter'>, origin='built-in'),\n",
       " 'acos': <function math.acos(x, /)>,\n",
       " 'acosh': <function math.acosh(x, /)>,\n",
       " 'asin': <function math.asin(x, /)>,\n",
       " 'asinh': <function math.asinh(x, /)>,\n",
       " 'atan': <function math.atan(x, /)>,\n",
       " 'atan2': <function math.atan2(y, x, /)>,\n",
       " 'atanh': <function math.atanh(x, /)>,\n",
       " 'ceil': <function math.ceil(x, /)>,\n",
       " 'copysign': <function math.copysign(x, y, /)>,\n",
       " 'cos': <function math.cos(x, /)>,\n",
       " 'cosh': <function math.cosh(x, /)>,\n",
       " 'degrees': <function math.degrees(x, /)>,\n",
       " 'dist': <function math.dist(p, q, /)>,\n",
       " 'erf': <function math.erf(x, /)>,\n",
       " 'erfc': <function math.erfc(x, /)>,\n",
       " 'exp': <function math.exp(x, /)>,\n",
       " 'expm1': <function math.expm1(x, /)>,\n",
       " 'fabs': <function math.fabs(x, /)>,\n",
       " 'factorial': <function math.factorial(x, /)>,\n",
       " 'floor': <function math.floor(x, /)>,\n",
       " 'fmod': <function math.fmod(x, y, /)>,\n",
       " 'frexp': <function math.frexp(x, /)>,\n",
       " 'fsum': <function math.fsum(seq, /)>,\n",
       " 'gamma': <function math.gamma(x, /)>,\n",
       " 'gcd': <function math.gcd(*integers)>,\n",
       " 'hypot': <function math.hypot>,\n",
       " 'isclose': <function math.isclose(a, b, *, rel_tol=1e-09, abs_tol=0.0)>,\n",
       " 'isfinite': <function math.isfinite(x, /)>,\n",
       " 'isinf': <function math.isinf(x, /)>,\n",
       " 'isnan': <function math.isnan(x, /)>,\n",
       " 'isqrt': <function math.isqrt(n, /)>,\n",
       " 'lcm': <function math.lcm(*integers)>,\n",
       " 'ldexp': <function math.ldexp(x, i, /)>,\n",
       " 'lgamma': <function math.lgamma(x, /)>,\n",
       " 'log': <function math.log>,\n",
       " 'log1p': <function math.log1p(x, /)>,\n",
       " 'log10': <function math.log10(x, /)>,\n",
       " 'log2': <function math.log2(x, /)>,\n",
       " 'modf': <function math.modf(x, /)>,\n",
       " 'pow': <function math.pow(x, y, /)>,\n",
       " 'radians': <function math.radians(x, /)>,\n",
       " 'remainder': <function math.remainder(x, y, /)>,\n",
       " 'sin': <function math.sin(x, /)>,\n",
       " 'sinh': <function math.sinh(x, /)>,\n",
       " 'sqrt': <function math.sqrt(x, /)>,\n",
       " 'tan': <function math.tan(x, /)>,\n",
       " 'tanh': <function math.tanh(x, /)>,\n",
       " 'trunc': <function math.trunc(x, /)>,\n",
       " 'prod': <function math.prod(iterable, /, *, start=1)>,\n",
       " 'perm': <function math.perm(n, k=None, /)>,\n",
       " 'comb': <function math.comb(n, k, /)>,\n",
       " 'nextafter': <function math.nextafter(x, y, /)>,\n",
       " 'ulp': <function math.ulp(x, /)>,\n",
       " 'pi': 3.141592653589793,\n",
       " 'e': 2.718281828459045,\n",
       " 'tau': 6.283185307179586,\n",
       " 'inf': inf,\n",
       " 'nan': nan}"
      ]
     },
     "execution_count": 40,
     "metadata": {},
     "output_type": "execute_result"
    }
   ],
   "source": [
    "math.__dict__\n"
   ]
  },
  {
   "cell_type": "code",
   "execution_count": 41,
   "id": "a2ee7bb3",
   "metadata": {},
   "outputs": [],
   "source": [
    "f = math.__dict__['sqrt']"
   ]
  },
  {
   "cell_type": "code",
   "execution_count": 42,
   "id": "0f90382e",
   "metadata": {},
   "outputs": [
    {
     "data": {
      "text/plain": [
       "1.4142135623730951"
      ]
     },
     "execution_count": 42,
     "metadata": {},
     "output_type": "execute_result"
    }
   ],
   "source": [
    "f(2)"
   ]
  },
  {
   "cell_type": "code",
   "execution_count": 43,
   "id": "a0909e3d",
   "metadata": {},
   "outputs": [],
   "source": [
    "import fractions"
   ]
  },
  {
   "cell_type": "code",
   "execution_count": 44,
   "id": "fada9ffb",
   "metadata": {},
   "outputs": [
    {
     "data": {
      "text/plain": [
       "<module 'fractions' from 'D:\\\\Users\\\\Partha.bora\\\\Anaconda3\\\\lib\\\\fractions.py'>"
      ]
     },
     "execution_count": 44,
     "metadata": {},
     "output_type": "execute_result"
    }
   ],
   "source": [
    "sys.modules['fractions']"
   ]
  },
  {
   "cell_type": "code",
   "execution_count": 45,
   "id": "5c29839b",
   "metadata": {},
   "outputs": [
    {
     "data": {
      "text/plain": [
       "['Decimal',\n",
       " 'Fraction',\n",
       " '_PyHASH_INF',\n",
       " '_PyHASH_MODULUS',\n",
       " '_RATIONAL_FORMAT',\n",
       " '__all__',\n",
       " '__builtins__',\n",
       " '__cached__',\n",
       " '__doc__',\n",
       " '__file__',\n",
       " '__loader__',\n",
       " '__name__',\n",
       " '__package__',\n",
       " '__spec__',\n",
       " 'math',\n",
       " 'numbers',\n",
       " 'operator',\n",
       " 're',\n",
       " 'sys']"
      ]
     },
     "execution_count": 45,
     "metadata": {},
     "output_type": "execute_result"
    }
   ],
   "source": [
    "dir(fractions)"
   ]
  },
  {
   "cell_type": "code",
   "execution_count": 46,
   "id": "65f49780",
   "metadata": {},
   "outputs": [
    {
     "data": {
      "text/plain": [
       "{'__name__': 'fractions',\n",
       " '__doc__': 'Fraction, infinite-precision, real numbers.',\n",
       " '__package__': '',\n",
       " '__loader__': <_frozen_importlib_external.SourceFileLoader at 0x258ec8080a0>,\n",
       " '__spec__': ModuleSpec(name='fractions', loader=<_frozen_importlib_external.SourceFileLoader object at 0x00000258EC8080A0>, origin='D:\\\\Users\\\\Partha.bora\\\\Anaconda3\\\\lib\\\\fractions.py'),\n",
       " '__file__': 'D:\\\\Users\\\\Partha.bora\\\\Anaconda3\\\\lib\\\\fractions.py',\n",
       " '__cached__': 'D:\\\\Users\\\\Partha.bora\\\\Anaconda3\\\\lib\\\\__pycache__\\\\fractions.cpython-39.pyc',\n",
       " '__builtins__': {'__name__': 'builtins',\n",
       "  '__doc__': \"Built-in functions, exceptions, and other objects.\\n\\nNoteworthy: None is the `nil' object; Ellipsis represents `...' in slices.\",\n",
       "  '__package__': '',\n",
       "  '__loader__': _frozen_importlib.BuiltinImporter,\n",
       "  '__spec__': ModuleSpec(name='builtins', loader=<class '_frozen_importlib.BuiltinImporter'>, origin='built-in'),\n",
       "  '__build_class__': <function __build_class__>,\n",
       "  '__import__': <function __import__>,\n",
       "  'abs': <function abs(x, /)>,\n",
       "  'all': <function all(iterable, /)>,\n",
       "  'any': <function any(iterable, /)>,\n",
       "  'ascii': <function ascii(obj, /)>,\n",
       "  'bin': <function bin(number, /)>,\n",
       "  'breakpoint': <function breakpoint>,\n",
       "  'callable': <function callable(obj, /)>,\n",
       "  'chr': <function chr(i, /)>,\n",
       "  'compile': <function compile(source, filename, mode, flags=0, dont_inherit=False, optimize=-1, *, _feature_version=-1)>,\n",
       "  'delattr': <function delattr(obj, name, /)>,\n",
       "  'dir': <function dir>,\n",
       "  'divmod': <function divmod(x, y, /)>,\n",
       "  'eval': <function eval(source, globals=None, locals=None, /)>,\n",
       "  'exec': <function exec(source, globals=None, locals=None, /)>,\n",
       "  'format': <function format(value, format_spec='', /)>,\n",
       "  'getattr': <function getattr>,\n",
       "  'globals': <function globals()>,\n",
       "  'hasattr': <function hasattr(obj, name, /)>,\n",
       "  'hash': <function hash(obj, /)>,\n",
       "  'hex': <function hex(number, /)>,\n",
       "  'id': <function id(obj, /)>,\n",
       "  'input': <bound method Kernel.raw_input of <ipykernel.ipkernel.IPythonKernel object at 0x00000258EC4853D0>>,\n",
       "  'isinstance': <function isinstance(obj, class_or_tuple, /)>,\n",
       "  'issubclass': <function issubclass(cls, class_or_tuple, /)>,\n",
       "  'iter': <function iter>,\n",
       "  'len': <function len(obj, /)>,\n",
       "  'locals': <function locals()>,\n",
       "  'max': <function max>,\n",
       "  'min': <function min>,\n",
       "  'next': <function next>,\n",
       "  'oct': <function oct(number, /)>,\n",
       "  'ord': <function ord(c, /)>,\n",
       "  'pow': <function pow(base, exp, mod=None)>,\n",
       "  'print': <function print>,\n",
       "  'repr': <function repr(obj, /)>,\n",
       "  'round': <function round(number, ndigits=None)>,\n",
       "  'setattr': <function setattr(obj, name, value, /)>,\n",
       "  'sorted': <function sorted(iterable, /, *, key=None, reverse=False)>,\n",
       "  'sum': <function sum(iterable, /, start=0)>,\n",
       "  'vars': <function vars>,\n",
       "  'None': None,\n",
       "  'Ellipsis': Ellipsis,\n",
       "  'NotImplemented': NotImplemented,\n",
       "  'False': False,\n",
       "  'True': True,\n",
       "  'bool': bool,\n",
       "  'memoryview': memoryview,\n",
       "  'bytearray': bytearray,\n",
       "  'bytes': bytes,\n",
       "  'classmethod': classmethod,\n",
       "  'complex': complex,\n",
       "  'dict': dict,\n",
       "  'enumerate': enumerate,\n",
       "  'filter': filter,\n",
       "  'float': float,\n",
       "  'frozenset': frozenset,\n",
       "  'property': property,\n",
       "  'int': int,\n",
       "  'list': list,\n",
       "  'map': map,\n",
       "  'object': object,\n",
       "  'range': range,\n",
       "  'reversed': reversed,\n",
       "  'set': set,\n",
       "  'slice': slice,\n",
       "  'staticmethod': staticmethod,\n",
       "  'str': str,\n",
       "  'super': super,\n",
       "  'tuple': tuple,\n",
       "  'type': type,\n",
       "  'zip': zip,\n",
       "  '__debug__': True,\n",
       "  'BaseException': BaseException,\n",
       "  'Exception': Exception,\n",
       "  'TypeError': TypeError,\n",
       "  'StopAsyncIteration': StopAsyncIteration,\n",
       "  'StopIteration': StopIteration,\n",
       "  'GeneratorExit': GeneratorExit,\n",
       "  'SystemExit': SystemExit,\n",
       "  'KeyboardInterrupt': KeyboardInterrupt,\n",
       "  'ImportError': ImportError,\n",
       "  'ModuleNotFoundError': ModuleNotFoundError,\n",
       "  'OSError': OSError,\n",
       "  'EnvironmentError': OSError,\n",
       "  'IOError': OSError,\n",
       "  'WindowsError': OSError,\n",
       "  'EOFError': EOFError,\n",
       "  'RuntimeError': RuntimeError,\n",
       "  'RecursionError': RecursionError,\n",
       "  'NotImplementedError': NotImplementedError,\n",
       "  'NameError': NameError,\n",
       "  'UnboundLocalError': UnboundLocalError,\n",
       "  'AttributeError': AttributeError,\n",
       "  'SyntaxError': SyntaxError,\n",
       "  'IndentationError': IndentationError,\n",
       "  'TabError': TabError,\n",
       "  'LookupError': LookupError,\n",
       "  'IndexError': IndexError,\n",
       "  'KeyError': KeyError,\n",
       "  'ValueError': ValueError,\n",
       "  'UnicodeError': UnicodeError,\n",
       "  'UnicodeEncodeError': UnicodeEncodeError,\n",
       "  'UnicodeDecodeError': UnicodeDecodeError,\n",
       "  'UnicodeTranslateError': UnicodeTranslateError,\n",
       "  'AssertionError': AssertionError,\n",
       "  'ArithmeticError': ArithmeticError,\n",
       "  'FloatingPointError': FloatingPointError,\n",
       "  'OverflowError': OverflowError,\n",
       "  'ZeroDivisionError': ZeroDivisionError,\n",
       "  'SystemError': SystemError,\n",
       "  'ReferenceError': ReferenceError,\n",
       "  'MemoryError': MemoryError,\n",
       "  'BufferError': BufferError,\n",
       "  'Warning': Warning,\n",
       "  'UserWarning': UserWarning,\n",
       "  'DeprecationWarning': DeprecationWarning,\n",
       "  'PendingDeprecationWarning': PendingDeprecationWarning,\n",
       "  'SyntaxWarning': SyntaxWarning,\n",
       "  'RuntimeWarning': RuntimeWarning,\n",
       "  'FutureWarning': FutureWarning,\n",
       "  'ImportWarning': ImportWarning,\n",
       "  'UnicodeWarning': UnicodeWarning,\n",
       "  'BytesWarning': BytesWarning,\n",
       "  'ResourceWarning': ResourceWarning,\n",
       "  'ConnectionError': ConnectionError,\n",
       "  'BlockingIOError': BlockingIOError,\n",
       "  'BrokenPipeError': BrokenPipeError,\n",
       "  'ChildProcessError': ChildProcessError,\n",
       "  'ConnectionAbortedError': ConnectionAbortedError,\n",
       "  'ConnectionRefusedError': ConnectionRefusedError,\n",
       "  'ConnectionResetError': ConnectionResetError,\n",
       "  'FileExistsError': FileExistsError,\n",
       "  'FileNotFoundError': FileNotFoundError,\n",
       "  'IsADirectoryError': IsADirectoryError,\n",
       "  'NotADirectoryError': NotADirectoryError,\n",
       "  'InterruptedError': InterruptedError,\n",
       "  'PermissionError': PermissionError,\n",
       "  'ProcessLookupError': ProcessLookupError,\n",
       "  'TimeoutError': TimeoutError,\n",
       "  'open': <function io.open(file, mode='r', buffering=-1, encoding=None, errors=None, newline=None, closefd=True, opener=None)>,\n",
       "  'copyright': Copyright (c) 2001-2022 Python Software Foundation.\n",
       "  All Rights Reserved.\n",
       "  \n",
       "  Copyright (c) 2000 BeOpen.com.\n",
       "  All Rights Reserved.\n",
       "  \n",
       "  Copyright (c) 1995-2001 Corporation for National Research Initiatives.\n",
       "  All Rights Reserved.\n",
       "  \n",
       "  Copyright (c) 1991-1995 Stichting Mathematisch Centrum, Amsterdam.\n",
       "  All Rights Reserved.,\n",
       "  'credits':     Thanks to CWI, CNRI, BeOpen.com, Zope Corporation and a cast of thousands\n",
       "      for supporting Python development.  See www.python.org for more information.,\n",
       "  'license': See https://www.python.org/psf/license/,\n",
       "  'help': Type help() for interactive help, or help(object) for help about object.,\n",
       "  'execfile': <function _pydev_imps._pydev_execfile.execfile(file, glob=None, loc=None)>,\n",
       "  'runfile': <function _pydev_bundle.pydev_umd.runfile(filename, args=None, wdir=None, namespace=None)>,\n",
       "  '__IPYTHON__': True,\n",
       "  'display': <function IPython.core.display.display(*objs, include=None, exclude=None, metadata=None, transient=None, display_id=None, **kwargs)>,\n",
       "  'get_ipython': <bound method InteractiveShell.get_ipython of <ipykernel.zmqshell.ZMQInteractiveShell object at 0x00000258EC485460>>},\n",
       " 'Decimal': decimal.Decimal,\n",
       " 'math': <module 'math' (built-in)>,\n",
       " 'numbers': <module 'numbers' from 'D:\\\\Users\\\\Partha.bora\\\\Anaconda3\\\\lib\\\\numbers.py'>,\n",
       " 'operator': <module 'operator' from 'D:\\\\Users\\\\Partha.bora\\\\Anaconda3\\\\lib\\\\operator.py'>,\n",
       " 're': <module 're' from 'D:\\\\Users\\\\Partha.bora\\\\Anaconda3\\\\lib\\\\re.py'>,\n",
       " 'sys': <module 'sys' (built-in)>,\n",
       " '__all__': ['Fraction'],\n",
       " '_PyHASH_MODULUS': 2305843009213693951,\n",
       " '_PyHASH_INF': 314159,\n",
       " '_RATIONAL_FORMAT': re.compile(r'\\n    \\A\\s*                      # optional whitespace at the start, then\\n    (?P<sign>[-+]?)            # an optional sign, then\\n    (?=\\d|\\.\\d)                # lookahead for digit or .digit\\n    (?P<num>\\d*)               # numerator (possibly empty)\\n    (?:                        # followed by\\n       (?:/(?P<denom>\\d+))?    # an optional denominator\\n    |                          # or\\n       (?:\\.(?P<decimal>\\d*))? # an optional fractional part\\n       (?:E(?P<exp>[-+]?\\d+))? # and optional exponent\\n    )\\n    \\s*\\Z                      # and optional whitespace to finish\\n',\n",
       " re.IGNORECASE|re.UNICODE|re.VERBOSE),\n",
       " 'Fraction': fractions.Fraction}"
      ]
     },
     "execution_count": 46,
     "metadata": {},
     "output_type": "execute_result"
    }
   ],
   "source": [
    "fractions.__dict__\n"
   ]
  },
  {
   "cell_type": "code",
   "execution_count": 47,
   "id": "65d7b6f7",
   "metadata": {},
   "outputs": [],
   "source": [
    "import calendar"
   ]
  },
  {
   "cell_type": "code",
   "execution_count": 48,
   "id": "ecaeb2a1",
   "metadata": {},
   "outputs": [
    {
     "data": {
      "text/plain": [
       "<module 'calendar' from 'D:\\\\Users\\\\Partha.bora\\\\Anaconda3\\\\lib\\\\calendar.py'>"
      ]
     },
     "execution_count": 48,
     "metadata": {},
     "output_type": "execute_result"
    }
   ],
   "source": [
    "calendar"
   ]
  },
  {
   "cell_type": "code",
   "execution_count": 50,
   "id": "6cf3ee01",
   "metadata": {},
   "outputs": [
    {
     "data": {
      "text/plain": [
       "True"
      ]
     },
     "execution_count": 50,
     "metadata": {},
     "output_type": "execute_result"
    }
   ],
   "source": [
    "import types\n",
    "isinstance(fractions, types.ModuleType)"
   ]
  },
  {
   "cell_type": "code",
   "execution_count": 51,
   "id": "9b68ad61",
   "metadata": {},
   "outputs": [],
   "source": [
    "mod = types.ModuleType('test', 'This is a test module')"
   ]
  },
  {
   "cell_type": "code",
   "execution_count": 52,
   "id": "ddd1ea6e",
   "metadata": {},
   "outputs": [
    {
     "data": {
      "text/plain": [
       "True"
      ]
     },
     "execution_count": 52,
     "metadata": {},
     "output_type": "execute_result"
    }
   ],
   "source": [
    "from types import ModuleType\n",
    "isinstance(mod, ModuleType)"
   ]
  },
  {
   "cell_type": "code",
   "execution_count": 56,
   "id": "d1e70591",
   "metadata": {},
   "outputs": [
    {
     "data": {
      "text/plain": [
       "{'__name__': 'test',\n",
       " '__doc__': 'This is a test module',\n",
       " '__package__': None,\n",
       " '__loader__': None,\n",
       " '__spec__': None,\n",
       " 'pi': 3.14}"
      ]
     },
     "execution_count": 56,
     "metadata": {},
     "output_type": "execute_result"
    }
   ],
   "source": [
    "mod.__dict__\n"
   ]
  },
  {
   "cell_type": "code",
   "execution_count": 55,
   "id": "3d97abdf",
   "metadata": {},
   "outputs": [],
   "source": [
    "mod.pi = 3.14"
   ]
  },
  {
   "cell_type": "code",
   "execution_count": 57,
   "id": "4b80bd93",
   "metadata": {},
   "outputs": [],
   "source": [
    "mod.hello = lambda: 'Hello!!!'"
   ]
  },
  {
   "cell_type": "code",
   "execution_count": 58,
   "id": "f0a77e45",
   "metadata": {},
   "outputs": [
    {
     "data": {
      "text/plain": [
       "'Hello!!!'"
      ]
     },
     "execution_count": 58,
     "metadata": {},
     "output_type": "execute_result"
    }
   ],
   "source": [
    "mod.hello()"
   ]
  },
  {
   "cell_type": "code",
   "execution_count": 66,
   "id": "a85d8511",
   "metadata": {},
   "outputs": [],
   "source": [
    "hello = mod.hello"
   ]
  },
  {
   "cell_type": "code",
   "execution_count": 67,
   "id": "d31d81e1",
   "metadata": {},
   "outputs": [
    {
     "data": {
      "text/plain": [
       "True"
      ]
     },
     "execution_count": 67,
     "metadata": {},
     "output_type": "execute_result"
    }
   ],
   "source": [
    "'hello' in globals()"
   ]
  },
  {
   "cell_type": "code",
   "execution_count": 68,
   "id": "c8a79419",
   "metadata": {},
   "outputs": [
    {
     "data": {
      "text/plain": [
       "True"
      ]
     },
     "execution_count": 68,
     "metadata": {},
     "output_type": "execute_result"
    }
   ],
   "source": [
    "'mod' in globals()"
   ]
  },
  {
   "cell_type": "code",
   "execution_count": 69,
   "id": "9c82277e",
   "metadata": {},
   "outputs": [
    {
     "data": {
      "text/plain": [
       "'Hello!!!'"
      ]
     },
     "execution_count": 69,
     "metadata": {},
     "output_type": "execute_result"
    }
   ],
   "source": [
    "hello()"
   ]
  },
  {
   "cell_type": "code",
   "execution_count": 70,
   "id": "7d6396da",
   "metadata": {},
   "outputs": [],
   "source": [
    "import sys\n"
   ]
  },
  {
   "cell_type": "code",
   "execution_count": 71,
   "id": "ce530255",
   "metadata": {},
   "outputs": [
    {
     "data": {
      "text/plain": [
       "'D:\\\\Users\\\\Partha.bora\\\\Anaconda3'"
      ]
     },
     "execution_count": 71,
     "metadata": {},
     "output_type": "execute_result"
    }
   ],
   "source": [
    "sys.prefix"
   ]
  },
  {
   "cell_type": "code",
   "execution_count": 72,
   "id": "49818de8",
   "metadata": {},
   "outputs": [
    {
     "data": {
      "text/plain": [
       "'D:\\\\Users\\\\Partha.bora\\\\Anaconda3'"
      ]
     },
     "execution_count": 72,
     "metadata": {},
     "output_type": "execute_result"
    }
   ],
   "source": [
    "sys.exec_prefix"
   ]
  },
  {
   "cell_type": "code",
   "execution_count": 73,
   "id": "5d6c9d74",
   "metadata": {},
   "outputs": [
    {
     "data": {
      "text/plain": [
       "['C:\\\\Users\\\\Partha.bora\\\\Documents',\n",
       " 'D:\\\\Users\\\\Partha.bora\\\\Anaconda3\\\\python39.zip',\n",
       " 'D:\\\\Users\\\\Partha.bora\\\\Anaconda3\\\\DLLs',\n",
       " 'D:\\\\Users\\\\Partha.bora\\\\Anaconda3\\\\lib',\n",
       " 'D:\\\\Users\\\\Partha.bora\\\\Anaconda3',\n",
       " '',\n",
       " 'C:\\\\Users\\\\Partha.bora\\\\AppData\\\\Roaming\\\\Python\\\\Python39\\\\site-packages',\n",
       " 'D:\\\\Users\\\\Partha.bora\\\\Anaconda3\\\\lib\\\\site-packages',\n",
       " 'D:\\\\Users\\\\Partha.bora\\\\Anaconda3\\\\lib\\\\site-packages\\\\win32',\n",
       " 'D:\\\\Users\\\\Partha.bora\\\\Anaconda3\\\\lib\\\\site-packages\\\\win32\\\\lib',\n",
       " 'D:\\\\Users\\\\Partha.bora\\\\Anaconda3\\\\lib\\\\site-packages\\\\Pythonwin',\n",
       " 'D:\\\\Users\\\\Partha.bora\\\\Anaconda3\\\\lib\\\\site-packages\\\\IPython\\\\extensions',\n",
       " 'C:\\\\Users\\\\Partha.bora\\\\.ipython']"
      ]
     },
     "execution_count": 73,
     "metadata": {},
     "output_type": "execute_result"
    }
   ],
   "source": [
    "sys.path"
   ]
  },
  {
   "cell_type": "code",
   "execution_count": 74,
   "id": "2e55731d",
   "metadata": {},
   "outputs": [
    {
     "data": {
      "text/plain": [
       "<module 'fractions' from 'D:\\\\Users\\\\Partha.bora\\\\Anaconda3\\\\lib\\\\fractions.py'>"
      ]
     },
     "execution_count": 74,
     "metadata": {},
     "output_type": "execute_result"
    }
   ],
   "source": [
    "fractions"
   ]
  },
  {
   "cell_type": "code",
   "execution_count": null,
   "id": "9a1b2a6d",
   "metadata": {},
   "outputs": [],
   "source": [
    "types.moduleType"
   ]
  }
 ],
 "metadata": {
  "kernelspec": {
   "display_name": "Python 3 (ipykernel)",
   "language": "python",
   "name": "python3"
  },
  "language_info": {
   "codemirror_mode": {
    "name": "ipython",
    "version": 3
   },
   "file_extension": ".py",
   "mimetype": "text/x-python",
   "name": "python",
   "nbconvert_exporter": "python",
   "pygments_lexer": "ipython3",
   "version": "3.9.13"
  }
 },
 "nbformat": 4,
 "nbformat_minor": 5
}
